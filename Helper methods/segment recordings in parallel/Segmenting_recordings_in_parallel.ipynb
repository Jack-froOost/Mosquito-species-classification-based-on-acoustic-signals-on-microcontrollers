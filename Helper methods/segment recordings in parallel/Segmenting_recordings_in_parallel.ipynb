{
  "nbformat": 4,
  "nbformat_minor": 0,
  "metadata": {
    "colab": {
      "provenance": []
    },
    "kernelspec": {
      "name": "python3",
      "display_name": "Python 3"
    },
    "language_info": {
      "name": "python"
    }
  },
  "cells": [
    {
      "cell_type": "markdown",
      "source": [
        "### Readme\n",
        "this notebook segmetns each species recordings into 1s segments, discarding the leftover un-complete last segment if it wasn't integer length.\n",
        "\n",
        "it also downsamples the recordings (this is a TinyML project originally) and applies a low-pass filter to prevent any aliasing..."
      ],
      "metadata": {
        "id": "aH4bfCNdPqww"
      }
    },
    {
      "cell_type": "code",
      "execution_count": 1,
      "metadata": {
        "id": "3s3geAuHPMDX"
      },
      "outputs": [],
      "source": [
        "import os\n",
        "import pandas as pd\n",
        "import numpy as np\n",
        "import matplotlib.pyplot as plt\n",
        "from pathlib import Path\n",
        "import shutil\n",
        "\n",
        "\n",
        "import scipy.signal\n",
        "import soundfile as sf"
      ]
    },
    {
      "cell_type": "markdown",
      "source": [
        "#### Source paths"
      ],
      "metadata": {
        "id": "K5-dp3LQQzc7"
      }
    },
    {
      "cell_type": "code",
      "source": [
        "destin = Path('drive/MyDrive/HumBug') #destination of the segmentation directory, where you want each species directory to be saved\n",
        "classes= ['an arabiensis', 'culex pipiens complex', 'an funestus ss', 'ae aegypti', 'background']\n",
        "#create a path object for each class. each class will have it's own folder\n",
        "paths  = {}\n",
        "for c in classes:\n",
        "  paths[c] = destin/c\n",
        "\n",
        "#make sure each file path object directory exist using the pathlib\n",
        "for c,path in paths.items():\n",
        "  path.mkdir(parents=True, exist_ok=True)\n",
        "  if not path.exists():\n",
        "    print(f\"Warning: {path} was not created.\")"
      ],
      "metadata": {
        "id": "OtgZiGBBREZU"
      },
      "execution_count": 2,
      "outputs": []
    },
    {
      "cell_type": "code",
      "source": [
        "#final folder paths\n",
        "folderPaths = [path for path in paths.values()]\n",
        "folderPaths"
      ],
      "metadata": {
        "colab": {
          "base_uri": "https://localhost:8080/"
        },
        "id": "0eyhKoOvRQrz",
        "outputId": "0cb131e8-907e-44a2-92dd-557fe2e157ce"
      },
      "execution_count": 4,
      "outputs": [
        {
          "output_type": "execute_result",
          "data": {
            "text/plain": [
              "[PosixPath('drive/MyDrive/HumBug/an arabiensis'),\n",
              " PosixPath('drive/MyDrive/HumBug/culex pipiens complex'),\n",
              " PosixPath('drive/MyDrive/HumBug/an funestus ss'),\n",
              " PosixPath('drive/MyDrive/HumBug/ae aegypti'),\n",
              " PosixPath('drive/MyDrive/HumBug/background')]"
            ]
          },
          "metadata": {},
          "execution_count": 4
        }
      ]
    },
    {
      "cell_type": "markdown",
      "source": [
        "#### Segmentation of a singal folder"
      ],
      "metadata": {
        "id": "D-oJzT4MRml2"
      }
    },
    {
      "cell_type": "code",
      "source": [
        "def segmentFolder(folder: Path, target_sr=16_000, segment_duration=1):\n",
        "  output_path = folder.parent/'Segmented'/(folder.name+'_seg')\n",
        "  output_path.mkdir(parents=True, exist_ok=True)\n",
        "  excludeFiles = [] #names of files you want to skip ...\n",
        "  print(f\"- Segmenting {folder.name}\")\n",
        "\n",
        "  for i, path in enumerate(folder.iterdir()):\n",
        "    if path.name in excludeFiles:\n",
        "      continue\n",
        "\n",
        "    try:\n",
        "      #slight update on progress\n",
        "      if i%500 == 0:\n",
        "        print(f\"Folder: {folder.name} - Finished: {i}\")\n",
        "\n",
        "      #load path\n",
        "      original_audio, original_sr = sf.read(path)\n",
        "\n",
        "\n",
        "      #low-pass filter and downsample\n",
        "      gcd = np.gcd(original_sr, target_sr)\n",
        "      up = target_sr // gcd\n",
        "      down = original_sr // gcd\n",
        "\n",
        "      resampled_audio = scipy.signal.resample_poly(original_audio, up, down)\n",
        "\n",
        "      #segment into segmentLength segments, than export them into output folder.\n",
        "      segment_samples = target_sr * segment_duration\n",
        "      num_segments = len(resampled_audio) // segment_samples #break last segment.\n",
        "\n",
        "      # Slice and save each segment\n",
        "      for j in range(num_segments):\n",
        "          start = j * segment_samples\n",
        "          end = start + segment_samples\n",
        "          segment = resampled_audio[start:end]\n",
        "\n",
        "          if segment.shape[0] != segment_samples:\n",
        "            print(f'path: {path} - got segment shape of: {segment.shape[0]}')\n",
        "            continue\n",
        "\n",
        "          outputFile = output_path/(path.stem + f'-Segment_{j+1}.wav')\n",
        "          if outputFile.exists():\n",
        "            continue\n",
        "\n",
        "          sf.write(outputFile, segment, target_sr)\n",
        "    except Exception as e:\n",
        "      print(f\"Error processing {path}: {e}\")\n",
        "\n",
        "  print(f\"- {folder.name} is Done.\")"
      ],
      "metadata": {
        "id": "dcWvLNRMRp2y"
      },
      "execution_count": 5,
      "outputs": []
    },
    {
      "cell_type": "markdown",
      "source": [
        "#### Run it in parallel"
      ],
      "metadata": {
        "id": "dHMTA1rYR6uf"
      }
    },
    {
      "cell_type": "code",
      "source": [
        "from concurrent.futures import ProcessPoolExecutor as Executor\n",
        "if __name__ == \"__main__\":\n",
        "  with Executor() as executor:\n",
        "    list(executor.map(segmentFolder, folderPaths))\n"
      ],
      "metadata": {
        "colab": {
          "base_uri": "https://localhost:8080/"
        },
        "id": "2dRryoT_R8Yf",
        "outputId": "b91b92be-cc48-4e00-8563-3eae3b37334d"
      },
      "execution_count": 6,
      "outputs": [
        {
          "output_type": "stream",
          "name": "stdout",
          "text": [
            "- Segmenting an arabiensis- Segmenting culex pipiens complex\n",
            "\n",
            "Folder: an arabiensis - Finished: 0\n",
            "Folder: culex pipiens complex - Finished: 0\n",
            "Folder: an arabiensis - Finished: 500\n",
            "- an arabiensis is Done.\n",
            "- Segmenting an funestus ss\n",
            "Folder: an funestus ss - Finished: 0\n",
            "- an funestus ss is Done.\n",
            "- Segmenting ae aegypti\n",
            "Folder: ae aegypti - Finished: 0\n",
            "- ae aegypti is Done.\n",
            "- Segmenting background\n",
            "Folder: background - Finished: 0\n",
            "Folder: culex pipiens complex - Finished: 500\n",
            "- culex pipiens complex is Done.\n",
            "- background is Done.\n"
          ]
        }
      ]
    }
  ]
}