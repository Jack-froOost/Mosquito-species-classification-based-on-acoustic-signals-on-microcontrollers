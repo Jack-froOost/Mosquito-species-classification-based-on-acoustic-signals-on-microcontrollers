{
  "nbformat": 4,
  "nbformat_minor": 0,
  "metadata": {
    "colab": {
      "provenance": []
    },
    "kernelspec": {
      "name": "python3",
      "display_name": "Python 3"
    },
    "language_info": {
      "name": "python"
    }
  },
  "cells": [
    {
      "cell_type": "markdown",
      "source": [
        "# README\n",
        "this code does a lot of EDA on the data, since the humbug db paper doesn't dive in that deep into it and also it's a bit of a hassle to read really ...\n",
        "\n",
        "it also implements the tinychirp's raw audio transformer on the humbug db data!"
      ],
      "metadata": {
        "id": "7eW7vNt-f-9Z"
      }
    },
    {
      "cell_type": "markdown",
      "source": [
        "### General EDA\n"
      ],
      "metadata": {
        "id": "ruiQpmMnhF0O"
      }
    },
    {
      "cell_type": "code",
      "execution_count": 1,
      "metadata": {
        "colab": {
          "base_uri": "https://localhost:8080/",
          "height": 313
        },
        "id": "5PUpprFLfpI-",
        "outputId": "bd7035a3-72d9-432a-e55a-0ef4bbdca7ef"
      },
      "outputs": [
        {
          "output_type": "execute_result",
          "data": {
            "text/plain": [
              "          id     length          upload_time                          name  \\\n",
              "1878  219949  65.097143  2021-05-23 21:44:00  IFA_17_24_664_background.wav   \n",
              "1879  221103   2.560000  2021-05-23 21:44:00             IFA_17_24_664.wav   \n",
              "1880  221110   2.560000  2021-05-23 21:44:00             IFA_17_25_665.wav   \n",
              "1881  221111   2.560000  2021-05-23 21:44:00             IFA_17_25_665.wav   \n",
              "1882  221149   2.560000  2021-05-23 21:44:00             IFA_17_26_666.wav   \n",
              "\n",
              "      sample_rate  sound_type        species  gender  fed plurality  age  \\\n",
              "1878        44100  background            NaN     NaN  NaN       NaN  NaN   \n",
              "1879        44100    mosquito   ma africanus  Female    f    Single  NaN   \n",
              "1880        44100    mosquito   ma africanus  Female    f    Single  NaN   \n",
              "1881        44100    mosquito   ma africanus  Female    f    Single  NaN   \n",
              "1882        44100    mosquito  an arabiensis  Female    f    Single  NaN   \n",
              "\n",
              "     method mic_type device_type   country            district  province  \\\n",
              "1878    HBN  telinga      tascam  Tanzania  Kilombero District  Morogoro   \n",
              "1879    HBN  telinga      tascam  Tanzania  Kilombero District  Morogoro   \n",
              "1880    HBN  telinga      tascam  Tanzania  Kilombero District  Morogoro   \n",
              "1881    HBN  telinga      tascam  Tanzania  Kilombero District  Morogoro   \n",
              "1882    HBN  telinga      tascam  Tanzania  Kilombero District  Morogoro   \n",
              "\n",
              "        place location_type  \n",
              "1878  Ifakara           cup  \n",
              "1879  Ifakara           cup  \n",
              "1880  Ifakara           cup  \n",
              "1881  Ifakara           cup  \n",
              "1882  Ifakara           cup  "
            ],
            "text/html": [
              "\n",
              "  <div id=\"df-abfcb86a-689e-4aaa-b529-942cddfb6edf\" class=\"colab-df-container\">\n",
              "    <div>\n",
              "<style scoped>\n",
              "    .dataframe tbody tr th:only-of-type {\n",
              "        vertical-align: middle;\n",
              "    }\n",
              "\n",
              "    .dataframe tbody tr th {\n",
              "        vertical-align: top;\n",
              "    }\n",
              "\n",
              "    .dataframe thead th {\n",
              "        text-align: right;\n",
              "    }\n",
              "</style>\n",
              "<table border=\"1\" class=\"dataframe\">\n",
              "  <thead>\n",
              "    <tr style=\"text-align: right;\">\n",
              "      <th></th>\n",
              "      <th>id</th>\n",
              "      <th>length</th>\n",
              "      <th>upload_time</th>\n",
              "      <th>name</th>\n",
              "      <th>sample_rate</th>\n",
              "      <th>sound_type</th>\n",
              "      <th>species</th>\n",
              "      <th>gender</th>\n",
              "      <th>fed</th>\n",
              "      <th>plurality</th>\n",
              "      <th>age</th>\n",
              "      <th>method</th>\n",
              "      <th>mic_type</th>\n",
              "      <th>device_type</th>\n",
              "      <th>country</th>\n",
              "      <th>district</th>\n",
              "      <th>province</th>\n",
              "      <th>place</th>\n",
              "      <th>location_type</th>\n",
              "    </tr>\n",
              "  </thead>\n",
              "  <tbody>\n",
              "    <tr>\n",
              "      <th>1878</th>\n",
              "      <td>219949</td>\n",
              "      <td>65.097143</td>\n",
              "      <td>2021-05-23 21:44:00</td>\n",
              "      <td>IFA_17_24_664_background.wav</td>\n",
              "      <td>44100</td>\n",
              "      <td>background</td>\n",
              "      <td>NaN</td>\n",
              "      <td>NaN</td>\n",
              "      <td>NaN</td>\n",
              "      <td>NaN</td>\n",
              "      <td>NaN</td>\n",
              "      <td>HBN</td>\n",
              "      <td>telinga</td>\n",
              "      <td>tascam</td>\n",
              "      <td>Tanzania</td>\n",
              "      <td>Kilombero District</td>\n",
              "      <td>Morogoro</td>\n",
              "      <td>Ifakara</td>\n",
              "      <td>cup</td>\n",
              "    </tr>\n",
              "    <tr>\n",
              "      <th>1879</th>\n",
              "      <td>221103</td>\n",
              "      <td>2.560000</td>\n",
              "      <td>2021-05-23 21:44:00</td>\n",
              "      <td>IFA_17_24_664.wav</td>\n",
              "      <td>44100</td>\n",
              "      <td>mosquito</td>\n",
              "      <td>ma africanus</td>\n",
              "      <td>Female</td>\n",
              "      <td>f</td>\n",
              "      <td>Single</td>\n",
              "      <td>NaN</td>\n",
              "      <td>HBN</td>\n",
              "      <td>telinga</td>\n",
              "      <td>tascam</td>\n",
              "      <td>Tanzania</td>\n",
              "      <td>Kilombero District</td>\n",
              "      <td>Morogoro</td>\n",
              "      <td>Ifakara</td>\n",
              "      <td>cup</td>\n",
              "    </tr>\n",
              "    <tr>\n",
              "      <th>1880</th>\n",
              "      <td>221110</td>\n",
              "      <td>2.560000</td>\n",
              "      <td>2021-05-23 21:44:00</td>\n",
              "      <td>IFA_17_25_665.wav</td>\n",
              "      <td>44100</td>\n",
              "      <td>mosquito</td>\n",
              "      <td>ma africanus</td>\n",
              "      <td>Female</td>\n",
              "      <td>f</td>\n",
              "      <td>Single</td>\n",
              "      <td>NaN</td>\n",
              "      <td>HBN</td>\n",
              "      <td>telinga</td>\n",
              "      <td>tascam</td>\n",
              "      <td>Tanzania</td>\n",
              "      <td>Kilombero District</td>\n",
              "      <td>Morogoro</td>\n",
              "      <td>Ifakara</td>\n",
              "      <td>cup</td>\n",
              "    </tr>\n",
              "    <tr>\n",
              "      <th>1881</th>\n",
              "      <td>221111</td>\n",
              "      <td>2.560000</td>\n",
              "      <td>2021-05-23 21:44:00</td>\n",
              "      <td>IFA_17_25_665.wav</td>\n",
              "      <td>44100</td>\n",
              "      <td>mosquito</td>\n",
              "      <td>ma africanus</td>\n",
              "      <td>Female</td>\n",
              "      <td>f</td>\n",
              "      <td>Single</td>\n",
              "      <td>NaN</td>\n",
              "      <td>HBN</td>\n",
              "      <td>telinga</td>\n",
              "      <td>tascam</td>\n",
              "      <td>Tanzania</td>\n",
              "      <td>Kilombero District</td>\n",
              "      <td>Morogoro</td>\n",
              "      <td>Ifakara</td>\n",
              "      <td>cup</td>\n",
              "    </tr>\n",
              "    <tr>\n",
              "      <th>1882</th>\n",
              "      <td>221149</td>\n",
              "      <td>2.560000</td>\n",
              "      <td>2021-05-23 21:44:00</td>\n",
              "      <td>IFA_17_26_666.wav</td>\n",
              "      <td>44100</td>\n",
              "      <td>mosquito</td>\n",
              "      <td>an arabiensis</td>\n",
              "      <td>Female</td>\n",
              "      <td>f</td>\n",
              "      <td>Single</td>\n",
              "      <td>NaN</td>\n",
              "      <td>HBN</td>\n",
              "      <td>telinga</td>\n",
              "      <td>tascam</td>\n",
              "      <td>Tanzania</td>\n",
              "      <td>Kilombero District</td>\n",
              "      <td>Morogoro</td>\n",
              "      <td>Ifakara</td>\n",
              "      <td>cup</td>\n",
              "    </tr>\n",
              "  </tbody>\n",
              "</table>\n",
              "</div>\n",
              "    <div class=\"colab-df-buttons\">\n",
              "\n",
              "  <div class=\"colab-df-container\">\n",
              "    <button class=\"colab-df-convert\" onclick=\"convertToInteractive('df-abfcb86a-689e-4aaa-b529-942cddfb6edf')\"\n",
              "            title=\"Convert this dataframe to an interactive table.\"\n",
              "            style=\"display:none;\">\n",
              "\n",
              "  <svg xmlns=\"http://www.w3.org/2000/svg\" height=\"24px\" viewBox=\"0 -960 960 960\">\n",
              "    <path d=\"M120-120v-720h720v720H120Zm60-500h600v-160H180v160Zm220 220h160v-160H400v160Zm0 220h160v-160H400v160ZM180-400h160v-160H180v160Zm440 0h160v-160H620v160ZM180-180h160v-160H180v160Zm440 0h160v-160H620v160Z\"/>\n",
              "  </svg>\n",
              "    </button>\n",
              "\n",
              "  <style>\n",
              "    .colab-df-container {\n",
              "      display:flex;\n",
              "      gap: 12px;\n",
              "    }\n",
              "\n",
              "    .colab-df-convert {\n",
              "      background-color: #E8F0FE;\n",
              "      border: none;\n",
              "      border-radius: 50%;\n",
              "      cursor: pointer;\n",
              "      display: none;\n",
              "      fill: #1967D2;\n",
              "      height: 32px;\n",
              "      padding: 0 0 0 0;\n",
              "      width: 32px;\n",
              "    }\n",
              "\n",
              "    .colab-df-convert:hover {\n",
              "      background-color: #E2EBFA;\n",
              "      box-shadow: 0px 1px 2px rgba(60, 64, 67, 0.3), 0px 1px 3px 1px rgba(60, 64, 67, 0.15);\n",
              "      fill: #174EA6;\n",
              "    }\n",
              "\n",
              "    .colab-df-buttons div {\n",
              "      margin-bottom: 4px;\n",
              "    }\n",
              "\n",
              "    [theme=dark] .colab-df-convert {\n",
              "      background-color: #3B4455;\n",
              "      fill: #D2E3FC;\n",
              "    }\n",
              "\n",
              "    [theme=dark] .colab-df-convert:hover {\n",
              "      background-color: #434B5C;\n",
              "      box-shadow: 0px 1px 3px 1px rgba(0, 0, 0, 0.15);\n",
              "      filter: drop-shadow(0px 1px 2px rgba(0, 0, 0, 0.3));\n",
              "      fill: #FFFFFF;\n",
              "    }\n",
              "  </style>\n",
              "\n",
              "    <script>\n",
              "      const buttonEl =\n",
              "        document.querySelector('#df-abfcb86a-689e-4aaa-b529-942cddfb6edf button.colab-df-convert');\n",
              "      buttonEl.style.display =\n",
              "        google.colab.kernel.accessAllowed ? 'block' : 'none';\n",
              "\n",
              "      async function convertToInteractive(key) {\n",
              "        const element = document.querySelector('#df-abfcb86a-689e-4aaa-b529-942cddfb6edf');\n",
              "        const dataTable =\n",
              "          await google.colab.kernel.invokeFunction('convertToInteractive',\n",
              "                                                    [key], {});\n",
              "        if (!dataTable) return;\n",
              "\n",
              "        const docLinkHtml = 'Like what you see? Visit the ' +\n",
              "          '<a target=\"_blank\" href=https://colab.research.google.com/notebooks/data_table.ipynb>data table notebook</a>'\n",
              "          + ' to learn more about interactive tables.';\n",
              "        element.innerHTML = '';\n",
              "        dataTable['output_type'] = 'display_data';\n",
              "        await google.colab.output.renderOutput(dataTable, element);\n",
              "        const docLink = document.createElement('div');\n",
              "        docLink.innerHTML = docLinkHtml;\n",
              "        element.appendChild(docLink);\n",
              "      }\n",
              "    </script>\n",
              "  </div>\n",
              "\n",
              "\n",
              "    <div id=\"df-1af28341-1bcf-4cf1-b4ac-e1f507b981f2\">\n",
              "      <button class=\"colab-df-quickchart\" onclick=\"quickchart('df-1af28341-1bcf-4cf1-b4ac-e1f507b981f2')\"\n",
              "                title=\"Suggest charts\"\n",
              "                style=\"display:none;\">\n",
              "\n",
              "<svg xmlns=\"http://www.w3.org/2000/svg\" height=\"24px\"viewBox=\"0 0 24 24\"\n",
              "     width=\"24px\">\n",
              "    <g>\n",
              "        <path d=\"M19 3H5c-1.1 0-2 .9-2 2v14c0 1.1.9 2 2 2h14c1.1 0 2-.9 2-2V5c0-1.1-.9-2-2-2zM9 17H7v-7h2v7zm4 0h-2V7h2v10zm4 0h-2v-4h2v4z\"/>\n",
              "    </g>\n",
              "</svg>\n",
              "      </button>\n",
              "\n",
              "<style>\n",
              "  .colab-df-quickchart {\n",
              "      --bg-color: #E8F0FE;\n",
              "      --fill-color: #1967D2;\n",
              "      --hover-bg-color: #E2EBFA;\n",
              "      --hover-fill-color: #174EA6;\n",
              "      --disabled-fill-color: #AAA;\n",
              "      --disabled-bg-color: #DDD;\n",
              "  }\n",
              "\n",
              "  [theme=dark] .colab-df-quickchart {\n",
              "      --bg-color: #3B4455;\n",
              "      --fill-color: #D2E3FC;\n",
              "      --hover-bg-color: #434B5C;\n",
              "      --hover-fill-color: #FFFFFF;\n",
              "      --disabled-bg-color: #3B4455;\n",
              "      --disabled-fill-color: #666;\n",
              "  }\n",
              "\n",
              "  .colab-df-quickchart {\n",
              "    background-color: var(--bg-color);\n",
              "    border: none;\n",
              "    border-radius: 50%;\n",
              "    cursor: pointer;\n",
              "    display: none;\n",
              "    fill: var(--fill-color);\n",
              "    height: 32px;\n",
              "    padding: 0;\n",
              "    width: 32px;\n",
              "  }\n",
              "\n",
              "  .colab-df-quickchart:hover {\n",
              "    background-color: var(--hover-bg-color);\n",
              "    box-shadow: 0 1px 2px rgba(60, 64, 67, 0.3), 0 1px 3px 1px rgba(60, 64, 67, 0.15);\n",
              "    fill: var(--button-hover-fill-color);\n",
              "  }\n",
              "\n",
              "  .colab-df-quickchart-complete:disabled,\n",
              "  .colab-df-quickchart-complete:disabled:hover {\n",
              "    background-color: var(--disabled-bg-color);\n",
              "    fill: var(--disabled-fill-color);\n",
              "    box-shadow: none;\n",
              "  }\n",
              "\n",
              "  .colab-df-spinner {\n",
              "    border: 2px solid var(--fill-color);\n",
              "    border-color: transparent;\n",
              "    border-bottom-color: var(--fill-color);\n",
              "    animation:\n",
              "      spin 1s steps(1) infinite;\n",
              "  }\n",
              "\n",
              "  @keyframes spin {\n",
              "    0% {\n",
              "      border-color: transparent;\n",
              "      border-bottom-color: var(--fill-color);\n",
              "      border-left-color: var(--fill-color);\n",
              "    }\n",
              "    20% {\n",
              "      border-color: transparent;\n",
              "      border-left-color: var(--fill-color);\n",
              "      border-top-color: var(--fill-color);\n",
              "    }\n",
              "    30% {\n",
              "      border-color: transparent;\n",
              "      border-left-color: var(--fill-color);\n",
              "      border-top-color: var(--fill-color);\n",
              "      border-right-color: var(--fill-color);\n",
              "    }\n",
              "    40% {\n",
              "      border-color: transparent;\n",
              "      border-right-color: var(--fill-color);\n",
              "      border-top-color: var(--fill-color);\n",
              "    }\n",
              "    60% {\n",
              "      border-color: transparent;\n",
              "      border-right-color: var(--fill-color);\n",
              "    }\n",
              "    80% {\n",
              "      border-color: transparent;\n",
              "      border-right-color: var(--fill-color);\n",
              "      border-bottom-color: var(--fill-color);\n",
              "    }\n",
              "    90% {\n",
              "      border-color: transparent;\n",
              "      border-bottom-color: var(--fill-color);\n",
              "    }\n",
              "  }\n",
              "</style>\n",
              "\n",
              "      <script>\n",
              "        async function quickchart(key) {\n",
              "          const quickchartButtonEl =\n",
              "            document.querySelector('#' + key + ' button');\n",
              "          quickchartButtonEl.disabled = true;  // To prevent multiple clicks.\n",
              "          quickchartButtonEl.classList.add('colab-df-spinner');\n",
              "          try {\n",
              "            const charts = await google.colab.kernel.invokeFunction(\n",
              "                'suggestCharts', [key], {});\n",
              "          } catch (error) {\n",
              "            console.error('Error during call to suggestCharts:', error);\n",
              "          }\n",
              "          quickchartButtonEl.classList.remove('colab-df-spinner');\n",
              "          quickchartButtonEl.classList.add('colab-df-quickchart-complete');\n",
              "        }\n",
              "        (() => {\n",
              "          let quickchartButtonEl =\n",
              "            document.querySelector('#df-1af28341-1bcf-4cf1-b4ac-e1f507b981f2 button');\n",
              "          quickchartButtonEl.style.display =\n",
              "            google.colab.kernel.accessAllowed ? 'block' : 'none';\n",
              "        })();\n",
              "      </script>\n",
              "    </div>\n",
              "\n",
              "    </div>\n",
              "  </div>\n"
            ],
            "application/vnd.google.colaboratory.intrinsic+json": {
              "type": "dataframe",
              "variable_name": "df_task",
              "repr_error": "0"
            }
          },
          "metadata": {},
          "execution_count": 1
        }
      ],
      "source": [
        "#load the HumBugDB into google colab, do some IDA first.\n",
        "import pandas as pd\n",
        "import numpy as np\n",
        "import matplotlib.pyplot as plt\n",
        "import seaborn as sns\n",
        "\n",
        "\n",
        "df = pd.read_csv('humbugdb_zenodo_0_0_2.csv')\n",
        "# df.head()\n",
        "#so basicly after carefully reading the data\n",
        "#only the country Tanazia is built for classification tasks.(from the HumBug DB paper)\n",
        "df_task = df[(df[\"country\"] == \"Tanzania\") & (df['location_type'] == 'cup')]\n",
        "df_task.head()"
      ]
    },
    {
      "cell_type": "code",
      "source": [
        "#what are all the values of this sound_type column?\n",
        "df_task[\"sound_type\"].unique()"
      ],
      "metadata": {
        "colab": {
          "base_uri": "https://localhost:8080/"
        },
        "id": "omcuqKjSf94-",
        "outputId": "0c8d7e66-dd70-4e8e-d7c0-b0b0b2061659"
      },
      "execution_count": 2,
      "outputs": [
        {
          "output_type": "execute_result",
          "data": {
            "text/plain": [
              "array(['background', 'mosquito'], dtype=object)"
            ]
          },
          "metadata": {},
          "execution_count": 2
        }
      ]
    },
    {
      "cell_type": "code",
      "source": [
        "#let's get the total number of background sound in hours.\n",
        "lengthOfBackGrounds = df[ df[\"sound_type\"] == \"background\" ] [\"length\"]\n",
        "total_background_hours = lengthOfBackGrounds.sum() / (60*60)\n",
        "print(f\"total background hours: {total_background_hours:.2f} hours\") #paper says there's 15 hours, so we're good.\n",
        "\n",
        "lengthOfBackGrounds = df_task[ df_task[\"sound_type\"] == \"background\" ] [\"length\"]\n",
        "total_background_hours = lengthOfBackGrounds.sum() / (60*60)\n",
        "print(f\"background hours of The classification task: {total_background_hours:.2f} hours\") #1.56 hours, pretty good since it's only background stuff"
      ],
      "metadata": {
        "colab": {
          "base_uri": "https://localhost:8080/"
        },
        "id": "b8n0x3bAgwhR",
        "outputId": "51c1b93c-2f53-4ae2-a5a8-818baeebed11"
      },
      "execution_count": 6,
      "outputs": [
        {
          "output_type": "stream",
          "name": "stdout",
          "text": [
            "total background hours: 14.59 hours\n",
            "background hours of The classification task: 1.56 hours\n"
          ]
        }
      ]
    },
    {
      "cell_type": "code",
      "source": [
        "lengthOfBackGrounds = df[ df[\"sound_type\"] == \"mosquito\" ] [\"length\"]\n",
        "total_background_hours = lengthOfBackGrounds.sum() / (60*60)\n",
        "print(f\"total mosquito sounds: {total_background_hours:.2f} hours\")\n",
        "\n",
        "lengthOfBackGrounds = df_task[ df_task[\"sound_type\"] == \"mosquito\" ] [\"length\"]\n",
        "total_background_hours = lengthOfBackGrounds.sum() / (60*60)\n",
        "print(f\"mosquito sounds for classification task: {total_background_hours:.2f} hours\") #of all useable data there's 11.68 that we can use"
      ],
      "metadata": {
        "colab": {
          "base_uri": "https://localhost:8080/"
        },
        "id": "a-rTgSHmg96j",
        "outputId": "6373ffc0-ba77-4d3f-c9f1-618a13693eee"
      },
      "execution_count": 8,
      "outputs": [
        {
          "output_type": "stream",
          "name": "stdout",
          "text": [
            "total mosquito sounds: 18.35 hours\n",
            "mosquito sounds for classification task: 11.68 hours\n"
          ]
        }
      ]
    },
    {
      "cell_type": "code",
      "source": [
        "#given that the sound type is mosquito, how many species are there?\n",
        "species = df[ df[\"sound_type\"] == \"mosquito\" ] [\"species\"] #from mosqutios, give the species of every mosquito\n",
        "print(f\"number of unique species: {len(species.unique())}\") #it can't be 39 ... ? paper says there's only 36.\n",
        "# note that there's a \"nan\" value in the output, so there's 38 classes\n",
        "print(\"all species: \")\n",
        "print(species.unique())\n",
        "\n",
        "#after some reserch, historicly, an gambiae was just a type of group that carry malaria\n",
        "#later then it was known that this is a huge complex type that contains many species,\n",
        "#some of them carry diseases like malaria and some don't, such as \"an gambiae ss\", \"an arabiensis\", \"an coluzzii\" (carries it-not only malaria btw)\n",
        "#while \"an quadriannulatus\" -also a part of an gambiae sl- dosn't carry diseases.\n",
        "\n",
        "#also note that having an gambiae sI(the complex of an gambiae) dosn't make sense if you're having an gambiae without sI or ss | just a repeting species,\n",
        "#now it's down to 37 unique species.\n",
        "#same as having \"an funestus si\" and \"an funestus ss\" and \"an funestus\" without anything, since you mentioned the complex twice.\n",
        "# now we're down to the sweet 36 in the paper. the rest are just stupid naming systems...\n",
        "\n",
        "#I really don't know why they repeated those classes in this way, I had to do a lot of reserch in entomology to understand that\n",
        "\n",
        "print('\\n')\n",
        "species = df_task[ df_task[\"sound_type\"] == \"mosquito\" ] [\"species\"] #out of the usable ones, we have only 18 types\n",
        "\n",
        "print(f\"number of unique species of the classification task: {len(species.unique())}\")\n",
        "print(\"The species of the classification task: \")\n",
        "print(species.unique())"
      ],
      "metadata": {
        "colab": {
          "base_uri": "https://localhost:8080/"
        },
        "id": "H0UUCl37hEgS",
        "outputId": "93a8f1f2-6f3e-4bb4-d83e-43b45da897d1"
      },
      "execution_count": 13,
      "outputs": [
        {
          "output_type": "stream",
          "name": "stdout",
          "text": [
            "number of unique species: 39\n",
            "all species: \n",
            "['ae aegypti' 'ae albopictus' 'an albimanus' 'an arabiensis'\n",
            " 'an atroparvus' 'an coluzzii' 'an dirus' 'an farauti' 'an freeborni'\n",
            " 'an funestus' nan 'an gambiae' 'an merus' 'an minimus'\n",
            " 'an quadriannulatus' 'an sinensis' 'an stephensi'\n",
            " 'culex quinquefasciatus' 'culex tarsalis' 'ma africanus' 'ma uniformis'\n",
            " 'culex pipiens complex' 'an funestus ss' 'an funestus sl' 'an ziemanni'\n",
            " 'an pharoensis' 'an gambiae sl' 'culex tigripes' 'an leesoni'\n",
            " 'an squamosus' 'an coustani' 'an rivulorum' 'coquillettidia sp'\n",
            " 'an maculipalpis' 'an gambiae ss' 'toxorhynchites brevipalpis'\n",
            " 'an harrisoni' 'an maculatus' 'an barbirostris']\n",
            "\n",
            "\n",
            "number of unique species of the classification task: 18\n",
            "The species of the classification task: \n",
            "['ma africanus' 'an arabiensis' 'ma uniformis' 'culex pipiens complex' nan\n",
            " 'an funestus ss' 'an funestus sl' 'an ziemanni' 'an pharoensis'\n",
            " 'an gambiae sl' 'culex tigripes' 'an leesoni' 'ae aegypti' 'an squamosus'\n",
            " 'an coustani' 'an rivulorum' 'coquillettidia sp' 'an maculipalpis']\n"
          ]
        }
      ]
    },
    {
      "cell_type": "code",
      "source": [
        "#now let's querry for every species with the total length that it has\n",
        "mosquitos = df_task[ df_task[\"sound_type\"] == \"mosquito\" ] #all mosquitos\n",
        "total_lengths = mosquitos.groupby(\"species\")[\"length\"].sum() #a Series of each species | its length\n",
        "\n",
        "print(f\"number of mosquito recordings (classification task): {len(mosquitos)} (each recording might contain a lot of k-length segments)\")\n",
        "print(total_lengths, '\\n')\n",
        "\n",
        "#do remember that this is in seconds, anything less then 5min is not that useful,\n",
        "#let's only look at the things with more than 5min\n",
        "total_lengths = total_lengths[total_lengths > 5*60]\n",
        "total_lengths = total_lengths.sort_values(ascending=False) #sort it to be cute\n",
        "print(\"classes with more then 5min of data: (sorted to be cute)\")\n",
        "total_lengths"
      ],
      "metadata": {
        "colab": {
          "base_uri": "https://localhost:8080/",
          "height": 842
        },
        "id": "pP4gaC6niTD5",
        "outputId": "5a0e74ba-3219-4912-fc8a-6df4ab993073"
      },
      "execution_count": 20,
      "outputs": [
        {
          "output_type": "stream",
          "name": "stdout",
          "text": [
            "number of mosquito recordings (classification task): 2582 (each recording might contain a lot of k-length segments)\n",
            "species\n",
            "ae aegypti                1322.44\n",
            "an arabiensis            14815.20\n",
            "an coustani               1140.62\n",
            "an funestus sl            1542.06\n",
            "an funestus ss            7414.24\n",
            "an gambiae sl              406.74\n",
            "an leesoni                  43.46\n",
            "an maculipalpis           2012.98\n",
            "an pharoensis               56.26\n",
            "an rivulorum                 5.12\n",
            "an squamosus              2091.80\n",
            "an ziemanni                110.02\n",
            "coquillettidia sp           25.60\n",
            "culex pipiens complex     8157.76\n",
            "culex tigripes             158.66\n",
            "ma africanus               785.20\n",
            "ma uniformis              1654.58\n",
            "Name: length, dtype: float64 \n",
            "\n",
            "classes with more then 5min of data: (sorted to be cute)\n"
          ]
        },
        {
          "output_type": "execute_result",
          "data": {
            "text/plain": [
              "species\n",
              "an arabiensis            14815.20\n",
              "culex pipiens complex     8157.76\n",
              "an funestus ss            7414.24\n",
              "an squamosus              2091.80\n",
              "an maculipalpis           2012.98\n",
              "ma uniformis              1654.58\n",
              "an funestus sl            1542.06\n",
              "ae aegypti                1322.44\n",
              "an coustani               1140.62\n",
              "ma africanus               785.20\n",
              "an gambiae sl              406.74\n",
              "Name: length, dtype: float64"
            ],
            "text/html": [
              "<div>\n",
              "<style scoped>\n",
              "    .dataframe tbody tr th:only-of-type {\n",
              "        vertical-align: middle;\n",
              "    }\n",
              "\n",
              "    .dataframe tbody tr th {\n",
              "        vertical-align: top;\n",
              "    }\n",
              "\n",
              "    .dataframe thead th {\n",
              "        text-align: right;\n",
              "    }\n",
              "</style>\n",
              "<table border=\"1\" class=\"dataframe\">\n",
              "  <thead>\n",
              "    <tr style=\"text-align: right;\">\n",
              "      <th></th>\n",
              "      <th>length</th>\n",
              "    </tr>\n",
              "    <tr>\n",
              "      <th>species</th>\n",
              "      <th></th>\n",
              "    </tr>\n",
              "  </thead>\n",
              "  <tbody>\n",
              "    <tr>\n",
              "      <th>an arabiensis</th>\n",
              "      <td>14815.20</td>\n",
              "    </tr>\n",
              "    <tr>\n",
              "      <th>culex pipiens complex</th>\n",
              "      <td>8157.76</td>\n",
              "    </tr>\n",
              "    <tr>\n",
              "      <th>an funestus ss</th>\n",
              "      <td>7414.24</td>\n",
              "    </tr>\n",
              "    <tr>\n",
              "      <th>an squamosus</th>\n",
              "      <td>2091.80</td>\n",
              "    </tr>\n",
              "    <tr>\n",
              "      <th>an maculipalpis</th>\n",
              "      <td>2012.98</td>\n",
              "    </tr>\n",
              "    <tr>\n",
              "      <th>ma uniformis</th>\n",
              "      <td>1654.58</td>\n",
              "    </tr>\n",
              "    <tr>\n",
              "      <th>an funestus sl</th>\n",
              "      <td>1542.06</td>\n",
              "    </tr>\n",
              "    <tr>\n",
              "      <th>ae aegypti</th>\n",
              "      <td>1322.44</td>\n",
              "    </tr>\n",
              "    <tr>\n",
              "      <th>an coustani</th>\n",
              "      <td>1140.62</td>\n",
              "    </tr>\n",
              "    <tr>\n",
              "      <th>ma africanus</th>\n",
              "      <td>785.20</td>\n",
              "    </tr>\n",
              "    <tr>\n",
              "      <th>an gambiae sl</th>\n",
              "      <td>406.74</td>\n",
              "    </tr>\n",
              "  </tbody>\n",
              "</table>\n",
              "</div><br><label><b>dtype:</b> float64</label>"
            ]
          },
          "metadata": {},
          "execution_count": 20
        }
      ]
    },
    {
      "cell_type": "code",
      "source": [
        " #to be EVEN MORE cute, let's do a piechart of the total_length Series\n",
        "\n",
        "total_lengths.plot.pie(\n",
        "    autopct='%1.1f%%',\n",
        "    startangle=90,\n",
        "    figsize=(12, 12),\n",
        "    title=\"Total Length by Species\"\n",
        ")\n",
        "\n",
        "plt.ylabel(\"\")\n",
        "plt.show()"
      ],
      "metadata": {
        "colab": {
          "base_uri": "https://localhost:8080/",
          "height": 983
        },
        "id": "7WKgwWVyise7",
        "outputId": "e80a2144-3139-4f2a-cfc2-e2a7355b54ff"
      },
      "execution_count": 21,
      "outputs": [
        {
          "output_type": "display_data",
          "data": {
            "text/plain": [
              "<Figure size 1200x1200 with 1 Axes>"
            ],
            "image/png": "[encoded data removed]"
          },
          "metadata": {}
        }
      ]
    },
    {
      "cell_type": "markdown",
      "source": [
        "### samplerates and microphones used"
      ],
      "metadata": {
        "id": "caQsTnpCjQ4W"
      }
    },
    {
      "cell_type": "code",
      "source": [
        "#now let's talk samplerate\n",
        "samplerates = df[ (df[\"sound_type\"] == \"mosquito\") | (df[\"sound_type\"] == \"background\")]\n",
        "print(f'the unique samplerates in the dataset: {samplerates[\"sample_rate\"].unique()}\\n') #wow, so either 8000 or 44.1 Khz, tf?\n",
        "#let's only check mosquito this time.\n",
        "intrested_mosquitos = df[ (df[\"sound_type\"] == \"mosquito\") & (df['species'].isin(list(total_lengths.index))) ] #of the mosquitos, the ones with species that have total length bigger than 5min, what are the unique sample rates\n",
        "\n",
        "print(f'unique sample rates of each of species: ')\n",
        "intrested_mosquitos.groupby(\"species\")['sample_rate'].unique()\n",
        "\n",
        "#note that I'm really intrested in \"ae aegypti\" since it's in my hometown رياض, and \"an arabiensis\" since it's in saudi in general, and in afreica, also since it's the overwhelming majority of the data\n",
        "#also intrested in \"an funestus ss\" since it has a lot of data and very famous for carrying malaria in africa\n",
        "\n",
        "#sample rate is unfourtinatly not uniform ... this is sub-optimal to say the least"
      ],
      "metadata": {
        "colab": {
          "base_uri": "https://localhost:8080/",
          "height": 512
        },
        "id": "hNhfr5Stiu_1",
        "outputId": "e34e9274-d0b2-4e44-8cc1-9b9b97929f8c"
      },
      "execution_count": 23,
      "outputs": [
        {
          "output_type": "stream",
          "name": "stdout",
          "text": [
            "the unique samplerates in the dataset: [ 8000 44100]\n",
            "\n",
            "unique sample rates of each of species: \n"
          ]
        },
        {
          "output_type": "execute_result",
          "data": {
            "text/plain": [
              "species\n",
              "ae aegypti               [8000, 44100]\n",
              "an arabiensis            [8000, 44100]\n",
              "an coustani                    [44100]\n",
              "an funestus sl                 [44100]\n",
              "an funestus ss                 [44100]\n",
              "an gambiae sl                  [44100]\n",
              "an maculipalpis                [44100]\n",
              "an squamosus                   [44100]\n",
              "culex pipiens complex          [44100]\n",
              "ma africanus                   [44100]\n",
              "ma uniformis                   [44100]\n",
              "Name: sample_rate, dtype: object"
            ],
            "text/html": [
              "<div>\n",
              "<style scoped>\n",
              "    .dataframe tbody tr th:only-of-type {\n",
              "        vertical-align: middle;\n",
              "    }\n",
              "\n",
              "    .dataframe tbody tr th {\n",
              "        vertical-align: top;\n",
              "    }\n",
              "\n",
              "    .dataframe thead th {\n",
              "        text-align: right;\n",
              "    }\n",
              "</style>\n",
              "<table border=\"1\" class=\"dataframe\">\n",
              "  <thead>\n",
              "    <tr style=\"text-align: right;\">\n",
              "      <th></th>\n",
              "      <th>sample_rate</th>\n",
              "    </tr>\n",
              "    <tr>\n",
              "      <th>species</th>\n",
              "      <th></th>\n",
              "    </tr>\n",
              "  </thead>\n",
              "  <tbody>\n",
              "    <tr>\n",
              "      <th>ae aegypti</th>\n",
              "      <td>[8000, 44100]</td>\n",
              "    </tr>\n",
              "    <tr>\n",
              "      <th>an arabiensis</th>\n",
              "      <td>[8000, 44100]</td>\n",
              "    </tr>\n",
              "    <tr>\n",
              "      <th>an coustani</th>\n",
              "      <td>[44100]</td>\n",
              "    </tr>\n",
              "    <tr>\n",
              "      <th>an funestus sl</th>\n",
              "      <td>[44100]</td>\n",
              "    </tr>\n",
              "    <tr>\n",
              "      <th>an funestus ss</th>\n",
              "      <td>[44100]</td>\n",
              "    </tr>\n",
              "    <tr>\n",
              "      <th>an gambiae sl</th>\n",
              "      <td>[44100]</td>\n",
              "    </tr>\n",
              "    <tr>\n",
              "      <th>an maculipalpis</th>\n",
              "      <td>[44100]</td>\n",
              "    </tr>\n",
              "    <tr>\n",
              "      <th>an squamosus</th>\n",
              "      <td>[44100]</td>\n",
              "    </tr>\n",
              "    <tr>\n",
              "      <th>culex pipiens complex</th>\n",
              "      <td>[44100]</td>\n",
              "    </tr>\n",
              "    <tr>\n",
              "      <th>ma africanus</th>\n",
              "      <td>[44100]</td>\n",
              "    </tr>\n",
              "    <tr>\n",
              "      <th>ma uniformis</th>\n",
              "      <td>[44100]</td>\n",
              "    </tr>\n",
              "  </tbody>\n",
              "</table>\n",
              "</div><br><label><b>dtype:</b> object</label>"
            ]
          },
          "metadata": {},
          "execution_count": 23
        }
      ]
    },
    {
      "cell_type": "code",
      "source": [
        "#now let's check the mic_type for the mosquitos\n",
        "intrested_mosquitos.groupby(\"species\")['mic_type'].unique()"
      ],
      "metadata": {
        "colab": {
          "base_uri": "https://localhost:8080/",
          "height": 460
        },
        "id": "sFVbAPYQjAPO",
        "outputId": "4ffce38e-8058-47a4-b300-ac03784559f6"
      },
      "execution_count": 24,
      "outputs": [
        {
          "output_type": "execute_result",
          "data": {
            "text/plain": [
              "species\n",
              "ae aegypti               [phone, telinga]\n",
              "an arabiensis            [phone, telinga]\n",
              "an coustani                     [telinga]\n",
              "an funestus sl                  [telinga]\n",
              "an funestus ss                  [telinga]\n",
              "an gambiae sl                   [telinga]\n",
              "an maculipalpis                 [telinga]\n",
              "an squamosus                    [telinga]\n",
              "culex pipiens complex           [telinga]\n",
              "ma africanus                    [telinga]\n",
              "ma uniformis                    [telinga]\n",
              "Name: mic_type, dtype: object"
            ],
            "text/html": [
              "<div>\n",
              "<style scoped>\n",
              "    .dataframe tbody tr th:only-of-type {\n",
              "        vertical-align: middle;\n",
              "    }\n",
              "\n",
              "    .dataframe tbody tr th {\n",
              "        vertical-align: top;\n",
              "    }\n",
              "\n",
              "    .dataframe thead th {\n",
              "        text-align: right;\n",
              "    }\n",
              "</style>\n",
              "<table border=\"1\" class=\"dataframe\">\n",
              "  <thead>\n",
              "    <tr style=\"text-align: right;\">\n",
              "      <th></th>\n",
              "      <th>mic_type</th>\n",
              "    </tr>\n",
              "    <tr>\n",
              "      <th>species</th>\n",
              "      <th></th>\n",
              "    </tr>\n",
              "  </thead>\n",
              "  <tbody>\n",
              "    <tr>\n",
              "      <th>ae aegypti</th>\n",
              "      <td>[phone, telinga]</td>\n",
              "    </tr>\n",
              "    <tr>\n",
              "      <th>an arabiensis</th>\n",
              "      <td>[phone, telinga]</td>\n",
              "    </tr>\n",
              "    <tr>\n",
              "      <th>an coustani</th>\n",
              "      <td>[telinga]</td>\n",
              "    </tr>\n",
              "    <tr>\n",
              "      <th>an funestus sl</th>\n",
              "      <td>[telinga]</td>\n",
              "    </tr>\n",
              "    <tr>\n",
              "      <th>an funestus ss</th>\n",
              "      <td>[telinga]</td>\n",
              "    </tr>\n",
              "    <tr>\n",
              "      <th>an gambiae sl</th>\n",
              "      <td>[telinga]</td>\n",
              "    </tr>\n",
              "    <tr>\n",
              "      <th>an maculipalpis</th>\n",
              "      <td>[telinga]</td>\n",
              "    </tr>\n",
              "    <tr>\n",
              "      <th>an squamosus</th>\n",
              "      <td>[telinga]</td>\n",
              "    </tr>\n",
              "    <tr>\n",
              "      <th>culex pipiens complex</th>\n",
              "      <td>[telinga]</td>\n",
              "    </tr>\n",
              "    <tr>\n",
              "      <th>ma africanus</th>\n",
              "      <td>[telinga]</td>\n",
              "    </tr>\n",
              "    <tr>\n",
              "      <th>ma uniformis</th>\n",
              "      <td>[telinga]</td>\n",
              "    </tr>\n",
              "  </tbody>\n",
              "</table>\n",
              "</div><br><label><b>dtype:</b> object</label>"
            ]
          },
          "metadata": {},
          "execution_count": 24
        }
      ]
    },
    {
      "cell_type": "code",
      "source": [
        "#let's check the same thing but with the classification task\n",
        "samplerates = df_task[ (df_task[\"sound_type\"] == \"mosquito\") | (df_task[\"sound_type\"] == \"background\")]\n",
        "print(f'the unique samplerates in the dataset: {samplerates[\"sample_rate\"].unique()}\\n') #they all have uniform sample_rate. the parts from the classification.\n",
        "\n",
        "#let's only check mosquito this time.\n",
        "intrested_mosquitos = df_task[ (df_task[\"sound_type\"] == \"mosquito\") & (df_task['species'].isin(list(total_lengths.index))) ] #of the mosquitos, the ones with species that have total length bigger than 5min, what are the unique sample rates\n",
        "intrested_mosquitos.groupby(\"species\")['sample_rate'].unique()"
      ],
      "metadata": {
        "colab": {
          "base_uri": "https://localhost:8080/",
          "height": 495
        },
        "id": "htjOa-qGjT2H",
        "outputId": "73ac10e7-b1f1-4571-8281-1a4f079338a7"
      },
      "execution_count": 25,
      "outputs": [
        {
          "output_type": "stream",
          "name": "stdout",
          "text": [
            "the unique samplerates in the dataset: [44100]\n",
            "\n"
          ]
        },
        {
          "output_type": "execute_result",
          "data": {
            "text/plain": [
              "species\n",
              "ae aegypti               [44100]\n",
              "an arabiensis            [44100]\n",
              "an coustani              [44100]\n",
              "an funestus sl           [44100]\n",
              "an funestus ss           [44100]\n",
              "an gambiae sl            [44100]\n",
              "an maculipalpis          [44100]\n",
              "an squamosus             [44100]\n",
              "culex pipiens complex    [44100]\n",
              "ma africanus             [44100]\n",
              "ma uniformis             [44100]\n",
              "Name: sample_rate, dtype: object"
            ],
            "text/html": [
              "<div>\n",
              "<style scoped>\n",
              "    .dataframe tbody tr th:only-of-type {\n",
              "        vertical-align: middle;\n",
              "    }\n",
              "\n",
              "    .dataframe tbody tr th {\n",
              "        vertical-align: top;\n",
              "    }\n",
              "\n",
              "    .dataframe thead th {\n",
              "        text-align: right;\n",
              "    }\n",
              "</style>\n",
              "<table border=\"1\" class=\"dataframe\">\n",
              "  <thead>\n",
              "    <tr style=\"text-align: right;\">\n",
              "      <th></th>\n",
              "      <th>sample_rate</th>\n",
              "    </tr>\n",
              "    <tr>\n",
              "      <th>species</th>\n",
              "      <th></th>\n",
              "    </tr>\n",
              "  </thead>\n",
              "  <tbody>\n",
              "    <tr>\n",
              "      <th>ae aegypti</th>\n",
              "      <td>[44100]</td>\n",
              "    </tr>\n",
              "    <tr>\n",
              "      <th>an arabiensis</th>\n",
              "      <td>[44100]</td>\n",
              "    </tr>\n",
              "    <tr>\n",
              "      <th>an coustani</th>\n",
              "      <td>[44100]</td>\n",
              "    </tr>\n",
              "    <tr>\n",
              "      <th>an funestus sl</th>\n",
              "      <td>[44100]</td>\n",
              "    </tr>\n",
              "    <tr>\n",
              "      <th>an funestus ss</th>\n",
              "      <td>[44100]</td>\n",
              "    </tr>\n",
              "    <tr>\n",
              "      <th>an gambiae sl</th>\n",
              "      <td>[44100]</td>\n",
              "    </tr>\n",
              "    <tr>\n",
              "      <th>an maculipalpis</th>\n",
              "      <td>[44100]</td>\n",
              "    </tr>\n",
              "    <tr>\n",
              "      <th>an squamosus</th>\n",
              "      <td>[44100]</td>\n",
              "    </tr>\n",
              "    <tr>\n",
              "      <th>culex pipiens complex</th>\n",
              "      <td>[44100]</td>\n",
              "    </tr>\n",
              "    <tr>\n",
              "      <th>ma africanus</th>\n",
              "      <td>[44100]</td>\n",
              "    </tr>\n",
              "    <tr>\n",
              "      <th>ma uniformis</th>\n",
              "      <td>[44100]</td>\n",
              "    </tr>\n",
              "  </tbody>\n",
              "</table>\n",
              "</div><br><label><b>dtype:</b> object</label>"
            ]
          },
          "metadata": {},
          "execution_count": 25
        }
      ]
    },
    {
      "cell_type": "code",
      "source": [
        "df_task.groupby(\"mic_type\")['sample_rate'].unique() #they only used telinga, GREAT !"
      ],
      "metadata": {
        "colab": {
          "base_uri": "https://localhost:8080/",
          "height": 146
        },
        "id": "fAAeBrOwjduz",
        "outputId": "08f77917-c0ae-4bb3-c9e4-0e2ebf95fb84"
      },
      "execution_count": 26,
      "outputs": [
        {
          "output_type": "execute_result",
          "data": {
            "text/plain": [
              "mic_type\n",
              "telinga    [44100]\n",
              "Name: sample_rate, dtype: object"
            ],
            "text/html": [
              "<div>\n",
              "<style scoped>\n",
              "    .dataframe tbody tr th:only-of-type {\n",
              "        vertical-align: middle;\n",
              "    }\n",
              "\n",
              "    .dataframe tbody tr th {\n",
              "        vertical-align: top;\n",
              "    }\n",
              "\n",
              "    .dataframe thead th {\n",
              "        text-align: right;\n",
              "    }\n",
              "</style>\n",
              "<table border=\"1\" class=\"dataframe\">\n",
              "  <thead>\n",
              "    <tr style=\"text-align: right;\">\n",
              "      <th></th>\n",
              "      <th>sample_rate</th>\n",
              "    </tr>\n",
              "    <tr>\n",
              "      <th>mic_type</th>\n",
              "      <th></th>\n",
              "    </tr>\n",
              "  </thead>\n",
              "  <tbody>\n",
              "    <tr>\n",
              "      <th>telinga</th>\n",
              "      <td>[44100]</td>\n",
              "    </tr>\n",
              "  </tbody>\n",
              "</table>\n",
              "</div><br><label><b>dtype:</b> object</label>"
            ]
          },
          "metadata": {},
          "execution_count": 26
        }
      ]
    },
    {
      "cell_type": "markdown",
      "source": [
        "### Length of recordings:"
      ],
      "metadata": {
        "id": "nWlz9sbCjhYe"
      }
    },
    {
      "cell_type": "code",
      "source": [
        "#one thing I noticed is that the length is NOT constant at all\n",
        "#average length per species:\n",
        "\n",
        "maskOfIntrestedMosquito = (df_task['sound_type'] == 'mosquito') & (df_task['species'].isin(list(total_lengths.index)))\n",
        "intrested_classes = df_task[(maskOfIntrestedMosquito) | (df_task['sound_type'] == 'background')]\n",
        "\n",
        "print(f'number of recordings of intrested classes: {len(intrested_classes)}\\n')\n",
        "print(\"all unique lengths:\\n\",intrested_classes[\"length\"].unique())\n",
        "# print(intrested_classes[intrested_classes['length'] > 11]['id'].count())\n",
        "print(\"\\nmean length of a sample from each class of mosquitos: \")\n",
        "intrested_mosquitos.groupby(\"species\")[\"length\"].mean()"
      ],
      "metadata": {
        "colab": {
          "base_uri": "https://localhost:8080/",
          "height": 1000
        },
        "id": "iAiauU4ijit-",
        "outputId": "76a36bb4-f79d-4d29-9282-8830444015e2"
      },
      "execution_count": 32,
      "outputs": [
        {
          "output_type": "stream",
          "name": "stdout",
          "text": [
            "number of recordings of intrested classes: 2604\n",
            "\n",
            "all unique lengths:\n",
            " [ 65.09714286   2.56         2.56        38.4          5.12\n",
            "  12.8          2.5          7.68        58.38367347  10.24\n",
            "  17.92        64.96653061   5.12        15.36        30.72\n",
            " 125.4922449   28.1          7.62        63.94        35.78\n",
            "  43.46        20.48         5.06        91.01061224  78.1322449\n",
            "  91.29795918  60.89142857  61.3877551   23.04       117.76\n",
            "  46.08        10.18        77.40081633  33.28        25.6\n",
            "  17.86        66.76897959  22.98        20.42        40.9\n",
            "  28.16        57.26040816  15.3         59.48081633  12.74\n",
            "  25.54        51.38285714  52.97632653  30.66        60.81306122\n",
            "  33.22        41.97877551  60.23836735  40.96        60.70857143\n",
            "  60.39510204  60.55183673  38.34        48.58        60.42122449\n",
            "  51.14        60.60408163  56.92081633  59.82040816  47.07265306\n",
            "  50.18122449  53.7         61.38        52.84571429  35.84\n",
            "  60.34285714  60.94367347  45.84489796  50.49469388  67.03020408\n",
            "  60.2122449   57.67836735  57.62612245  43.52        49.31918367\n",
            "  60.68244898  60.2644898   49.03183673  47.4644898   53.76\n",
            "  64.26122449  54.64816327  49.18857143  54.77877551 132.15346939\n",
            "  58.80163265  49.92        53.18530612  58.82        55.45795918\n",
            "  53.8644898   46.02        74.18        66.27265306  60.63020408\n",
            "  59.32408163  60.49959184  60.47346939  50.78204082  61.10040816\n",
            "  62.79836735  61.41387755  61.12653061  62.58938776  56.26\n",
            "  61.83183673  52.63673469  62.56326531  56.05877551  51.2\n",
            "  48.64        60.36897959  68.04897959  81.86        62.01469388\n",
            "  61.20489796  79.36        64.20897959  62.8244898   61.02204082\n",
            "  61.3355102   57.99183673  52.5844898   87.24897959   7.68\n",
            "  84.42        58.88        69.0677551   60.91755102]\n",
            "\n",
            "mean length of a sample from each class of mosquitos: \n"
          ]
        },
        {
          "output_type": "execute_result",
          "data": {
            "text/plain": [
              "species\n",
              "ae aegypti               14.858876\n",
              "an arabiensis            17.828159\n",
              "an coustani              12.398043\n",
              "an funestus sl           14.827500\n",
              "an funestus ss           19.459948\n",
              "an gambiae sl             9.684286\n",
              "an maculipalpis          25.480759\n",
              "an squamosus             14.835461\n",
              "culex pipiens complex    14.968367\n",
              "ma africanus             10.066667\n",
              "ma uniformis             12.630382\n",
              "Name: length, dtype: float64"
            ],
            "text/html": [
              "<div>\n",
              "<style scoped>\n",
              "    .dataframe tbody tr th:only-of-type {\n",
              "        vertical-align: middle;\n",
              "    }\n",
              "\n",
              "    .dataframe tbody tr th {\n",
              "        vertical-align: top;\n",
              "    }\n",
              "\n",
              "    .dataframe thead th {\n",
              "        text-align: right;\n",
              "    }\n",
              "</style>\n",
              "<table border=\"1\" class=\"dataframe\">\n",
              "  <thead>\n",
              "    <tr style=\"text-align: right;\">\n",
              "      <th></th>\n",
              "      <th>length</th>\n",
              "    </tr>\n",
              "    <tr>\n",
              "      <th>species</th>\n",
              "      <th></th>\n",
              "    </tr>\n",
              "  </thead>\n",
              "  <tbody>\n",
              "    <tr>\n",
              "      <th>ae aegypti</th>\n",
              "      <td>14.858876</td>\n",
              "    </tr>\n",
              "    <tr>\n",
              "      <th>an arabiensis</th>\n",
              "      <td>17.828159</td>\n",
              "    </tr>\n",
              "    <tr>\n",
              "      <th>an coustani</th>\n",
              "      <td>12.398043</td>\n",
              "    </tr>\n",
              "    <tr>\n",
              "      <th>an funestus sl</th>\n",
              "      <td>14.827500</td>\n",
              "    </tr>\n",
              "    <tr>\n",
              "      <th>an funestus ss</th>\n",
              "      <td>19.459948</td>\n",
              "    </tr>\n",
              "    <tr>\n",
              "      <th>an gambiae sl</th>\n",
              "      <td>9.684286</td>\n",
              "    </tr>\n",
              "    <tr>\n",
              "      <th>an maculipalpis</th>\n",
              "      <td>25.480759</td>\n",
              "    </tr>\n",
              "    <tr>\n",
              "      <th>an squamosus</th>\n",
              "      <td>14.835461</td>\n",
              "    </tr>\n",
              "    <tr>\n",
              "      <th>culex pipiens complex</th>\n",
              "      <td>14.968367</td>\n",
              "    </tr>\n",
              "    <tr>\n",
              "      <th>ma africanus</th>\n",
              "      <td>10.066667</td>\n",
              "    </tr>\n",
              "    <tr>\n",
              "      <th>ma uniformis</th>\n",
              "      <td>12.630382</td>\n",
              "    </tr>\n",
              "  </tbody>\n",
              "</table>\n",
              "</div><br><label><b>dtype:</b> float64</label>"
            ]
          },
          "metadata": {},
          "execution_count": 32
        }
      ]
    },
    {
      "cell_type": "markdown",
      "source": [
        "### Names:\n",
        "note that names of recordings aren't unique, there are recordings with the same name, the paper places a unique id to each row in the csv for this reason, which is the name of each file: \"id.wav\""
      ],
      "metadata": {
        "id": "g7BCQDD_kDGW"
      }
    },
    {
      "cell_type": "code",
      "source": [
        "print(\"number of recordings in total: \", len(intrested_mosquitos))\n",
        "\n",
        "print(\"number of unique names: \", len(intrested_mosquitos[\"name\"].unique()))"
      ],
      "metadata": {
        "colab": {
          "base_uri": "https://localhost:8080/"
        },
        "id": "4X1t7M2akPRJ",
        "outputId": "9b35d062-5731-4b58-aa8a-1cb14e8ba132"
      },
      "execution_count": 33,
      "outputs": [
        {
          "output_type": "stream",
          "name": "stdout",
          "text": [
            "number of recordings in total:  2513\n",
            "number of unique names:  1541\n"
          ]
        }
      ]
    },
    {
      "cell_type": "markdown",
      "source": [
        "# segment audio clips, train the Raw audio Transformer Model of the TinyChirp paper\n",
        "\n",
        "so this part is a bit chaotic, it's the first code i wrote in this project, it's meant to be used once and thrown away as i didn't intend to publish this anywhere and just wanted to test the water a bit"
      ],
      "metadata": {
        "id": "3znChF1CklWe"
      }
    },
    {
      "cell_type": "code",
      "source": [
        "import os\n",
        "os.listdir('/content/drive/MyDrive/train')[:10] #good.\n",
        "#so far so good. so now we have every file as: \"/content/drive/MyDrive/train/id.wav\" -> file of id #.\n",
        "#we also know that each id is unique, however not every name is unique.\n",
        "\n",
        "#note that maybe sorting data by using id is better. however ain't no way in hell i'm doing that حل عني\n",
        "#classes:\n",
        "classes = ['an arabiensis','culex pipiens complex', 'an funestus ss'] # and also background. do another loop for it\n"
      ],
      "metadata": {
        "id": "OJXlSf-vk2Rc"
      },
      "execution_count": null,
      "outputs": []
    },
    {
      "cell_type": "code",
      "source": [
        "from sklearn.utils import shuffle\n",
        "#just relized that I'm splitting them first then segmenting which is stupid since a recording in the test set could have >1000s\n",
        "train_recordings = []\n",
        "train_labels = []\n",
        "\n",
        "test_recordings  = []\n",
        "test_labels = []\n",
        "\n",
        "train_fraction = 0.8\n",
        "\n",
        "for i in range(len(classes)):\n",
        "            length_of_class = len(df_task[df_task.species == classes[i]]) #get length of class\n",
        "            n_train = int(length_of_class * train_fraction) #do the split\n",
        "            n_test = length_of_class - n_train\n",
        "            print(classes[i], n_train, n_test)\n",
        "\n",
        "            df_class = df_task[df_task.species == classes[i]] #df of spices\n",
        "            split = df_class.id\n",
        "            train_recordings.extend(split[:n_train])  #extend training\n",
        "            test_recordings.extend(split[n_train:])   #extend test\n",
        "            #fill labels\n",
        "            train_labels.extend([i] * n_train)\n",
        "            test_labels.extend([i] * n_test)\n",
        "\n",
        "\n",
        "#now extend it with the backgrounds\n",
        "length_of_class = len(df_task[df_task.sound_type == 'background']) #get length of background\n",
        "n_train = int(length_of_class * train_fraction) #do the split\n",
        "n_test = length_of_class - n_train\n",
        "print(\"Background\", n_train, n_test)\n",
        "df_class = df_task[df_task.sound_type == 'background'] #df of spices\n",
        "split = df_class.id\n",
        "train_recordings.extend(split[:n_train])  #extend training\n",
        "test_recordings.extend(split[n_train:])   #extend test\n",
        "#fill labels\n",
        "train_labels.extend([3] * n_train)\n",
        "test_labels.extend([3] * n_test)\n",
        "print(train_recordings[:10])\n",
        "print(train_labels[len(train_labels)-20:])"
      ],
      "metadata": {
        "colab": {
          "base_uri": "https://localhost:8080/"
        },
        "id": "EOwB180fk55Y",
        "outputId": "96fa7e12-a5df-4b69-e4c0-6f43315433e5"
      },
      "execution_count": 34,
      "outputs": [
        {
          "output_type": "stream",
          "name": "stdout",
          "text": [
            "an arabiensis 664 167\n",
            "culex pipiens complex 436 109\n",
            "an funestus ss 304 77\n",
            "Background 72 19\n",
            "[221149, 221150, 221143, 221200, 221201, 221166, 221165, 221167, 221181, 221180]\n",
            "[3, 3, 3, 3, 3, 3, 3, 3, 3, 3, 3, 3, 3, 3, 3, 3, 3, 3, 3, 3]\n"
          ]
        }
      ]
    },
    {
      "cell_type": "code",
      "source": [
        "#this line should just check if I got every id in the train and test recording\n",
        "assert len(train_recordings) + len(test_recordings) == len(df_task[(df_task['species'].isin(classes)) | (df_task['sound_type'] == 'background')])"
      ],
      "metadata": {
        "id": "bIS73-Q_k7Mw"
      },
      "execution_count": null,
      "outputs": []
    },
    {
      "cell_type": "code",
      "source": [
        "# code to install samplerate\n",
        "!pip uninstall -y cmake\n",
        "\n",
        "!export CFLAGS=\"-fPIC\"\n",
        "!export CXXFLAGS=\"-fPIC\"\n",
        "\n",
        "!pip install samplerate\n"
      ],
      "metadata": {
        "id": "GNK0GzLEk9Mx"
      },
      "execution_count": null,
      "outputs": []
    },
    {
      "cell_type": "code",
      "source": [
        "#now this cell will give us a list with ALL 5s audio clips !\n",
        "import librosa\n",
        "\n",
        "def segment_audio(audio_path, segment_length_sec=3, overlap_sec=0.050): #this stupid method\n",
        "#takes audio path. breaks it into \"segment_length_sec\" segments, then fucking does its thing and give me a list of all segments\n",
        "\n",
        "    path = '/content/drive/MyDrive/train/' + str(audio_path) + '.wav' #HARD CODINGGGGGGG 🔥🔥🔥🔥🔥🔥🔥🔥🔥🔥\n",
        "    y, current_sr = librosa.load(path, sr=None, mono=True) # Load as mono\n",
        "    y = librosa.resample(y, orig_sr=current_sr, target_sr=current_sr/2) #downsample\n",
        "\n",
        "    sr = current_sr/2 # samplerate = 44.1K / 2 |nyquiest thingy\n",
        "\n",
        "    segment_length_samples = int(segment_length_sec * sr) # 3*22.5K\n",
        "    overlap_samples = int(overlap_sec * sr)\n",
        "    hop_length_samples = segment_length_samples - overlap_samples\n",
        "\n",
        "    segments = []\n",
        "\n",
        "    if len(y) < segment_length_samples: #if audio is less then 3s\n",
        "        segment = np.pad(y, (0, segment_length_samples - len(y)), 'constant')\n",
        "        segments.append(segment)\n",
        "        return segments\n",
        "\n",
        "    num_hops = int(np.floor((len(y) - segment_length_samples) / hop_length_samples)) + 1\n",
        "    for i in range(num_hops):\n",
        "        start_sample = i * hop_length_samples\n",
        "        end_sample = start_sample + segment_length_samples\n",
        "\n",
        "        # Pad the last segment if it's shorter (this will only happen if the total audio length\n",
        "        # doesn't perfectly divide into segments using the hop_length)\n",
        "        if end_sample > len(y):\n",
        "            segment = np.pad(y[start_sample:], (0, end_sample - len(y)), 'constant')\n",
        "        else:\n",
        "            segment = y[start_sample:end_sample]\n",
        "\n",
        "        segments.append(segment)\n",
        "\n",
        "    return segments\n",
        "\n",
        "#now loop over all of the recordings, do this method over all of them, and stack the resulting segments into a final list"
      ],
      "metadata": {
        "id": "VXctK0TAk-mf"
      },
      "execution_count": null,
      "outputs": []
    },
    {
      "cell_type": "code",
      "source": [
        "from tqdm import tqdm\n",
        "train_segments = []\n",
        "train_segment_labels = []\n",
        "for audio_path, label in tqdm(zip(train_recordings, train_labels), total=len(train_recordings)):\n",
        "    segments_from_file = segment_audio(audio_path)\n",
        "\n",
        "    # Add all segments from this file to the master list\n",
        "    train_segments.extend(segments_from_file)\n",
        "\n",
        "    # For each segment generated from this file, assign its original file's label\n",
        "    train_segment_labels.extend([label] * len(segments_from_file))\n",
        "\n",
        "test_segments = []\n",
        "test_segment_labels = []\n",
        "for audio_path, label in tqdm(zip(test_recordings, test_labels), total=len(test_recordings)):\n",
        "    segments_from_file = segment_audio(audio_path)\n",
        "\n",
        "    # Add all segments from this file to the master list\n",
        "    test_segments.extend(segments_from_file)\n",
        "\n",
        "    # For each segment generated from this file, assign its original file's label\n",
        "    test_segment_labels.extend([label] * len(segments_from_file))"
      ],
      "metadata": {
        "colab": {
          "base_uri": "https://localhost:8080/"
        },
        "id": "bLWAzPxElAvt",
        "outputId": "a944fce3-3af0-41da-b550-de3e71da1ab8"
      },
      "execution_count": 35,
      "outputs": [
        {
          "output_type": "stream",
          "name": "stdout",
          "text": [
            "100%|██████████| 1476/1476 [04:52<00:00,  5.05it/s]\n",
            "100%|██████████| 372/372 [00:22<00:00, 16.47it/s]\n"
          ]
        }
      ]
    },
    {
      "cell_type": "code",
      "source": [
        "#savev the extracted lists on a file\n",
        "output_dir = \"/drive/MyDrive/processed_audio_data/\" # Or any other path in your Drive\n",
        "training_segments_filename = os.path.join(output_dir, \"training_audio_segments.pkl\")\n",
        "testing_segments_filename = os.path.join(output_dir, \"testing_audio_segments.pkl\")\n",
        "\n",
        "training_labels_filename = os.path.join(output_dir, \"training_segments_labels.pkl\")\n",
        "testing_labels_filename = os.path.join(output_dir, \"testing_segments_labels.pkl\")\n",
        "\n",
        "#i've made the directory up\n",
        "os.makedirs(output_dir, exist_ok=True)\n",
        "\n",
        "import pickle\n",
        "\n",
        "with open(training_segments_filename, 'wb') as f:\n",
        "    pickle.dump(train_segments, f)\n",
        "\n",
        "with open(testing_segments_filename, 'wb') as f:\n",
        "    pickle.dump(test_segments, f)\n",
        "\n",
        "with open(training_labels_filename, 'wb') as f:\n",
        "    pickle.dump(train_segment_labels, f)\n",
        "\n",
        "with open(testing_labels_filename, 'wb') as f:\n",
        "    pickle.dump(test_segment_labels, f)"
      ],
      "metadata": {
        "id": "uj4zrvpjlBS5"
      },
      "execution_count": null,
      "outputs": []
    },
    {
      "cell_type": "code",
      "source": [
        "train_segments\n",
        "train_segment_labels[len(train_segment_labels)-10:]\n",
        "\n",
        "print(f\"train segments: {len(train_segments)}\") #surprisingly it's sort of 80:20\n",
        "print(f\"test segments: {len(test_segments)}\")\n",
        "\n",
        "\n",
        "# previous segments:\n",
        "# train segments: 8704\n",
        "# test segments: 3131"
      ],
      "metadata": {
        "colab": {
          "base_uri": "https://localhost:8080/"
        },
        "id": "fyAXs03elCh8",
        "outputId": "a78b0bdc-eee3-4e9d-de74-eeb8a90916b7"
      },
      "execution_count": 39,
      "outputs": [
        {
          "output_type": "stream",
          "name": "stdout",
          "text": [
            "train segments: 8382\n",
            "test segments: 3043\n"
          ]
        }
      ]
    },
    {
      "cell_type": "code",
      "source": [
        "#create a pytorch dataset class and get the items from the segments list that we just made\n",
        "import torch\n",
        "from torch.utils.data import Dataset\n",
        "import torchaudio.transforms as T\n",
        "import random\n",
        "\n",
        "class AudioDataset(Dataset):\n",
        "    def __init__(self, segments, labels):\n",
        "        self.segments = segments\n",
        "        self.labels = labels\n",
        "\n",
        "        self.augmentations = [\n",
        "            T.Vol(0.8),                         # Lower volume\n",
        "            T.Vol(1.3),                         # Increase volume\n",
        "        ] #make it better with time, this is just till i finish the stupid training thing\n",
        "        #i wonder if I'll be happy one day\n",
        "\n",
        "    def __len__(self):\n",
        "        return len(self.segments)\n",
        "\n",
        "    def __getitem__(self, idx):\n",
        "        segment = self.segments[idx]\n",
        "        label = self.labels[idx]\n",
        "\n",
        "        segment = torch.tensor(segment, dtype=torch.float32)\n",
        "        label = torch.tensor(label, dtype=torch.long)\n",
        "\n",
        "        #let's do some data augmentations\n",
        "        if random.random() < 0.3:\n",
        "            aug = random.choice(self.augmentations)\n",
        "            segment = aug(segment)\n",
        "\n",
        "        return segment, label\n",
        "\n",
        "train_dataset = AudioDataset(train_segments, train_segment_labels)\n",
        "test_dataset = AudioDataset(test_segments, test_segment_labels)\n",
        "\n",
        "train_dataset[0][0].shape\n",
        "assert 66150 == 44_100 * 3/2 #if each sample is indeed 3s of 44.1Khz / 2"
      ],
      "metadata": {
        "id": "zxb3inY-lFw_"
      },
      "execution_count": null,
      "outputs": []
    },
    {
      "cell_type": "code",
      "source": [
        "#making a random sampler before feeding it to the dataloader\n",
        "from collections import Counter\n",
        "import torch\n",
        "from torch.utils.data import WeightedRandomSampler\n",
        "\n",
        "class_counts = Counter(train_segment_labels)\n",
        "class_weights = {cls: 1.0 / count for cls, count in class_counts.items()} #{0:1/94123, ...}\n",
        "\n",
        "# Assign weight to each sample based on its class\n",
        "sample_weights = [class_weights[label] for label in train_segment_labels]\n",
        "sample_weights_tensor = torch.DoubleTensor(sample_weights)\n",
        "\n",
        "sampler = WeightedRandomSampler(\n",
        "    weights=sample_weights_tensor,\n",
        "    num_samples=len(sample_weights_tensor),\n",
        "    replacement=False  # Allows repeated samples to balance things out\n",
        ")"
      ],
      "metadata": {
        "id": "5gZ9dJMYlGwW"
      },
      "execution_count": null,
      "outputs": []
    },
    {
      "cell_type": "code",
      "source": [
        "#make dataloaders of my train_dataset\n",
        "from torch.utils.data import DataLoader\n",
        "\n",
        "#note that since I have replacement turned on this will get A LOT of repeted values for the model\n",
        "train_loader = DataLoader(train_dataset, batch_size=32, sampler=sampler)\n",
        "test_loader = DataLoader(test_dataset, batch_size=32, shuffle=False)\n",
        "next(iter(train_loader))"
      ],
      "metadata": {
        "colab": {
          "base_uri": "https://localhost:8080/"
        },
        "id": "60D6q1WElHua",
        "outputId": "af35ad58-df59-4565-c00e-4f7c22719613"
      },
      "execution_count": 40,
      "outputs": [
        {
          "output_type": "stream",
          "name": "stdout",
          "text": [
            "\n",
            "[tensor([[ 0.0016,  0.0016,  0.0017,  ..., -0.0005, -0.0004, -0.0004],\n",
            "         [-0.0005, -0.0005, -0.0004,  ..., -0.0010, -0.0010, -0.0010],\n",
            "         [ 0.0035,  0.0035,  0.0034,  ..., -0.0040, -0.0039, -0.0037],\n",
            "         ...,\n",
            "         [ 0.0172,  0.0173,  0.0170,  ...,  0.0053,  0.0051,  0.0051],\n",
            "         [ 0.0035,  0.0035,  0.0035,  ..., -0.0011, -0.0011, -0.0013],\n",
            "         [-0.0004, -0.0006, -0.0006,  ..., -0.0027, -0.0027, -0.0027]]),\n",
            " tensor([0, 3, 3, 2, 3, 2, 0, 1, 0, 0, 3, 2, 3, 0, 2, 2, 0, 3, 0, 1, 0, 2, 1, 1,\n",
            "         3, 3, 2, 0, 3, 0, 1, 2])]\n"
          ]
        }
      ]
    },
    {
      "cell_type": "markdown",
      "source": [
        "### Creating the model"
      ],
      "metadata": {
        "id": "wDj1clR3luYL"
      }
    },
    {
      "cell_type": "code",
      "source": [
        "#write the model structure that takes raw audio as input\n",
        "import torch\n",
        "import torch.nn as nn\n",
        "import numpy as np\n",
        "import torch.nn.functional as F\n",
        "#helper methods\n",
        "class MaskedSelfAttention(nn.Module):\n",
        "    # Class for the Attention Mechanism\n",
        "    def __init__(self, head_size, n_embd, block_size):\n",
        "        super().__init__()\n",
        "        self.key = nn.Linear(n_embd, head_size, bias=False)\n",
        "        self.query = nn.Linear(n_embd, head_size, bias=False)\n",
        "        self.value = nn.Linear(n_embd, head_size, bias=False)\n",
        "\n",
        "\n",
        "    def forward(self, x):\n",
        "        k = self.key(x)\n",
        "        q = self.query(x)\n",
        "        v = self.value(x)\n",
        "\n",
        "        return F.scaled_dot_product_attention(q,k,v)\n",
        "\n",
        "class OneHeadAttention(nn.Module):\n",
        "    def __init__(self,  head_size, n_embd, block_size):\n",
        "        super().__init__()\n",
        "        self.head = MaskedSelfAttention(head_size, n_embd, block_size)\n",
        "        self.proj = nn.Linear(n_embd, n_embd)\n",
        "    def forward(self,x):\n",
        "        x = self.head(x)\n",
        "        out = self.proj(x)#no output funciton..?\n",
        "        #really..? just a linear transformation..? *w\n",
        "        return out\n",
        "\n",
        "#one transformer block\n",
        "class TransformerBlock(nn.Module):\n",
        "    # Class for the Encoder Block\n",
        "    def __init__(self, n_embd, n_head, block_size, hidden_size):\n",
        "        super().__init__()\n",
        "        head_size = n_embd // n_head\n",
        "        if n_head > 1 :\n",
        "            #I'm not using this paer so I'll comment it, TinyML and all\n",
        "            #throw error of false input if this happens. only one head required.\n",
        "\n",
        "            # self.sa = MultiHeadAttention(n_head, head_size, n_embd, block_size)\n",
        "            raise ValueError(\"TinyMl model only takes one head\")\n",
        "        else :\n",
        "            self.sa = OneHeadAttention(head_size, n_embd, block_size)\n",
        "        self.ffwd = nn.Sequential(\n",
        "            nn.Linear(n_embd, hidden_size),\n",
        "            nn.ReLU(),\n",
        "            nn.Linear(hidden_size, n_embd),\n",
        "        )\n",
        "        self.ln1 = nn.LayerNorm(n_embd)\n",
        "        self.ln2 = nn.LayerNorm(n_embd)\n",
        "\n",
        "    def forward(self, x):\n",
        "        x = x + self.sa(self.ln1(x))\n",
        "        x = x + self.ffwd(self.ln2(x))\n",
        "        return x\n",
        "\n",
        "\n",
        "class RawAudioTransformerModel(nn.Module):\n",
        "    def __init__(self, num_classes, n_embd, n_head, block_size, hidden_size, n_layers):\n",
        "        super().__init__()\n",
        "        self.conv1 = nn.Conv1d(1, 16, kernel_size=3)\n",
        "        self.pool = nn.MaxPool1d(2, 2)\n",
        "        #self.batch1 = nn.BatchNorm1d(16)\n",
        "        self.dropout = nn.Dropout(0.25)\n",
        "        self.relu = nn.ReLU()\n",
        "        self.adpool = nn.AdaptiveAvgPool1d(1)\n",
        "\n",
        "        self.blocks = nn.Sequential(*[TransformerBlock(n_embd, n_head, block_size, hidden_size) for _ in range(n_layers)])\n",
        "        self.ln_f = nn.LayerNorm(n_embd)\n",
        "        self.head = nn.Linear(n_embd, num_classes)\n",
        "\n",
        "\n",
        "    def forward(self, x):\n",
        "        #x = self.pool(self.relu(self.batch1(self.conv1(x))))\n",
        "\n",
        "        # x = x.transpose(1, 2) # Transpose to get shape (batch_size, channels, sequence_length)\n",
        "        #this part is a modification by yours truly\n",
        "        #superisingly it works ! nvm it dosn't\n",
        "        x = self.pool(self.relu(self.conv1(x)))\n",
        "        x = self.dropout(x)\n",
        "        x = self.adpool(x)\n",
        "        x = x.squeeze(-1) # Squeeze the last dimension to get shape (batch_size, n_embd)\n",
        "        x = self.blocks(x)\n",
        "        x = self.ln_f(x)\n",
        "        logits = self.head(x)\n",
        "        return logits"
      ],
      "metadata": {
        "id": "XNu-1J55luG9"
      },
      "execution_count": null,
      "outputs": []
    },
    {
      "cell_type": "markdown",
      "source": [
        "### Training loop"
      ],
      "metadata": {
        "id": "azhPMG9zl2N3"
      }
    },
    {
      "cell_type": "code",
      "source": [
        "# 🔹 Training Loop\n",
        "def train_one_epoch(model, dataloader, criterion, optimizer, device):\n",
        "    model.train()\n",
        "    total_loss = 0\n",
        "\n",
        "    for audio, lablel in tqdm(dataloader):\n",
        "        audio, lablel = audio.to(device).unsqueeze(0).permute(1,0,2), lablel.to(device)\n",
        "\n",
        "        outputs = model(audio)\n",
        "        loss = criterion(outputs, lablel)\n",
        "\n",
        "        optimizer.zero_grad()\n",
        "        loss.backward()\n",
        "        optimizer.step()\n",
        "\n",
        "        total_loss += loss.item()\n",
        "\n",
        "    return total_loss / len(dataloader)\n",
        "\n",
        "# 🔹 Validation Loop\n",
        "def validate(model, dataloader, criterion, device):\n",
        "    model.eval()\n",
        "    total_loss = 0\n",
        "    total = 0 #number of labels\n",
        "    correct = 0 #number of correct labels\n",
        "\n",
        "    with torch.no_grad():\n",
        "        for audio, labels in dataloader:\n",
        "            audio, labels = audio.to(device).unsqueeze(0).permute(1,0,2), labels.to(device)\n",
        "\n",
        "            outputs = model(audio)\n",
        "            loss = criterion(outputs, labels)\n",
        "            total_loss += loss.item()\n",
        "            #get accuracy of validation set:\n",
        "            #argmax of the outputs\n",
        "\n",
        "            _, predicted = torch.max(outputs.data, 1)\n",
        "            total += labels.size(0)\n",
        "            correct += (predicted == labels).sum().item()\n",
        "\n",
        "    return total_loss / len(dataloader), correct*100 / total"
      ],
      "metadata": {
        "id": "CtqLkSZol16T"
      },
      "execution_count": null,
      "outputs": []
    },
    {
      "cell_type": "markdown",
      "source": [
        "### Training"
      ],
      "metadata": {
        "id": "bMTolkUNl54p"
      }
    },
    {
      "cell_type": "code",
      "source": [
        "device = torch.device(\"cuda\" if torch.cuda.is_available() else \"cpu\")\n",
        "model = RawAudioTransformerModel(num_classes=4, n_embd=16, n_head=1, block_size=16, hidden_size=32, n_layers=1)\n",
        "model = model.to(device)\n",
        "\n",
        "import torch.optim as optim\n",
        "criterion = nn.CrossEntropyLoss()  # Assumes target labels are class indices\n",
        "optimizer = optim.AdamW(model.parameters(), lr=1e-3)\n",
        "\n",
        "num_epochs = 10\n",
        "train_losses = []\n",
        "val_losses = []\n",
        "\n",
        "# Training Loop\n",
        "for epoch in range(num_epochs):\n",
        "    train_loss = train_one_epoch(model, train_loader, criterion, optimizer, device)\n",
        "    val_loss, acc = validate(model, test_loader, criterion, device)\n",
        "\n",
        "    train_losses.append(train_loss)\n",
        "    val_losses.append(val_loss)\n",
        "\n",
        "    print(f\"Epoch {epoch+1}/{num_epochs}: Train Loss = {train_loss:.4f}, Val Loss = {val_loss:.4f}, validation acc: {acc:.9f}%\")"
      ],
      "metadata": {
        "colab": {
          "base_uri": "https://localhost:8080/"
        },
        "id": "tHiXD3GUl4QY",
        "outputId": "66658bf0-74da-4f0c-874a-6cbf84ffe9dc"
      },
      "execution_count": 42,
      "outputs": [
        {
          "output_type": "stream",
          "name": "stdout",
          "text": [
            "\n",
            "100%|██████████| 262/262 [00:02<00:00, 103.96it/s]\n",
            "Epoch 1/10: Train Loss = 1.3068, Val Loss = 1.4120, validation acc: 47.748931975%\n",
            "100%|██████████| 262/262 [00:02<00:00, 107.57it/s]\n",
            "Epoch 2/10: Train Loss = 1.3195, Val Loss = 1.3975, validation acc: 47.748931975%\n",
            "100%|██████████| 262/262 [00:02<00:00, 107.54it/s]\n",
            "Epoch 3/10: Train Loss = 1.3267, Val Loss = 1.3775, validation acc: 47.748931975%\n",
            "100%|██████████| 262/262 [00:02<00:00, 106.49it/s]\n",
            "Epoch 4/10: Train Loss = 1.3343, Val Loss = 1.3442, validation acc: 47.748931975%\n",
            "100%|██████████| 262/262 [00:02<00:00, 101.63it/s]\n",
            "Epoch 5/10: Train Loss = 1.3337, Val Loss = 1.3142, validation acc: 47.748931975%\n",
            "100%|██████████| 262/262 [00:02<00:00, 107.41it/s]\n",
            "Epoch 6/10: Train Loss = 1.3359, Val Loss = 1.2970, validation acc: 47.748931975%\n",
            "100%|██████████| 262/262 [00:02<00:00, 108.67it/s]\n",
            "Epoch 7/10: Train Loss = 1.3312, Val Loss = 1.3021, validation acc: 47.748931975%\n",
            "100%|██████████| 262/262 [00:02<00:00, 109.14it/s]\n",
            "Epoch 8/10: Train Loss = 1.3363, Val Loss = 1.2913, validation acc: 47.748931975%\n",
            "100%|██████████| 262/262 [00:02<00:00, 104.03it/s]\n",
            "Epoch 9/10: Train Loss = 1.3346, Val Loss = 1.2923, validation acc: 47.748931975%\n",
            "100%|██████████| 262/262 [00:02<00:00, 107.53it/s]\n",
            "Epoch 10/10: Train Loss = 1.3339, Val Loss = 1.2943, validation acc: 47.748931975%\n"
          ]
        }
      ]
    },
    {
      "cell_type": "code",
      "source": [
        "#graph of the training\n",
        "plt.plot(range(1, num_epochs+1), train_losses, label=\"Train Loss\", marker='o')\n",
        "plt.plot(range(1, num_epochs+1), val_losses, label=\"Validation Loss\", marker='o')\n",
        "plt.xlabel(\"Epochs\")\n",
        "plt.ylabel(\"Loss\")\n",
        "plt.title(\"Training and Validation Loss\")\n",
        "plt.legend()\n",
        "plt.show()"
      ],
      "metadata": {
        "id": "YyO8hh6emE0m"
      },
      "execution_count": null,
      "outputs": []
    },
    {
      "cell_type": "markdown",
      "source": [
        "![image.png](data:image/png;base64,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)"
      ],
      "metadata": {
        "id": "iL0yA8aDmIZQ"
      }
    }
  ]
}