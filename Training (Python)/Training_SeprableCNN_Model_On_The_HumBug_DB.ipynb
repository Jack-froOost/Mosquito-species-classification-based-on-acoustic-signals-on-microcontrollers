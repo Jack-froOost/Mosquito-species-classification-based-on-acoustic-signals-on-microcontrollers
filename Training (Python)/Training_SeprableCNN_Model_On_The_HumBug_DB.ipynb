{
  "nbformat": 4,
  "nbformat_minor": 0,
  "metadata": {
    "colab": {
      "provenance": [],
      "gpuType": "L4"
    },
    "kernelspec": {
      "name": "python3",
      "display_name": "Python 3"
    },
    "language_info": {
      "name": "python"
    },
    "accelerator": "GPU"
  },
  "cells": [
    {
      "cell_type": "code",
      "execution_count": null,
      "metadata": {
        "id": "bZzXNQPS3kny"
      },
      "outputs": [],
      "source": [
        "import pandas as pd\n",
        "import numpy as np\n",
        "import matplotlib.pyplot as plt\n",
        "import seaborn as sns\n",
        "import tensorflow as tf\n",
        "import tensorflow.keras as keras\n",
        "import librosa\n",
        "import numpy as np\n",
        "from tqdm import tqdm\n",
        "import librosa\n",
        "import pickle\n",
        "from pathlib import Path\n",
        "import os"
      ]
    },
    {
      "cell_type": "markdown",
      "source": [
        "### Create folders and relavent paths"
      ],
      "metadata": {
        "id": "ninYVsGzVSff"
      }
    },
    {
      "cell_type": "code",
      "source": [
        "classes = ['an arabiensis','culex pipiens complex','an funestus ss', 'ae aegypti','background'] #classes in folders."
      ],
      "metadata": {
        "id": "Yv290G3V3rQv"
      },
      "execution_count": null,
      "outputs": []
    },
    {
      "cell_type": "code",
      "source": [
        "classes = {c: [] for c in classes}\n",
        "classes"
      ],
      "metadata": {
        "colab": {
          "base_uri": "https://localhost:8080/"
        },
        "id": "N3uRdd_P3yn0",
        "outputId": "faf9cc70-b385-4750-de40-22db308a3440"
      },
      "execution_count": null,
      "outputs": [
        {
          "output_type": "execute_result",
          "data": {
            "text/plain": [
              "{'an arabiensis': [],\n",
              " 'culex pipiens complex': [],\n",
              " 'an funestus ss': [],\n",
              " 'ae aegypti': [],\n",
              " 'background': []}"
            ]
          },
          "metadata": {},
          "execution_count": 3
        }
      ]
    },
    {
      "cell_type": "code",
      "source": [
        "folders = os.listdir('drive/MyDrive/HumBug/Segmented') #we goolden\n",
        "folders = [Path('drive/MyDrive/HumBug/Segmented')/folder for folder in folders]\n",
        "folders"
      ],
      "metadata": {
        "colab": {
          "base_uri": "https://localhost:8080/"
        },
        "id": "yPkli3fH4T2b",
        "outputId": "81bcf6e4-3d6f-460c-afae-3ffd14e03d28"
      },
      "execution_count": null,
      "outputs": [
        {
          "output_type": "execute_result",
          "data": {
            "text/plain": [
              "[PosixPath('drive/MyDrive/HumBug/Segmented/culex pipiens complex_seg'),\n",
              " PosixPath('drive/MyDrive/HumBug/Segmented/an funestus ss_seg'),\n",
              " PosixPath('drive/MyDrive/HumBug/Segmented/ae aegypti_seg'),\n",
              " PosixPath('drive/MyDrive/HumBug/Segmented/background_seg'),\n",
              " PosixPath('drive/MyDrive/HumBug/Segmented/an arabiensis_seg')]"
            ]
          },
          "metadata": {},
          "execution_count": 4
        }
      ]
    },
    {
      "cell_type": "markdown",
      "source": [
        "### Method to load audio into the classes dictonary\n",
        "run this if you have the segmented clips in directories..."
      ],
      "metadata": {
        "id": "LmNbIlNNVWWW"
      }
    },
    {
      "cell_type": "code",
      "source": [
        "#load the segmented files from the google colab folders into each class dictonary respectivly\n",
        "def loadFolderIntoClass(folder: Path):\n",
        "  segments = []\n",
        "  print(f\"-Opening folder: {folder.name}\")\n",
        "  for i, clip in enumerate(folder.iterdir()):\n",
        "    if clip.suffix == '.wav':\n",
        "      try:\n",
        "        segment, sr = librosa.load(clip, sr=None)\n",
        "        segments.append(segment)\n",
        "      except Exception as e:\n",
        "        print(f\"Didn't load: {clip.name}: {e}\")\n",
        "\n",
        "    if i % 2500 == 0:\n",
        "      print(f\"File: {folder.name}, Finished Loading {i} files.\")\n",
        "  print(f\"-done with: {folder.name}\")\n",
        "  return folder.name[:-4], segments\n",
        "\n",
        "if __name__ == \"__main__\":\n",
        "  import multiprocessing\n",
        "  with multiprocessing.Pool(processes=multiprocessing.cpu_count()) as pool:\n",
        "    results = pool.map(loadFolderIntoClass, folders)"
      ],
      "metadata": {
        "colab": {
          "base_uri": "https://localhost:8080/"
        },
        "id": "YTZGFUry3-69",
        "outputId": "05505abe-dd2b-4789-f0be-00fd9881db46"
      },
      "execution_count": null,
      "outputs": [
        {
          "output_type": "stream",
          "name": "stdout",
          "text": [
            "-Opening folder: culex pipiens complex_seg-Opening folder: an funestus ss_seg\n",
            "\n",
            "-done with: culex pipiens complex_seg\n",
            "-done with: an funestus ss_seg\n",
            "-Opening folder: ae aegypti_seg\n",
            "-Opening folder: background_seg\n",
            "-done with: ae aegypti_seg\n",
            "-Opening folder: an arabiensis_seg\n",
            "-done with: background_seg\n",
            "-done with: an arabiensis_seg\n"
          ]
        }
      ]
    },
    {
      "cell_type": "code",
      "source": [
        "classes = {cls: segments for cls, segments in results}\n",
        "classes.keys()"
      ],
      "metadata": {
        "colab": {
          "base_uri": "https://localhost:8080/"
        },
        "id": "vcopiEDR_4-3",
        "outputId": "75919b28-fc24-4b3b-f789-e7ac587db06e"
      },
      "execution_count": null,
      "outputs": [
        {
          "output_type": "execute_result",
          "data": {
            "text/plain": [
              "dict_keys(['culex pipiens complex', 'an funestus ss', 'ae aegypti', 'background', 'an arabiensis'])"
            ]
          },
          "metadata": {},
          "execution_count": 14
        }
      ]
    },
    {
      "cell_type": "code",
      "source": [
        "classesEncoding = {cls: i for i, cls in enumerate(classes.keys())}\n",
        "classesEncoding"
      ],
      "metadata": {
        "colab": {
          "base_uri": "https://localhost:8080/"
        },
        "id": "xX5KwEa3NH3d",
        "outputId": "0a5db191-b34a-4f48-a65c-95a8f5c302d3"
      },
      "execution_count": null,
      "outputs": [
        {
          "output_type": "execute_result",
          "data": {
            "text/plain": [
              "{'culex pipiens complex': 0,\n",
              " 'an funestus ss': 1,\n",
              " 'ae aegypti': 2,\n",
              " 'background': 3,\n",
              " 'an arabiensis': 4}"
            ]
          },
          "metadata": {},
          "execution_count": 16
        }
      ]
    },
    {
      "cell_type": "markdown",
      "source": [
        "###pickled classes\n",
        "run this if you have the segmented clips in a dictionary already"
      ],
      "metadata": {
        "id": "wA6OlxS78BAu"
      }
    },
    {
      "cell_type": "code",
      "source": [
        "#path to the pickled object\n",
        "picklePath = \"drive/MyDrive/processed_audio_data/MosquitoAudio.pkl\""
      ],
      "metadata": {
        "id": "gfibrjtw8AeW"
      },
      "execution_count": null,
      "outputs": []
    },
    {
      "cell_type": "code",
      "source": [
        "# # pickle classes to path\n",
        "# import pickle\n",
        "# with open(picklePath, 'wb') as f:\n",
        "#     pickle.dump(classes, f)"
      ],
      "metadata": {
        "id": "BdH7IIgB78KL"
      },
      "execution_count": null,
      "outputs": []
    },
    {
      "cell_type": "code",
      "source": [
        "#load the pickled classes\n",
        "import pickle\n",
        "with open(picklePath, 'rb') as f:\n",
        "    classes = pickle.load(f)\n",
        "\n",
        "classesEncoding = {cls: i for i, cls in enumerate(classes.keys())}\n",
        "classesEncoding"
      ],
      "metadata": {
        "id": "pC_3-83q8wO8",
        "colab": {
          "base_uri": "https://localhost:8080/"
        },
        "outputId": "2c31f626-3bf4-4509-ab19-95b11b62dc65"
      },
      "execution_count": null,
      "outputs": [
        {
          "output_type": "execute_result",
          "data": {
            "text/plain": [
              "{'culex pipiens complex': 0,\n",
              " 'an funestus ss': 1,\n",
              " 'ae aegypti': 2,\n",
              " 'background': 3,\n",
              " 'an arabiensis': 4}"
            ]
          },
          "metadata": {},
          "execution_count": 3
        }
      ]
    },
    {
      "cell_type": "markdown",
      "source": [
        "###Testing the resulting dictionary"
      ],
      "metadata": {
        "id": "2wlRRTta9Bbn"
      }
    },
    {
      "cell_type": "code",
      "source": [
        "#info on the classes dictonary\n",
        "print(classes.keys(), '\\n')\n",
        "\n",
        "for cls, segments in classes.items():\n",
        "  print(f\"{cls}: {len(segments)}\")\n",
        "\n",
        "print()\n",
        "\n",
        "# print(f\"\\nEncoding of each class\")\n",
        "for cls, segments in classes.items():\n",
        "  print(f\"{cls}: {classesEncoding[cls]}\")\n",
        "print(f\"\\ntotal: {sum([len(segments) for cls, segments in classes.items()])}\")"
      ],
      "metadata": {
        "colab": {
          "base_uri": "https://localhost:8080/"
        },
        "id": "nmNBUCUZ9Am2",
        "outputId": "23a723e9-d5e9-46ef-d65e-7d5aa1d4e221"
      },
      "execution_count": null,
      "outputs": [
        {
          "output_type": "stream",
          "name": "stdout",
          "text": [
            "dict_keys(['culex pipiens complex', 'an funestus ss', 'ae aegypti', 'background', 'an arabiensis']) \n",
            "\n",
            "culex pipiens complex: 6733\n",
            "an funestus ss: 6801\n",
            "ae aegypti: 1139\n",
            "background: 5555\n",
            "an arabiensis: 12940\n",
            "\n",
            "culex pipiens complex: 0\n",
            "an funestus ss: 1\n",
            "ae aegypti: 2\n",
            "background: 3\n",
            "an arabiensis: 4\n",
            "\n",
            "total: 33168\n"
          ]
        }
      ]
    },
    {
      "cell_type": "code",
      "source": [
        "shapes = set()\n",
        "types  = set()\n",
        "for c, segments in classes.items():\n",
        "  for segment in segments:\n",
        "    shapes.add(segment.shape)\n",
        "    types.add(type(segment))\n",
        "\n",
        "print(shapes)\n",
        "print(types)"
      ],
      "metadata": {
        "colab": {
          "base_uri": "https://localhost:8080/"
        },
        "id": "f9KnscrZ9asS",
        "outputId": "b7e53583-363f-429b-a1fb-b4af91857cb9"
      },
      "execution_count": null,
      "outputs": [
        {
          "output_type": "stream",
          "name": "stdout",
          "text": [
            "{(16000,)}\n",
            "{<class 'numpy.ndarray'>}\n"
          ]
        }
      ]
    },
    {
      "cell_type": "markdown",
      "source": [
        "###Creating flat training arrays\n"
      ],
      "metadata": {
        "id": "T1HtiwrD90mH"
      }
    },
    {
      "cell_type": "code",
      "source": [
        "import random\n",
        "\n",
        "#code to do train;test splilt with the classes dictonary\n",
        "def split_classes_dict(classes, split_ratio=0.8, shuffle=True):\n",
        "    train_dict, test_dict = {}, {}\n",
        "    for cls, segments in classes.items():\n",
        "        if shuffle:\n",
        "            random.shuffle(segments)\n",
        "        split_point = int(len(segments) * split_ratio)\n",
        "        train_dict[cls] = segments[:split_point]\n",
        "        test_dict[cls] = segments[split_point:]\n",
        "    return train_dict, test_dict\n",
        "\n",
        "def flatten_classes(classes_dict, label_to_index):\n",
        "    data = []\n",
        "    labels = []\n",
        "\n",
        "    for cls_name, segment_list in classes_dict.items():\n",
        "        class_index = classesEncoding[cls_name]\n",
        "        for segment in segment_list:\n",
        "            data.append(segment)\n",
        "            labels.append(class_index)\n",
        "    return data, labels"
      ],
      "metadata": {
        "id": "E_oXfK3393bS"
      },
      "execution_count": null,
      "outputs": []
    },
    {
      "cell_type": "code",
      "source": [
        "#split the dictionaries, then flatten them to a list\n",
        "trainClasses, testClasses = split_classes_dict(classes)\n",
        "\n",
        "trainX, trainY = flatten_classes(trainClasses, classesEncoding)\n",
        "testX, testY = flatten_classes(testClasses, classesEncoding)"
      ],
      "metadata": {
        "id": "JbIn7STB97qS"
      },
      "execution_count": null,
      "outputs": []
    },
    {
      "cell_type": "code",
      "source": [
        "max = 0\n",
        "min = 1\n",
        "for x in trainX:\n",
        "  if np.max(x) > max:\n",
        "    max = np.max(x)\n",
        "\n",
        "  if np.min(x) < min:\n",
        "    min = np.min(x)\n",
        "\n",
        "print(max, min)\n",
        "#as we can see... all segments are in range of [-1, 1], when we deploy we have to normalize it too..."
      ],
      "metadata": {
        "id": "xZXQQ-UCjgxH"
      },
      "execution_count": null,
      "outputs": []
    },
    {
      "cell_type": "markdown",
      "source": [
        "###Feature Extraction....\n",
        "the manual mel-filterbanks energies"
      ],
      "metadata": {
        "id": "2qsXFYmZ99Ao"
      }
    },
    {
      "cell_type": "code",
      "source": [
        "# Define parameters\n",
        "sample_rate = 16000\n",
        "segment_length = 16000\n",
        "window_duration = 0.025  # 25 ms\n",
        "window_stride = 0.015  # 15 ms\n",
        "FFT_length = 512\n",
        "mel_bins = 40\n",
        "fmin = 80\n",
        "fmax = 2500\n",
        "\n",
        "win_length = int(window_duration * sample_rate)\n",
        "hop_length = int(window_stride * sample_rate)\n",
        "time_frames = int((segment_length - win_length) / hop_length) + 1"
      ],
      "metadata": {
        "id": "PTSEQvpJ9_KT"
      },
      "execution_count": null,
      "outputs": []
    },
    {
      "cell_type": "code",
      "source": [
        "def mel_spectrogram(audio, label):\n",
        "  spectrogram = tf.signal.stft(audio, frame_length=win_length, frame_step=hop_length, window_fn=tf.signal.hann_window, pad_end=False)\n",
        "  magnitude   = tf.abs(spectrogram) #we don't need this since we're taking power=2 anyways | complex numbers .\n",
        "  power       = tf.math.pow(magnitude, 2)\n",
        "\n",
        "  mel_weights     = tf.signal.linear_to_mel_weight_matrix(\n",
        "      num_mel_bins         = mel_bins,\n",
        "      num_spectrogram_bins = power.shape[-1],\n",
        "      sample_rate          = sample_rate,\n",
        "      lower_edge_hertz     = fmin,\n",
        "      upper_edge_hertz     = fmax\n",
        "      )\n",
        "\n",
        "  mel_spectrogram = tf.matmul(power, mel_weights)\n",
        "  log_mel         = tf.math.log(mel_spectrogram + 1e-6)\n",
        "\n",
        "  mel_spectrogram = tf.expand_dims(log_mel, axis=-1)  # Now shape = (time, 80, 1)\n",
        "  return log_mel, label"
      ],
      "metadata": {
        "id": "73fzH1u4-LbK"
      },
      "execution_count": null,
      "outputs": []
    },
    {
      "cell_type": "markdown",
      "source": [
        "###Creating the Datasets"
      ],
      "metadata": {
        "id": "emGCz_Mb-Ye8"
      }
    },
    {
      "cell_type": "code",
      "source": [
        "#create the datasets\n",
        "batchsize = 32\n",
        "trainDataset = tf.data.Dataset.from_tensor_slices((trainX, trainY))\n",
        "testDataset = tf.data.Dataset.from_tensor_slices((testX, testY))\n",
        "\n",
        "trainDataset = trainDataset.map(mel_spectrogram).shuffle(buffer_size=len(trainDataset)).batch(batchsize) #.map(mel_spectrogram)\n",
        "trainDataset = trainDataset.prefetch(buffer_size=tf.data.AUTOTUNE)\n",
        "\n",
        "testDataset = testDataset.map(mel_spectrogram).batch(batchsize)                                          #.map(mel_spectrogram)\n",
        "testDataset = testDataset.prefetch(buffer_size=tf.data.AUTOTUNE)"
      ],
      "metadata": {
        "id": "WU-umEne-aWH"
      },
      "execution_count": null,
      "outputs": []
    },
    {
      "cell_type": "markdown",
      "source": [
        "###Create the model"
      ],
      "metadata": {
        "id": "RihnwQKF-mm_"
      }
    },
    {
      "cell_type": "code",
      "source": [
        "from tensorflow.keras import layers\n",
        "def build_tiny_model(num_classes=5, input_shape=(time_frames, mel_bins,1)): #later on, delete this channel dimantion it's annoying\n",
        "    inputs = keras.Input(shape=input_shape, name=\"mel_input\")\n",
        "    x = inputs\n",
        "\n",
        "    # Block 1\n",
        "    x = layers.SeparableConv2D(12, (3,3), padding=\"same\")(x)\n",
        "    x = layers.BatchNormalization()(x)\n",
        "    x = layers.ReLU()(x)\n",
        "    x = layers.MaxPooling2D((2,2))(x)\n",
        "    # x = layers.Dropout(0.1)(x)\n",
        "\n",
        "    # Block 2\n",
        "    x = layers.SeparableConv2D(24, (3,3), padding=\"same\")(x)\n",
        "    x = layers.BatchNormalization()(x)\n",
        "    x = layers.ReLU()(x)\n",
        "    x = layers.MaxPooling2D((2,2))(x)\n",
        "    # x = layers.Dropout(0.1)(x)\n",
        "\n",
        "    # Block 3\n",
        "    x = layers.SeparableConv2D(48, (3,3), padding=\"same\")(x)\n",
        "    x = layers.BatchNormalization()(x)\n",
        "    x = layers.ReLU()(x)\n",
        "    x = layers.MaxPooling2D((2,2))(x)\n",
        "    # x = layers.Dropout(0.1)(x)\n",
        "\n",
        "    # Global pooling + light classifier\n",
        "    x = layers.GlobalAveragePooling2D()(x)\n",
        "    x = layers.Dense(32, activation=\"relu\")(x)\n",
        "    x = layers.Dropout(0.2)(x)\n",
        "    outputs = layers.Dense(num_classes, activation=\"softmax\")(x)\n",
        "\n",
        "    return keras.Model(inputs, outputs)\n"
      ],
      "metadata": {
        "id": "LmNf_J51-nnD"
      },
      "execution_count": null,
      "outputs": []
    },
    {
      "cell_type": "markdown",
      "source": [
        "###Train the model"
      ],
      "metadata": {
        "id": "-U-KcenBAaFt"
      }
    },
    {
      "cell_type": "code",
      "source": [
        "# import tensorflow_addons as tfa\n",
        "\n",
        "model = build_tiny_model()\n",
        "optimizer = keras.optimizers.AdamW(learning_rate=0.001)\n",
        "\n",
        "model.compile(optimizer=optimizer, loss=keras.losses.SparseCategoricalCrossentropy(), metrics=['accuracy'])"
      ],
      "metadata": {
        "id": "OXaOu_rYAbC6"
      },
      "execution_count": null,
      "outputs": []
    },
    {
      "cell_type": "code",
      "source": [
        "class_sizes = {}\n",
        "#loop over trainClasses and set class_sizes to the len() of trainClasses\n",
        "for cls, segments in trainClasses.items():\n",
        "    class_sizes[cls] = len(segments)\n",
        "\n",
        "total = sum(class_sizes.values())\n",
        "class_weights = {}\n",
        "for cls, size in class_sizes.items():\n",
        "    weight = total / (len(class_sizes) * size)\n",
        "    class_weights[classesEncoding[cls]] = weight\n",
        "\n",
        "# class_weights[0]+= 0.12\n",
        "# class_weights[1]+= 0.19\n",
        "# class_weights[4]-= 0.1 #risky a bit but we'll see...\n",
        "print(class_sizes)\n",
        "\n",
        "\n",
        "# for c in class_weights:\n",
        "#   class_weights[c] *= 2\n",
        "class_weights"
      ],
      "metadata": {
        "colab": {
          "base_uri": "https://localhost:8080/"
        },
        "id": "YOTqSNxCAe58",
        "outputId": "afd41a03-8760-4a41-e847-23a3db87aef0"
      },
      "execution_count": null,
      "outputs": [
        {
          "output_type": "stream",
          "name": "stdout",
          "text": [
            "{'culex pipiens complex': 5386, 'an funestus ss': 5440, 'ae aegypti': 911, 'background': 4444, 'an arabiensis': 10352}\n"
          ]
        },
        {
          "output_type": "execute_result",
          "data": {
            "text/plain": [
              "{0: 0.9852580764946157,\n",
              " 1: 0.9754779411764706,\n",
              " 2: 5.825027442371021,\n",
              " 3: 1.194104410441044,\n",
              " 4: 0.5126159196290572}"
            ]
          },
          "metadata": {},
          "execution_count": 11
        }
      ]
    },
    {
      "cell_type": "code",
      "source": [
        "from keras.callbacks import EarlyStopping, ModelCheckpoint\n",
        "\n",
        "early_stop = EarlyStopping(\n",
        "    monitor='val_loss',       # Metric to monitor\n",
        "    patience=15,               # Stop after 5 epochs of no improvement\n",
        "    restore_best_weights=True # Load best weights after stopping\n",
        ")"
      ],
      "metadata": {
        "id": "WPV-rKchAjMd"
      },
      "execution_count": null,
      "outputs": []
    },
    {
      "cell_type": "code",
      "source": [
        "history = model.fit(\n",
        "    trainDataset,\n",
        "    validation_data=testDataset,\n",
        "    epochs=100,\n",
        "    class_weight=class_weights,\n",
        "    callbacks=[early_stop])"
      ],
      "metadata": {
        "colab": {
          "base_uri": "https://localhost:8080/"
        },
        "id": "5in6RM1GAmw7",
        "outputId": "16b50e60-bdf6-4274-bc41-62917cf0fbbf"
      },
      "execution_count": null,
      "outputs": [
        {
          "output_type": "stream",
          "name": "stdout",
          "text": [
            "Epoch 1/100\n",
            "\u001b[1m830/830\u001b[0m \u001b[32m━━━━━━━━━━━━━━━━━━━━\u001b[0m\u001b[37m\u001b[0m \u001b[1m17s\u001b[0m 10ms/step - accuracy: 0.3556 - loss: 1.4154 - val_accuracy: 0.5679 - val_loss: 1.0625\n",
            "Epoch 2/100\n",
            "\u001b[1m830/830\u001b[0m \u001b[32m━━━━━━━━━━━━━━━━━━━━\u001b[0m\u001b[37m\u001b[0m \u001b[1m6s\u001b[0m 4ms/step - accuracy: 0.5280 - loss: 1.0240 - val_accuracy: 0.5846 - val_loss: 0.9716\n",
            "Epoch 3/100\n",
            "\u001b[1m830/830\u001b[0m \u001b[32m━━━━━━━━━━━━━━━━━━━━\u001b[0m\u001b[37m\u001b[0m \u001b[1m6s\u001b[0m 4ms/step - accuracy: 0.5735 - loss: 0.9255 - val_accuracy: 0.5781 - val_loss: 0.9642\n",
            "Epoch 4/100\n",
            "\u001b[1m830/830\u001b[0m \u001b[32m━━━━━━━━━━━━━━━━━━━━\u001b[0m\u001b[37m\u001b[0m \u001b[1m6s\u001b[0m 4ms/step - accuracy: 0.5868 - loss: 0.8661 - val_accuracy: 0.5869 - val_loss: 0.9423\n",
            "Epoch 5/100\n",
            "\u001b[1m830/830\u001b[0m \u001b[32m━━━━━━━━━━━━━━━━━━━━\u001b[0m\u001b[37m\u001b[0m \u001b[1m6s\u001b[0m 4ms/step - accuracy: 0.6072 - loss: 0.8455 - val_accuracy: 0.6621 - val_loss: 0.8045\n",
            "Epoch 6/100\n",
            "\u001b[1m830/830\u001b[0m \u001b[32m━━━━━━━━━━━━━━━━━━━━\u001b[0m\u001b[37m\u001b[0m \u001b[1m5s\u001b[0m 4ms/step - accuracy: 0.6221 - loss: 0.8104 - val_accuracy: 0.6089 - val_loss: 0.9381\n",
            "Epoch 7/100\n",
            "\u001b[1m830/830\u001b[0m \u001b[32m━━━━━━━━━━━━━━━━━━━━\u001b[0m\u001b[37m\u001b[0m \u001b[1m6s\u001b[0m 4ms/step - accuracy: 0.6278 - loss: 0.8062 - val_accuracy: 0.6413 - val_loss: 0.8191\n",
            "Epoch 8/100\n",
            "\u001b[1m830/830\u001b[0m \u001b[32m━━━━━━━━━━━━━━━━━━━━\u001b[0m\u001b[37m\u001b[0m \u001b[1m5s\u001b[0m 4ms/step - accuracy: 0.6315 - loss: 0.7743 - val_accuracy: 0.6140 - val_loss: 0.9282\n",
            "Epoch 9/100\n",
            "\u001b[1m830/830\u001b[0m \u001b[32m━━━━━━━━━━━━━━━━━━━━\u001b[0m\u001b[37m\u001b[0m \u001b[1m6s\u001b[0m 4ms/step - accuracy: 0.6388 - loss: 0.7714 - val_accuracy: 0.6708 - val_loss: 0.7672\n",
            "Epoch 10/100\n",
            "\u001b[1m830/830\u001b[0m \u001b[32m━━━━━━━━━━━━━━━━━━━━\u001b[0m\u001b[37m\u001b[0m \u001b[1m5s\u001b[0m 4ms/step - accuracy: 0.6423 - loss: 0.7523 - val_accuracy: 0.6829 - val_loss: 0.7678\n",
            "Epoch 11/100\n",
            "\u001b[1m830/830\u001b[0m \u001b[32m━━━━━━━━━━━━━━━━━━━━\u001b[0m\u001b[37m\u001b[0m \u001b[1m6s\u001b[0m 4ms/step - accuracy: 0.6526 - loss: 0.7446 - val_accuracy: 0.5938 - val_loss: 1.0002\n",
            "Epoch 12/100\n",
            "\u001b[1m830/830\u001b[0m \u001b[32m━━━━━━━━━━━━━━━━━━━━\u001b[0m\u001b[37m\u001b[0m \u001b[1m5s\u001b[0m 4ms/step - accuracy: 0.6590 - loss: 0.7284 - val_accuracy: 0.6396 - val_loss: 0.8390\n",
            "Epoch 13/100\n",
            "\u001b[1m830/830\u001b[0m \u001b[32m━━━━━━━━━━━━━━━━━━━━\u001b[0m\u001b[37m\u001b[0m \u001b[1m6s\u001b[0m 4ms/step - accuracy: 0.6548 - loss: 0.7128 - val_accuracy: 0.6491 - val_loss: 0.7868\n",
            "Epoch 14/100\n",
            "\u001b[1m830/830\u001b[0m \u001b[32m━━━━━━━━━━━━━━━━━━━━\u001b[0m\u001b[37m\u001b[0m \u001b[1m6s\u001b[0m 4ms/step - accuracy: 0.6633 - loss: 0.7075 - val_accuracy: 0.5742 - val_loss: 0.9751\n",
            "Epoch 15/100\n",
            "\u001b[1m830/830\u001b[0m \u001b[32m━━━━━━━━━━━━━━━━━━━━\u001b[0m\u001b[37m\u001b[0m \u001b[1m5s\u001b[0m 4ms/step - accuracy: 0.6749 - loss: 0.6897 - val_accuracy: 0.6653 - val_loss: 0.8625\n",
            "Epoch 16/100\n",
            "\u001b[1m830/830\u001b[0m \u001b[32m━━━━━━━━━━━━━━━━━━━━\u001b[0m\u001b[37m\u001b[0m \u001b[1m6s\u001b[0m 4ms/step - accuracy: 0.6682 - loss: 0.6958 - val_accuracy: 0.6313 - val_loss: 0.8086\n",
            "Epoch 17/100\n",
            "\u001b[1m830/830\u001b[0m \u001b[32m━━━━━━━━━━━━━━━━━━━━\u001b[0m\u001b[37m\u001b[0m \u001b[1m5s\u001b[0m 4ms/step - accuracy: 0.6772 - loss: 0.6768 - val_accuracy: 0.6353 - val_loss: 0.8239\n",
            "Epoch 18/100\n",
            "\u001b[1m830/830\u001b[0m \u001b[32m━━━━━━━━━━━━━━━━━━━━\u001b[0m\u001b[37m\u001b[0m \u001b[1m6s\u001b[0m 4ms/step - accuracy: 0.6800 - loss: 0.6926 - val_accuracy: 0.6092 - val_loss: 0.9211\n",
            "Epoch 19/100\n",
            "\u001b[1m830/830\u001b[0m \u001b[32m━━━━━━━━━━━━━━━━━━━━\u001b[0m\u001b[37m\u001b[0m \u001b[1m5s\u001b[0m 4ms/step - accuracy: 0.6769 - loss: 0.6718 - val_accuracy: 0.7014 - val_loss: 0.7105\n",
            "Epoch 20/100\n",
            "\u001b[1m830/830\u001b[0m \u001b[32m━━━━━━━━━━━━━━━━━━━━\u001b[0m\u001b[37m\u001b[0m \u001b[1m5s\u001b[0m 4ms/step - accuracy: 0.6802 - loss: 0.6617 - val_accuracy: 0.6820 - val_loss: 0.7842\n",
            "Epoch 21/100\n",
            "\u001b[1m830/830\u001b[0m \u001b[32m━━━━━━━━━━━━━━━━━━━━\u001b[0m\u001b[37m\u001b[0m \u001b[1m5s\u001b[0m 4ms/step - accuracy: 0.6871 - loss: 0.6643 - val_accuracy: 0.6598 - val_loss: 0.7858\n",
            "Epoch 22/100\n",
            "\u001b[1m830/830\u001b[0m \u001b[32m━━━━━━━━━━━━━━━━━━━━\u001b[0m\u001b[37m\u001b[0m \u001b[1m6s\u001b[0m 4ms/step - accuracy: 0.6803 - loss: 0.6768 - val_accuracy: 0.7109 - val_loss: 0.6950\n",
            "Epoch 23/100\n",
            "\u001b[1m830/830\u001b[0m \u001b[32m━━━━━━━━━━━━━━━━━━━━\u001b[0m\u001b[37m\u001b[0m \u001b[1m6s\u001b[0m 4ms/step - accuracy: 0.6880 - loss: 0.6632 - val_accuracy: 0.7076 - val_loss: 0.7142\n",
            "Epoch 24/100\n",
            "\u001b[1m830/830\u001b[0m \u001b[32m━━━━━━━━━━━━━━━━━━━━\u001b[0m\u001b[37m\u001b[0m \u001b[1m6s\u001b[0m 4ms/step - accuracy: 0.6874 - loss: 0.6486 - val_accuracy: 0.6425 - val_loss: 0.8562\n",
            "Epoch 25/100\n",
            "\u001b[1m830/830\u001b[0m \u001b[32m━━━━━━━━━━━━━━━━━━━━\u001b[0m\u001b[37m\u001b[0m \u001b[1m6s\u001b[0m 4ms/step - accuracy: 0.6892 - loss: 0.6506 - val_accuracy: 0.7109 - val_loss: 0.6972\n",
            "Epoch 26/100\n",
            "\u001b[1m830/830\u001b[0m \u001b[32m━━━━━━━━━━━━━━━━━━━━\u001b[0m\u001b[37m\u001b[0m \u001b[1m6s\u001b[0m 4ms/step - accuracy: 0.6823 - loss: 0.6667 - val_accuracy: 0.6925 - val_loss: 0.7525\n",
            "Epoch 27/100\n",
            "\u001b[1m830/830\u001b[0m \u001b[32m━━━━━━━━━━━━━━━━━━━━\u001b[0m\u001b[37m\u001b[0m \u001b[1m6s\u001b[0m 4ms/step - accuracy: 0.6985 - loss: 0.6367 - val_accuracy: 0.7239 - val_loss: 0.6595\n",
            "Epoch 28/100\n",
            "\u001b[1m830/830\u001b[0m \u001b[32m━━━━━━━━━━━━━━━━━━━━\u001b[0m\u001b[37m\u001b[0m \u001b[1m6s\u001b[0m 4ms/step - accuracy: 0.6933 - loss: 0.6462 - val_accuracy: 0.7055 - val_loss: 0.7311\n",
            "Epoch 29/100\n",
            "\u001b[1m830/830\u001b[0m \u001b[32m━━━━━━━━━━━━━━━━━━━━\u001b[0m\u001b[37m\u001b[0m \u001b[1m6s\u001b[0m 4ms/step - accuracy: 0.6852 - loss: 0.6549 - val_accuracy: 0.6933 - val_loss: 0.7625\n",
            "Epoch 30/100\n",
            "\u001b[1m830/830\u001b[0m \u001b[32m━━━━━━━━━━━━━━━━━━━━\u001b[0m\u001b[37m\u001b[0m \u001b[1m6s\u001b[0m 4ms/step - accuracy: 0.6984 - loss: 0.6369 - val_accuracy: 0.6833 - val_loss: 0.7620\n",
            "Epoch 31/100\n",
            "\u001b[1m830/830\u001b[0m \u001b[32m━━━━━━━━━━━━━━━━━━━━\u001b[0m\u001b[37m\u001b[0m \u001b[1m6s\u001b[0m 4ms/step - accuracy: 0.7064 - loss: 0.6294 - val_accuracy: 0.6969 - val_loss: 0.7271\n",
            "Epoch 32/100\n",
            "\u001b[1m830/830\u001b[0m \u001b[32m━━━━━━━━━━━━━━━━━━━━\u001b[0m\u001b[37m\u001b[0m \u001b[1m6s\u001b[0m 4ms/step - accuracy: 0.6932 - loss: 0.6347 - val_accuracy: 0.7188 - val_loss: 0.6848\n",
            "Epoch 33/100\n",
            "\u001b[1m830/830\u001b[0m \u001b[32m━━━━━━━━━━━━━━━━━━━━\u001b[0m\u001b[37m\u001b[0m \u001b[1m6s\u001b[0m 4ms/step - accuracy: 0.7028 - loss: 0.6351 - val_accuracy: 0.6505 - val_loss: 0.8051\n",
            "Epoch 34/100\n",
            "\u001b[1m830/830\u001b[0m \u001b[32m━━━━━━━━━━━━━━━━━━━━\u001b[0m\u001b[37m\u001b[0m \u001b[1m6s\u001b[0m 4ms/step - accuracy: 0.7002 - loss: 0.6150 - val_accuracy: 0.6424 - val_loss: 0.8620\n",
            "Epoch 35/100\n",
            "\u001b[1m830/830\u001b[0m \u001b[32m━━━━━━━━━━━━━━━━━━━━\u001b[0m\u001b[37m\u001b[0m \u001b[1m5s\u001b[0m 4ms/step - accuracy: 0.7046 - loss: 0.6121 - val_accuracy: 0.6433 - val_loss: 0.9549\n",
            "Epoch 36/100\n",
            "\u001b[1m830/830\u001b[0m \u001b[32m━━━━━━━━━━━━━━━━━━━━\u001b[0m\u001b[37m\u001b[0m \u001b[1m6s\u001b[0m 4ms/step - accuracy: 0.7050 - loss: 0.6092 - val_accuracy: 0.7231 - val_loss: 0.6935\n",
            "Epoch 37/100\n",
            "\u001b[1m830/830\u001b[0m \u001b[32m━━━━━━━━━━━━━━━━━━━━\u001b[0m\u001b[37m\u001b[0m \u001b[1m5s\u001b[0m 4ms/step - accuracy: 0.7084 - loss: 0.6242 - val_accuracy: 0.6550 - val_loss: 0.8000\n",
            "Epoch 38/100\n",
            "\u001b[1m830/830\u001b[0m \u001b[32m━━━━━━━━━━━━━━━━━━━━\u001b[0m\u001b[37m\u001b[0m \u001b[1m5s\u001b[0m 4ms/step - accuracy: 0.6995 - loss: 0.6296 - val_accuracy: 0.7319 - val_loss: 0.6667\n",
            "Epoch 39/100\n",
            "\u001b[1m830/830\u001b[0m \u001b[32m━━━━━━━━━━━━━━━━━━━━\u001b[0m\u001b[37m\u001b[0m \u001b[1m5s\u001b[0m 4ms/step - accuracy: 0.7115 - loss: 0.6039 - val_accuracy: 0.6800 - val_loss: 0.7277\n",
            "Epoch 40/100\n",
            "\u001b[1m830/830\u001b[0m \u001b[32m━━━━━━━━━━━━━━━━━━━━\u001b[0m\u001b[37m\u001b[0m \u001b[1m5s\u001b[0m 4ms/step - accuracy: 0.7047 - loss: 0.6021 - val_accuracy: 0.6422 - val_loss: 0.9020\n",
            "Epoch 41/100\n",
            "\u001b[1m830/830\u001b[0m \u001b[32m━━━━━━━━━━━━━━━━━━━━\u001b[0m\u001b[37m\u001b[0m \u001b[1m6s\u001b[0m 4ms/step - accuracy: 0.7119 - loss: 0.6096 - val_accuracy: 0.6972 - val_loss: 0.7204\n",
            "Epoch 42/100\n",
            "\u001b[1m830/830\u001b[0m \u001b[32m━━━━━━━━━━━━━━━━━━━━\u001b[0m\u001b[37m\u001b[0m \u001b[1m6s\u001b[0m 4ms/step - accuracy: 0.7150 - loss: 0.5907 - val_accuracy: 0.7167 - val_loss: 0.7242\n"
          ]
        }
      ]
    },
    {
      "cell_type": "markdown",
      "source": [
        "###Analyizing the model"
      ],
      "metadata": {
        "id": "343_x5xVAqUI"
      }
    },
    {
      "cell_type": "code",
      "source": [
        "import matplotlib.pyplot as plt\n",
        "\n",
        "plt.plot(history.history['accuracy'], label='train')\n",
        "plt.plot(history.history['val_accuracy'], label='val')\n",
        "plt.title('Model Accuracy')\n",
        "plt.xlabel('Epoch')\n",
        "plt.ylabel('Loss')\n",
        "plt.legend()\n",
        "plt.show()\n",
        "\n",
        "#also plot loss\n",
        "plt.plot(history.history['loss'], label='train')\n",
        "plt.plot(history.history['val_loss'], label='val')\n",
        "plt.title('Model Loss')\n",
        "plt.xlabel('Epoch')\n",
        "plt.ylabel('Loss')\n",
        "plt.legend()\n",
        "plt.show"
      ],
      "metadata": {
        "colab": {
          "base_uri": "https://localhost:8080/",
          "height": 1000
        },
        "id": "V7g5ivV9AryT",
        "outputId": "3731258f-dfe4-4467-8531-e75cd81903ed"
      },
      "execution_count": null,
      "outputs": [
        {
          "output_type": "display_data",
          "data": {
            "text/plain": [
              "<Figure size 640x480 with 1 Axes>"
            ],
            "image/png": "[encoded data removed]"
          },
          "metadata": {}
        },
        {
          "output_type": "execute_result",
          "data": {
            "text/plain": [
              "<function matplotlib.pyplot.show(close=None, block=None)>"
            ],
            "text/html": [
              "<div style=\"max-width:800px; border: 1px solid var(--colab-border-color);\"><style>\n",
              "      pre.function-repr-contents {\n",
              "        overflow-x: auto;\n",
              "        padding: 8px 12px;\n",
              "        max-height: 500px;\n",
              "      }\n",
              "\n",
              "      pre.function-repr-contents.function-repr-contents-collapsed {\n",
              "        cursor: pointer;\n",
              "        max-height: 100px;\n",
              "      }\n",
              "    </style>\n",
              "    <pre style=\"white-space: initial; background:\n",
              "         var(--colab-secondary-surface-color); padding: 8px 12px;\n",
              "         border-bottom: 1px solid var(--colab-border-color);\"><b>matplotlib.pyplot.show</b><br/>def show(*args, **kwargs) -&gt; None</pre><pre class=\"function-repr-contents function-repr-contents-collapsed\" style=\"\"><a class=\"filepath\" style=\"display:none\" href=\"#\">/usr/local/lib/python3.11/dist-packages/matplotlib/pyplot.py</a>Display all open figures.\n",
              "\n",
              "Parameters\n",
              "----------\n",
              "block : bool, optional\n",
              "    Whether to wait for all figures to be closed before returning.\n",
              "\n",
              "    If `True` block and run the GUI main loop until all figure windows\n",
              "    are closed.\n",
              "\n",
              "    If `False` ensure that all figure windows are displayed and return\n",
              "    immediately.  In this case, you are responsible for ensuring\n",
              "    that the event loop is running to have responsive figures.\n",
              "\n",
              "    Defaults to True in non-interactive mode and to False in interactive\n",
              "    mode (see `.pyplot.isinteractive`).\n",
              "\n",
              "See Also\n",
              "--------\n",
              "ion : Enable interactive mode, which shows / updates the figure after\n",
              "      every plotting command, so that calling ``show()`` is not necessary.\n",
              "ioff : Disable interactive mode.\n",
              "savefig : Save the figure to an image file instead of showing it on screen.\n",
              "\n",
              "Notes\n",
              "-----\n",
              "**Saving figures to file and showing a window at the same time**\n",
              "\n",
              "If you want an image file as well as a user interface window, use\n",
              "`.pyplot.savefig` before `.pyplot.show`. At the end of (a blocking)\n",
              "``show()`` the figure is closed and thus unregistered from pyplot. Calling\n",
              "`.pyplot.savefig` afterwards would save a new and thus empty figure. This\n",
              "limitation of command order does not apply if the show is non-blocking or\n",
              "if you keep a reference to the figure and use `.Figure.savefig`.\n",
              "\n",
              "**Auto-show in jupyter notebooks**\n",
              "\n",
              "The jupyter backends (activated via ``%matplotlib inline``,\n",
              "``%matplotlib notebook``, or ``%matplotlib widget``), call ``show()`` at\n",
              "the end of every cell by default. Thus, you usually don&#x27;t have to call it\n",
              "explicitly there.</pre>\n",
              "      <script>\n",
              "      if (google.colab.kernel.accessAllowed && google.colab.files && google.colab.files.view) {\n",
              "        for (const element of document.querySelectorAll('.filepath')) {\n",
              "          element.style.display = 'block'\n",
              "          element.onclick = (event) => {\n",
              "            event.preventDefault();\n",
              "            event.stopPropagation();\n",
              "            google.colab.files.view(element.textContent, 569);\n",
              "          };\n",
              "        }\n",
              "      }\n",
              "      for (const element of document.querySelectorAll('.function-repr-contents')) {\n",
              "        element.onclick = (event) => {\n",
              "          event.preventDefault();\n",
              "          event.stopPropagation();\n",
              "          element.classList.toggle('function-repr-contents-collapsed');\n",
              "        };\n",
              "      }\n",
              "      </script>\n",
              "      </div>"
            ]
          },
          "metadata": {},
          "execution_count": 59
        },
        {
          "output_type": "display_data",
          "data": {
            "text/plain": [
              "<Figure size 640x480 with 1 Axes>"
            ],
            "image/png": "[encoded data removed]"
          },
          "metadata": {}
        }
      ]
    },
    {
      "cell_type": "code",
      "source": [
        "import numpy as np\n",
        "\n",
        "y_pred = model.predict(testDataset)\n",
        "y_pred_classes = np.argmax(y_pred, axis=1)  # Convert softmax to class indices\n",
        "\n",
        "y_true = np.concatenate([y for x, y in testDataset], axis=0)\n",
        "\n",
        "clasess = [name for name, weight in class_weights.items()]\n",
        "\n",
        "from sklearn.metrics import confusion_matrix\n",
        "import matplotlib.pyplot as plt\n",
        "import seaborn as sns\n",
        "\n",
        "norm = False\n",
        "if norm:\n",
        "  cm = confusion_matrix(y_true, y_pred_classes, normalize='true')\n",
        "  cm*= 100\n",
        "else:\n",
        "  cm = confusion_matrix(y_true, y_pred_classes)\n",
        "\n",
        "plt.figure(figsize=(12,8))\n",
        "sns.heatmap(cm, annot=True, fmt='.2f', cmap='Blues',\n",
        "            xticklabels= classes,\n",
        "            yticklabels=classes)\n",
        "plt.xlabel('Predicted Label')\n",
        "plt.ylabel('True Label')\n",
        "plt.title('Confusion Matrix')\n",
        "plt.show()\n"
      ],
      "metadata": {
        "colab": {
          "base_uri": "https://localhost:8080/",
          "height": 755
        },
        "id": "QOO0K3cFA0Jg",
        "outputId": "1cef9f15-842b-4d6e-fa9d-74a3d46e39e2"
      },
      "execution_count": null,
      "outputs": [
        {
          "output_type": "stream",
          "name": "stdout",
          "text": [
            "\u001b[1m208/208\u001b[0m \u001b[32m━━━━━━━━━━━━━━━━━━━━\u001b[0m\u001b[37m\u001b[0m \u001b[1m2s\u001b[0m 6ms/step\n"
          ]
        },
        {
          "output_type": "display_data",
          "data": {
            "text/plain": [
              "<Figure size 1200x800 with 2 Axes>"
            ],
            "image/png": "[encoded data removed]"
          },
          "metadata": {}
        }
      ]
    },
    {
      "cell_type": "code",
      "source": [
        "from sklearn.metrics import (\n",
        "    classification_report,\n",
        "    accuracy_score,\n",
        "    balanced_accuracy_score,\n",
        "    precision_score,\n",
        "    recall_score,\n",
        "    f1_score\n",
        ")\n",
        "\n",
        "\n",
        "y_pred = model.predict(testDataset)\n",
        "y_pred_classes = np.argmax(y_pred, axis=1)  # Convert softmax to class indices\n",
        "\n",
        "y_true = np.concatenate([y for x, y in testDataset], axis=0)\n",
        "\n",
        "# Basic overall metrics\n",
        "print(\"📊 Overall Performance Metrics:\")\n",
        "print(f\"Accuracy: {accuracy_score(y_true, y_pred_classes):.4f}\")\n",
        "print(f\"Balanced Accuracy: {balanced_accuracy_score(y_true, y_pred_classes):.4f}\")\n",
        "print(f\"Macro Precision: {precision_score(y_true, y_pred_classes, average='macro'):.4f}\")\n",
        "print(f\"Macro Recall: {recall_score(y_true, y_pred_classes, average='macro'):.4f}\")\n",
        "print(f\"Macro F1-Score: {f1_score(y_true, y_pred_classes, average='macro'):.4f}\")\n",
        "\n",
        "# Detailed breakdown per class\n",
        "print(\"\\n📋 Classification Report:\")\n",
        "print(classification_report(y_true, y_pred_classes, digits=4))\n"
      ],
      "metadata": {
        "colab": {
          "base_uri": "https://localhost:8080/"
        },
        "id": "ZHOkRsmgA3T7",
        "outputId": "5915ad1e-6481-44cf-87d2-fba78e3ebd55"
      },
      "execution_count": null,
      "outputs": [
        {
          "output_type": "stream",
          "name": "stdout",
          "text": [
            "\u001b[1m208/208\u001b[0m \u001b[32m━━━━━━━━━━━━━━━━━━━━\u001b[0m\u001b[37m\u001b[0m \u001b[1m2s\u001b[0m 6ms/step\n",
            "📊 Overall Performance Metrics:\n",
            "Accuracy: 0.7239\n",
            "Balanced Accuracy: 0.7518\n",
            "Macro Precision: 0.7090\n",
            "Macro Recall: 0.7518\n",
            "Macro F1-Score: 0.7263\n",
            "\n",
            "📋 Classification Report:\n",
            "              precision    recall  f1-score   support\n",
            "\n",
            "           0     0.5463    0.6488    0.5931      1347\n",
            "           1     0.6988    0.6870    0.6928      1361\n",
            "           2     0.6167    0.7763    0.6874       228\n",
            "           3     0.8954    0.9784    0.9351      1111\n",
            "           4     0.7878    0.6685    0.7232      2588\n",
            "\n",
            "    accuracy                         0.7239      6635\n",
            "   macro avg     0.7090    0.7518    0.7263      6635\n",
            "weighted avg     0.7326    0.7239    0.7248      6635\n",
            "\n"
          ]
        }
      ]
    },
    {
      "cell_type": "markdown",
      "source": [
        "###Quanatize and convert to .tflite"
      ],
      "metadata": {
        "id": "iC3EB7mglRYX"
      }
    },
    {
      "cell_type": "code",
      "source": [
        "def representative_dataset():\n",
        "    for input_batch, _ in trainDataset.take(len(trainDataset)):\n",
        "        for input_example in input_batch:\n",
        "            input_example = input_example.numpy()\n",
        "            input_example = input_example.astype(np.float32)\n",
        "            input_example = np.expand_dims(input_example, axis=0)  # Add batch dimension\n",
        "            input_example = np.expand_dims(input_example, axis=-1)  # Add batch dimension\n",
        "\n",
        "            yield [input_example]"
      ],
      "metadata": {
        "id": "G7Egt-5_lVua"
      },
      "execution_count": null,
      "outputs": []
    },
    {
      "cell_type": "code",
      "source": [
        "model.trainable = False # I didn't know this was a thing in keras ...\n",
        "\n",
        "converter = tf.lite.TFLiteConverter.from_keras_model(model)\n",
        "converter.optimizations = [tf.lite.Optimize.DEFAULT]\n",
        "\n",
        "# Use input/output INT8 quantization\n",
        "converter.optimizations = [tf.lite.Optimize.DEFAULT]\n",
        "converter.target_spec.supported_ops = [\n",
        "    tf.lite.OpsSet.TFLITE_BUILTINS_INT8\n",
        "]\n",
        "converter.inference_input_type  = tf.int8   # or tf.uint8\n",
        "converter.inference_output_type = tf.int8\n",
        "\n",
        "converter.representative_dataset = representative_dataset\n",
        "\n",
        "# Convert the model\n",
        "tflite_model = converter.convert()\n",
        "\n",
        "# Save the quantized TFLite model\n",
        "with open('s1SeprableConvSoftmaxModel.tflite', 'wb') as f:\n",
        "    f.write(tflite_model)"
      ],
      "metadata": {
        "id": "ALeN4prkoyQx",
        "colab": {
          "base_uri": "https://localhost:8080/"
        },
        "outputId": "ff68f4f7-97b4-4982-9870-c2ff1ccbe5f5"
      },
      "execution_count": null,
      "outputs": [
        {
          "output_type": "stream",
          "name": "stdout",
          "text": [
            "Saved artifact at '/tmp/tmpho2b771u'. The following endpoints are available:\n",
            "\n",
            "* Endpoint 'serve'\n",
            "  args_0 (POSITIONAL_ONLY): TensorSpec(shape=(None, 66, 40, 1), dtype=tf.float32, name='mel_input')\n",
            "Output Type:\n",
            "  TensorSpec(shape=(None, 5), dtype=tf.float32, name=None)\n",
            "Captures:\n",
            "  135566497168080: TensorSpec(shape=(), dtype=tf.resource, name=None)\n",
            "  135566497164240: TensorSpec(shape=(), dtype=tf.resource, name=None)\n",
            "  135566497166544: TensorSpec(shape=(), dtype=tf.resource, name=None)\n",
            "  135566497165200: TensorSpec(shape=(), dtype=tf.resource, name=None)\n",
            "  135566497166160: TensorSpec(shape=(), dtype=tf.resource, name=None)\n",
            "  135566497163664: TensorSpec(shape=(), dtype=tf.resource, name=None)\n",
            "  135566497167120: TensorSpec(shape=(), dtype=tf.resource, name=None)\n",
            "  135566497167312: TensorSpec(shape=(), dtype=tf.resource, name=None)\n",
            "  135566497166928: TensorSpec(shape=(), dtype=tf.resource, name=None)\n",
            "  135566497167888: TensorSpec(shape=(), dtype=tf.resource, name=None)\n",
            "  135566497168464: TensorSpec(shape=(), dtype=tf.resource, name=None)\n",
            "  135566497169232: TensorSpec(shape=(), dtype=tf.resource, name=None)\n",
            "  135566497167504: TensorSpec(shape=(), dtype=tf.resource, name=None)\n",
            "  135566497159248: TensorSpec(shape=(), dtype=tf.resource, name=None)\n",
            "  135566497166736: TensorSpec(shape=(), dtype=tf.resource, name=None)\n",
            "  135566497169040: TensorSpec(shape=(), dtype=tf.resource, name=None)\n",
            "  135566497164432: TensorSpec(shape=(), dtype=tf.resource, name=None)\n",
            "  135566497158672: TensorSpec(shape=(), dtype=tf.resource, name=None)\n",
            "  135566497164624: TensorSpec(shape=(), dtype=tf.resource, name=None)\n",
            "  135566497165392: TensorSpec(shape=(), dtype=tf.resource, name=None)\n",
            "  135566497160400: TensorSpec(shape=(), dtype=tf.resource, name=None)\n",
            "  135566497168656: TensorSpec(shape=(), dtype=tf.resource, name=None)\n",
            "  135566497165008: TensorSpec(shape=(), dtype=tf.resource, name=None)\n",
            "  135566497160208: TensorSpec(shape=(), dtype=tf.resource, name=None)\n",
            "  135570998946960: TensorSpec(shape=(), dtype=tf.resource, name=None)\n"
          ]
        },
        {
          "output_type": "stream",
          "name": "stderr",
          "text": [
            "/usr/local/lib/python3.11/dist-packages/tensorflow/lite/python/convert.py:854: UserWarning: Statistics for quantized inputs were expected, but not specified; continuing anyway.\n",
            "  warnings.warn(\n"
          ]
        }
      ]
    },
    {
      "cell_type": "code",
      "source": [
        "#summery of model\n",
        "model.summary()"
      ],
      "metadata": {
        "id": "n0w6yfC8pavO",
        "outputId": "edbac195-29d8-46af-dde4-6318d976094b",
        "colab": {
          "base_uri": "https://localhost:8080/",
          "height": 801
        }
      },
      "execution_count": null,
      "outputs": [
        {
          "output_type": "display_data",
          "data": {
            "text/plain": [
              "\u001b[1mModel: \"functional_7\"\u001b[0m\n"
            ],
            "text/html": [
              "<pre style=\"white-space:pre;overflow-x:auto;line-height:normal;font-family:Menlo,'DejaVu Sans Mono',consolas,'Courier New',monospace\"><span style=\"font-weight: bold\">Model: \"functional_7\"</span>\n",
              "</pre>\n"
            ]
          },
          "metadata": {}
        },
        {
          "output_type": "display_data",
          "data": {
            "text/plain": [
              "┏━━━━━━━━━━━━━━━━━━━━━━━━━━━━━━━━━┳━━━━━━━━━━━━━━━━━━━━━━━━┳━━━━━━━━━━━━━━━┓\n",
              "┃\u001b[1m \u001b[0m\u001b[1mLayer (type)                   \u001b[0m\u001b[1m \u001b[0m┃\u001b[1m \u001b[0m\u001b[1mOutput Shape          \u001b[0m\u001b[1m \u001b[0m┃\u001b[1m \u001b[0m\u001b[1m      Param #\u001b[0m\u001b[1m \u001b[0m┃\n",
              "┡━━━━━━━━━━━━━━━━━━━━━━━━━━━━━━━━━╇━━━━━━━━━━━━━━━━━━━━━━━━╇━━━━━━━━━━━━━━━┩\n",
              "│ mel_input (\u001b[38;5;33mInputLayer\u001b[0m)          │ (\u001b[38;5;45mNone\u001b[0m, \u001b[38;5;34m66\u001b[0m, \u001b[38;5;34m40\u001b[0m, \u001b[38;5;34m1\u001b[0m)      │             \u001b[38;5;34m0\u001b[0m │\n",
              "├─────────────────────────────────┼────────────────────────┼───────────────┤\n",
              "│ separable_conv2d_9              │ (\u001b[38;5;45mNone\u001b[0m, \u001b[38;5;34m66\u001b[0m, \u001b[38;5;34m40\u001b[0m, \u001b[38;5;34m12\u001b[0m)     │            \u001b[38;5;34m33\u001b[0m │\n",
              "│ (\u001b[38;5;33mSeparableConv2D\u001b[0m)               │                        │               │\n",
              "├─────────────────────────────────┼────────────────────────┼───────────────┤\n",
              "│ batch_normalization_9           │ (\u001b[38;5;45mNone\u001b[0m, \u001b[38;5;34m66\u001b[0m, \u001b[38;5;34m40\u001b[0m, \u001b[38;5;34m12\u001b[0m)     │            \u001b[38;5;34m48\u001b[0m │\n",
              "│ (\u001b[38;5;33mBatchNormalization\u001b[0m)            │                        │               │\n",
              "├─────────────────────────────────┼────────────────────────┼───────────────┤\n",
              "│ re_lu_9 (\u001b[38;5;33mReLU\u001b[0m)                  │ (\u001b[38;5;45mNone\u001b[0m, \u001b[38;5;34m66\u001b[0m, \u001b[38;5;34m40\u001b[0m, \u001b[38;5;34m12\u001b[0m)     │             \u001b[38;5;34m0\u001b[0m │\n",
              "├─────────────────────────────────┼────────────────────────┼───────────────┤\n",
              "│ max_pooling2d_13 (\u001b[38;5;33mMaxPooling2D\u001b[0m) │ (\u001b[38;5;45mNone\u001b[0m, \u001b[38;5;34m33\u001b[0m, \u001b[38;5;34m20\u001b[0m, \u001b[38;5;34m12\u001b[0m)     │             \u001b[38;5;34m0\u001b[0m │\n",
              "├─────────────────────────────────┼────────────────────────┼───────────────┤\n",
              "│ separable_conv2d_10             │ (\u001b[38;5;45mNone\u001b[0m, \u001b[38;5;34m33\u001b[0m, \u001b[38;5;34m20\u001b[0m, \u001b[38;5;34m24\u001b[0m)     │           \u001b[38;5;34m420\u001b[0m │\n",
              "│ (\u001b[38;5;33mSeparableConv2D\u001b[0m)               │                        │               │\n",
              "├─────────────────────────────────┼────────────────────────┼───────────────┤\n",
              "│ batch_normalization_10          │ (\u001b[38;5;45mNone\u001b[0m, \u001b[38;5;34m33\u001b[0m, \u001b[38;5;34m20\u001b[0m, \u001b[38;5;34m24\u001b[0m)     │            \u001b[38;5;34m96\u001b[0m │\n",
              "│ (\u001b[38;5;33mBatchNormalization\u001b[0m)            │                        │               │\n",
              "├─────────────────────────────────┼────────────────────────┼───────────────┤\n",
              "│ re_lu_10 (\u001b[38;5;33mReLU\u001b[0m)                 │ (\u001b[38;5;45mNone\u001b[0m, \u001b[38;5;34m33\u001b[0m, \u001b[38;5;34m20\u001b[0m, \u001b[38;5;34m24\u001b[0m)     │             \u001b[38;5;34m0\u001b[0m │\n",
              "├─────────────────────────────────┼────────────────────────┼───────────────┤\n",
              "│ max_pooling2d_14 (\u001b[38;5;33mMaxPooling2D\u001b[0m) │ (\u001b[38;5;45mNone\u001b[0m, \u001b[38;5;34m16\u001b[0m, \u001b[38;5;34m10\u001b[0m, \u001b[38;5;34m24\u001b[0m)     │             \u001b[38;5;34m0\u001b[0m │\n",
              "├─────────────────────────────────┼────────────────────────┼───────────────┤\n",
              "│ separable_conv2d_11             │ (\u001b[38;5;45mNone\u001b[0m, \u001b[38;5;34m16\u001b[0m, \u001b[38;5;34m10\u001b[0m, \u001b[38;5;34m48\u001b[0m)     │         \u001b[38;5;34m1,416\u001b[0m │\n",
              "│ (\u001b[38;5;33mSeparableConv2D\u001b[0m)               │                        │               │\n",
              "├─────────────────────────────────┼────────────────────────┼───────────────┤\n",
              "│ batch_normalization_11          │ (\u001b[38;5;45mNone\u001b[0m, \u001b[38;5;34m16\u001b[0m, \u001b[38;5;34m10\u001b[0m, \u001b[38;5;34m48\u001b[0m)     │           \u001b[38;5;34m192\u001b[0m │\n",
              "│ (\u001b[38;5;33mBatchNormalization\u001b[0m)            │                        │               │\n",
              "├─────────────────────────────────┼────────────────────────┼───────────────┤\n",
              "│ re_lu_11 (\u001b[38;5;33mReLU\u001b[0m)                 │ (\u001b[38;5;45mNone\u001b[0m, \u001b[38;5;34m16\u001b[0m, \u001b[38;5;34m10\u001b[0m, \u001b[38;5;34m48\u001b[0m)     │             \u001b[38;5;34m0\u001b[0m │\n",
              "├─────────────────────────────────┼────────────────────────┼───────────────┤\n",
              "│ max_pooling2d_15 (\u001b[38;5;33mMaxPooling2D\u001b[0m) │ (\u001b[38;5;45mNone\u001b[0m, \u001b[38;5;34m8\u001b[0m, \u001b[38;5;34m5\u001b[0m, \u001b[38;5;34m48\u001b[0m)       │             \u001b[38;5;34m0\u001b[0m │\n",
              "├─────────────────────────────────┼────────────────────────┼───────────────┤\n",
              "│ global_average_pooling2d_3      │ (\u001b[38;5;45mNone\u001b[0m, \u001b[38;5;34m48\u001b[0m)             │             \u001b[38;5;34m0\u001b[0m │\n",
              "│ (\u001b[38;5;33mGlobalAveragePooling2D\u001b[0m)        │                        │               │\n",
              "├─────────────────────────────────┼────────────────────────┼───────────────┤\n",
              "│ dense_10 (\u001b[38;5;33mDense\u001b[0m)                │ (\u001b[38;5;45mNone\u001b[0m, \u001b[38;5;34m32\u001b[0m)             │         \u001b[38;5;34m1,568\u001b[0m │\n",
              "├─────────────────────────────────┼────────────────────────┼───────────────┤\n",
              "│ dropout_12 (\u001b[38;5;33mDropout\u001b[0m)            │ (\u001b[38;5;45mNone\u001b[0m, \u001b[38;5;34m32\u001b[0m)             │             \u001b[38;5;34m0\u001b[0m │\n",
              "├─────────────────────────────────┼────────────────────────┼───────────────┤\n",
              "│ dense_11 (\u001b[38;5;33mDense\u001b[0m)                │ (\u001b[38;5;45mNone\u001b[0m, \u001b[38;5;34m5\u001b[0m)              │           \u001b[38;5;34m165\u001b[0m │\n",
              "└─────────────────────────────────┴────────────────────────┴───────────────┘\n"
            ],
            "text/html": [
              "<pre style=\"white-space:pre;overflow-x:auto;line-height:normal;font-family:Menlo,'DejaVu Sans Mono',consolas,'Courier New',monospace\">┏━━━━━━━━━━━━━━━━━━━━━━━━━━━━━━━━━┳━━━━━━━━━━━━━━━━━━━━━━━━┳━━━━━━━━━━━━━━━┓\n",
              "┃<span style=\"font-weight: bold\"> Layer (type)                    </span>┃<span style=\"font-weight: bold\"> Output Shape           </span>┃<span style=\"font-weight: bold\">       Param # </span>┃\n",
              "┡━━━━━━━━━━━━━━━━━━━━━━━━━━━━━━━━━╇━━━━━━━━━━━━━━━━━━━━━━━━╇━━━━━━━━━━━━━━━┩\n",
              "│ mel_input (<span style=\"color: #0087ff; text-decoration-color: #0087ff\">InputLayer</span>)          │ (<span style=\"color: #00d7ff; text-decoration-color: #00d7ff\">None</span>, <span style=\"color: #00af00; text-decoration-color: #00af00\">66</span>, <span style=\"color: #00af00; text-decoration-color: #00af00\">40</span>, <span style=\"color: #00af00; text-decoration-color: #00af00\">1</span>)      │             <span style=\"color: #00af00; text-decoration-color: #00af00\">0</span> │\n",
              "├─────────────────────────────────┼────────────────────────┼───────────────┤\n",
              "│ separable_conv2d_9              │ (<span style=\"color: #00d7ff; text-decoration-color: #00d7ff\">None</span>, <span style=\"color: #00af00; text-decoration-color: #00af00\">66</span>, <span style=\"color: #00af00; text-decoration-color: #00af00\">40</span>, <span style=\"color: #00af00; text-decoration-color: #00af00\">12</span>)     │            <span style=\"color: #00af00; text-decoration-color: #00af00\">33</span> │\n",
              "│ (<span style=\"color: #0087ff; text-decoration-color: #0087ff\">SeparableConv2D</span>)               │                        │               │\n",
              "├─────────────────────────────────┼────────────────────────┼───────────────┤\n",
              "│ batch_normalization_9           │ (<span style=\"color: #00d7ff; text-decoration-color: #00d7ff\">None</span>, <span style=\"color: #00af00; text-decoration-color: #00af00\">66</span>, <span style=\"color: #00af00; text-decoration-color: #00af00\">40</span>, <span style=\"color: #00af00; text-decoration-color: #00af00\">12</span>)     │            <span style=\"color: #00af00; text-decoration-color: #00af00\">48</span> │\n",
              "│ (<span style=\"color: #0087ff; text-decoration-color: #0087ff\">BatchNormalization</span>)            │                        │               │\n",
              "├─────────────────────────────────┼────────────────────────┼───────────────┤\n",
              "│ re_lu_9 (<span style=\"color: #0087ff; text-decoration-color: #0087ff\">ReLU</span>)                  │ (<span style=\"color: #00d7ff; text-decoration-color: #00d7ff\">None</span>, <span style=\"color: #00af00; text-decoration-color: #00af00\">66</span>, <span style=\"color: #00af00; text-decoration-color: #00af00\">40</span>, <span style=\"color: #00af00; text-decoration-color: #00af00\">12</span>)     │             <span style=\"color: #00af00; text-decoration-color: #00af00\">0</span> │\n",
              "├─────────────────────────────────┼────────────────────────┼───────────────┤\n",
              "│ max_pooling2d_13 (<span style=\"color: #0087ff; text-decoration-color: #0087ff\">MaxPooling2D</span>) │ (<span style=\"color: #00d7ff; text-decoration-color: #00d7ff\">None</span>, <span style=\"color: #00af00; text-decoration-color: #00af00\">33</span>, <span style=\"color: #00af00; text-decoration-color: #00af00\">20</span>, <span style=\"color: #00af00; text-decoration-color: #00af00\">12</span>)     │             <span style=\"color: #00af00; text-decoration-color: #00af00\">0</span> │\n",
              "├─────────────────────────────────┼────────────────────────┼───────────────┤\n",
              "│ separable_conv2d_10             │ (<span style=\"color: #00d7ff; text-decoration-color: #00d7ff\">None</span>, <span style=\"color: #00af00; text-decoration-color: #00af00\">33</span>, <span style=\"color: #00af00; text-decoration-color: #00af00\">20</span>, <span style=\"color: #00af00; text-decoration-color: #00af00\">24</span>)     │           <span style=\"color: #00af00; text-decoration-color: #00af00\">420</span> │\n",
              "│ (<span style=\"color: #0087ff; text-decoration-color: #0087ff\">SeparableConv2D</span>)               │                        │               │\n",
              "├─────────────────────────────────┼────────────────────────┼───────────────┤\n",
              "│ batch_normalization_10          │ (<span style=\"color: #00d7ff; text-decoration-color: #00d7ff\">None</span>, <span style=\"color: #00af00; text-decoration-color: #00af00\">33</span>, <span style=\"color: #00af00; text-decoration-color: #00af00\">20</span>, <span style=\"color: #00af00; text-decoration-color: #00af00\">24</span>)     │            <span style=\"color: #00af00; text-decoration-color: #00af00\">96</span> │\n",
              "│ (<span style=\"color: #0087ff; text-decoration-color: #0087ff\">BatchNormalization</span>)            │                        │               │\n",
              "├─────────────────────────────────┼────────────────────────┼───────────────┤\n",
              "│ re_lu_10 (<span style=\"color: #0087ff; text-decoration-color: #0087ff\">ReLU</span>)                 │ (<span style=\"color: #00d7ff; text-decoration-color: #00d7ff\">None</span>, <span style=\"color: #00af00; text-decoration-color: #00af00\">33</span>, <span style=\"color: #00af00; text-decoration-color: #00af00\">20</span>, <span style=\"color: #00af00; text-decoration-color: #00af00\">24</span>)     │             <span style=\"color: #00af00; text-decoration-color: #00af00\">0</span> │\n",
              "├─────────────────────────────────┼────────────────────────┼───────────────┤\n",
              "│ max_pooling2d_14 (<span style=\"color: #0087ff; text-decoration-color: #0087ff\">MaxPooling2D</span>) │ (<span style=\"color: #00d7ff; text-decoration-color: #00d7ff\">None</span>, <span style=\"color: #00af00; text-decoration-color: #00af00\">16</span>, <span style=\"color: #00af00; text-decoration-color: #00af00\">10</span>, <span style=\"color: #00af00; text-decoration-color: #00af00\">24</span>)     │             <span style=\"color: #00af00; text-decoration-color: #00af00\">0</span> │\n",
              "├─────────────────────────────────┼────────────────────────┼───────────────┤\n",
              "│ separable_conv2d_11             │ (<span style=\"color: #00d7ff; text-decoration-color: #00d7ff\">None</span>, <span style=\"color: #00af00; text-decoration-color: #00af00\">16</span>, <span style=\"color: #00af00; text-decoration-color: #00af00\">10</span>, <span style=\"color: #00af00; text-decoration-color: #00af00\">48</span>)     │         <span style=\"color: #00af00; text-decoration-color: #00af00\">1,416</span> │\n",
              "│ (<span style=\"color: #0087ff; text-decoration-color: #0087ff\">SeparableConv2D</span>)               │                        │               │\n",
              "├─────────────────────────────────┼────────────────────────┼───────────────┤\n",
              "│ batch_normalization_11          │ (<span style=\"color: #00d7ff; text-decoration-color: #00d7ff\">None</span>, <span style=\"color: #00af00; text-decoration-color: #00af00\">16</span>, <span style=\"color: #00af00; text-decoration-color: #00af00\">10</span>, <span style=\"color: #00af00; text-decoration-color: #00af00\">48</span>)     │           <span style=\"color: #00af00; text-decoration-color: #00af00\">192</span> │\n",
              "│ (<span style=\"color: #0087ff; text-decoration-color: #0087ff\">BatchNormalization</span>)            │                        │               │\n",
              "├─────────────────────────────────┼────────────────────────┼───────────────┤\n",
              "│ re_lu_11 (<span style=\"color: #0087ff; text-decoration-color: #0087ff\">ReLU</span>)                 │ (<span style=\"color: #00d7ff; text-decoration-color: #00d7ff\">None</span>, <span style=\"color: #00af00; text-decoration-color: #00af00\">16</span>, <span style=\"color: #00af00; text-decoration-color: #00af00\">10</span>, <span style=\"color: #00af00; text-decoration-color: #00af00\">48</span>)     │             <span style=\"color: #00af00; text-decoration-color: #00af00\">0</span> │\n",
              "├─────────────────────────────────┼────────────────────────┼───────────────┤\n",
              "│ max_pooling2d_15 (<span style=\"color: #0087ff; text-decoration-color: #0087ff\">MaxPooling2D</span>) │ (<span style=\"color: #00d7ff; text-decoration-color: #00d7ff\">None</span>, <span style=\"color: #00af00; text-decoration-color: #00af00\">8</span>, <span style=\"color: #00af00; text-decoration-color: #00af00\">5</span>, <span style=\"color: #00af00; text-decoration-color: #00af00\">48</span>)       │             <span style=\"color: #00af00; text-decoration-color: #00af00\">0</span> │\n",
              "├─────────────────────────────────┼────────────────────────┼───────────────┤\n",
              "│ global_average_pooling2d_3      │ (<span style=\"color: #00d7ff; text-decoration-color: #00d7ff\">None</span>, <span style=\"color: #00af00; text-decoration-color: #00af00\">48</span>)             │             <span style=\"color: #00af00; text-decoration-color: #00af00\">0</span> │\n",
              "│ (<span style=\"color: #0087ff; text-decoration-color: #0087ff\">GlobalAveragePooling2D</span>)        │                        │               │\n",
              "├─────────────────────────────────┼────────────────────────┼───────────────┤\n",
              "│ dense_10 (<span style=\"color: #0087ff; text-decoration-color: #0087ff\">Dense</span>)                │ (<span style=\"color: #00d7ff; text-decoration-color: #00d7ff\">None</span>, <span style=\"color: #00af00; text-decoration-color: #00af00\">32</span>)             │         <span style=\"color: #00af00; text-decoration-color: #00af00\">1,568</span> │\n",
              "├─────────────────────────────────┼────────────────────────┼───────────────┤\n",
              "│ dropout_12 (<span style=\"color: #0087ff; text-decoration-color: #0087ff\">Dropout</span>)            │ (<span style=\"color: #00d7ff; text-decoration-color: #00d7ff\">None</span>, <span style=\"color: #00af00; text-decoration-color: #00af00\">32</span>)             │             <span style=\"color: #00af00; text-decoration-color: #00af00\">0</span> │\n",
              "├─────────────────────────────────┼────────────────────────┼───────────────┤\n",
              "│ dense_11 (<span style=\"color: #0087ff; text-decoration-color: #0087ff\">Dense</span>)                │ (<span style=\"color: #00d7ff; text-decoration-color: #00d7ff\">None</span>, <span style=\"color: #00af00; text-decoration-color: #00af00\">5</span>)              │           <span style=\"color: #00af00; text-decoration-color: #00af00\">165</span> │\n",
              "└─────────────────────────────────┴────────────────────────┴───────────────┘\n",
              "</pre>\n"
            ]
          },
          "metadata": {}
        },
        {
          "output_type": "display_data",
          "data": {
            "text/plain": [
              "\u001b[1m Total params: \u001b[0m\u001b[38;5;34m3,940\u001b[0m (15.39 KB)\n"
            ],
            "text/html": [
              "<pre style=\"white-space:pre;overflow-x:auto;line-height:normal;font-family:Menlo,'DejaVu Sans Mono',consolas,'Courier New',monospace\"><span style=\"font-weight: bold\"> Total params: </span><span style=\"color: #00af00; text-decoration-color: #00af00\">3,940</span> (15.39 KB)\n",
              "</pre>\n"
            ]
          },
          "metadata": {}
        },
        {
          "output_type": "display_data",
          "data": {
            "text/plain": [
              "\u001b[1m Trainable params: \u001b[0m\u001b[38;5;34m0\u001b[0m (0.00 B)\n"
            ],
            "text/html": [
              "<pre style=\"white-space:pre;overflow-x:auto;line-height:normal;font-family:Menlo,'DejaVu Sans Mono',consolas,'Courier New',monospace\"><span style=\"font-weight: bold\"> Trainable params: </span><span style=\"color: #00af00; text-decoration-color: #00af00\">0</span> (0.00 B)\n",
              "</pre>\n"
            ]
          },
          "metadata": {}
        },
        {
          "output_type": "display_data",
          "data": {
            "text/plain": [
              "\u001b[1m Non-trainable params: \u001b[0m\u001b[38;5;34m3,938\u001b[0m (15.38 KB)\n"
            ],
            "text/html": [
              "<pre style=\"white-space:pre;overflow-x:auto;line-height:normal;font-family:Menlo,'DejaVu Sans Mono',consolas,'Courier New',monospace\"><span style=\"font-weight: bold\"> Non-trainable params: </span><span style=\"color: #00af00; text-decoration-color: #00af00\">3,938</span> (15.38 KB)\n",
              "</pre>\n"
            ]
          },
          "metadata": {}
        },
        {
          "output_type": "display_data",
          "data": {
            "text/plain": [
              "\u001b[1m Optimizer params: \u001b[0m\u001b[38;5;34m2\u001b[0m (12.00 B)\n"
            ],
            "text/html": [
              "<pre style=\"white-space:pre;overflow-x:auto;line-height:normal;font-family:Menlo,'DejaVu Sans Mono',consolas,'Courier New',monospace\"><span style=\"font-weight: bold\"> Optimizer params: </span><span style=\"color: #00af00; text-decoration-color: #00af00\">2</span> (12.00 B)\n",
              "</pre>\n"
            ]
          },
          "metadata": {}
        }
      ]
    },
    {
      "cell_type": "code",
      "source": [
        "interpreter = tf.lite.Interpreter(model_path=\"s1SeprableConvSoftmaxModel.tflite\")\n",
        "interpreter.allocate_tensors()\n",
        "\n",
        "input_details = interpreter.get_input_details()\n",
        "print(f\"Scale: {input_details[0]['quantization'][0]}\")\n",
        "print(f\"Zero point: {input_details[0]['quantization'][1]}\")"
      ],
      "metadata": {
        "colab": {
          "base_uri": "https://localhost:8080/"
        },
        "id": "pRDixWtasYn5",
        "outputId": "29b96848-8da6-4610-988c-345550eaa50a"
      },
      "execution_count": null,
      "outputs": [
        {
          "output_type": "stream",
          "name": "stdout",
          "text": [
            "Scale: 0.08258232474327087\n",
            "Zero point: 39\n"
          ]
        },
        {
          "output_type": "stream",
          "name": "stderr",
          "text": [
            "/usr/local/lib/python3.11/dist-packages/tensorflow/lite/python/interpreter.py:457: UserWarning:     Warning: tf.lite.Interpreter is deprecated and is scheduled for deletion in\n",
            "    TF 2.20. Please use the LiteRT interpreter from the ai_edge_litert package.\n",
            "    See the [migration guide](https://ai.google.dev/edge/litert/migration)\n",
            "    for details.\n",
            "    \n",
            "  warnings.warn(_INTERPRETER_DELETION_WARNING)\n"
          ]
        }
      ]
    },
    {
      "cell_type": "markdown",
      "source": [
        "###Save the model (just in case)"
      ],
      "metadata": {
        "id": "zZtbBtaetDVD"
      }
    },
    {
      "cell_type": "code",
      "source": [
        "#Manual save\n",
        "model.save('s1SeprableConvSoftmaxModel.h5')  # Saves to HDF5 format"
      ],
      "metadata": {
        "colab": {
          "base_uri": "https://localhost:8080/"
        },
        "id": "oUGlHKQjtFMn",
        "outputId": "8f0799de-0d2e-458a-dc49-9ec9a3bded68"
      },
      "execution_count": null,
      "outputs": [
        {
          "output_type": "stream",
          "name": "stderr",
          "text": [
            "WARNING:absl:You are saving your model as an HDF5 file via `model.save()` or `keras.saving.save_model(model)`. This file format is considered legacy. We recommend using instead the native Keras format, e.g. `model.save('my_model.keras')` or `keras.saving.save_model(model, 'my_model.keras')`. \n"
          ]
        }
      ]
    },
    {
      "cell_type": "code",
      "source": [
        "#Manual load\n",
        "from tensorflow.keras.models import load_model\n",
        "model = load_model('s1SeprableConvSoftmaxModel.h5')\n"
      ],
      "metadata": {
        "id": "hTT0cKnRtF_i",
        "colab": {
          "base_uri": "https://localhost:8080/"
        },
        "outputId": "bb1c1277-7cd0-4c78-c558-eb68b28e071c"
      },
      "execution_count": null,
      "outputs": [
        {
          "output_type": "stream",
          "name": "stderr",
          "text": [
            "WARNING:absl:Compiled the loaded model, but the compiled metrics have yet to be built. `model.compile_metrics` will be empty until you train or evaluate the model.\n"
          ]
        }
      ]
    },
    {
      "cell_type": "markdown",
      "source": [
        "# Train Larger Models"
      ],
      "metadata": {
        "id": "7UihAObyLbvP"
      }
    },
    {
      "cell_type": "markdown",
      "source": [
        "### The humbug DB model!\n",
        "I got this model straight from the HumBug DB paper\n"
      ],
      "metadata": {
        "id": "ewH8aSfbMjxM"
      }
    },
    {
      "cell_type": "code",
      "source": [
        "from keras.models import Sequential\n",
        "from keras.layers import Lambda, Dense, Dropout, Activation, Flatten, LSTM\n",
        "from keras.layers import MaxPooling2D\n",
        "from keras.callbacks import ModelCheckpoint, RemoteMonitor, EarlyStopping\n",
        "from keras.models import load_model\n",
        "from keras.layers import Conv2D, MaxPooling2D\n",
        "from keras.regularizers import l2\n",
        "from keras.optimizers import Adadelta\n",
        "from keras import backend as K\n",
        "\n",
        "# if K.image_data_format() == 'channels_first':\n",
        "K.set_image_data_format('channels_last')\n",
        "\n",
        "################################ HELPER METHOD: DROPOUT       ###############################\n",
        "\n",
        "class MCDropout(keras.layers.Dropout):\n",
        "    def call(self, inputs, training=None):\n",
        "        # Ignore the `training` flag and always apply dropout\n",
        "        return super().call(inputs, training=True)\n",
        "\n",
        "################################ CONVOLUTIONAL NEURAL NETWORK ################################\n",
        "\t## NN parameters\n",
        "\n",
        "\n",
        "input_shape = (time_frames, mel_bins, 1)\n",
        "\n",
        "# BNN parameters\n",
        "dropout=0.1\n",
        "# Regularise\n",
        "tau = 1\n",
        "lengthscale = 0.01\n",
        "reg = lengthscale**2 * (1 - dropout) / (2. * len(trainX) * tau)\n",
        "\n",
        "W_regularizer=l2(reg)  # regularisation used in layers\n",
        "\n",
        "# Initialise optimiser for consistent results across Keras/TF versions\n",
        "opt = Adadelta(learning_rate=0.01, rho=0.95, epsilon=1e-07)\n",
        "\n",
        "teacher = Sequential()\n",
        "n_dense = 128\n",
        "nb_classes = len(class_weights)\n",
        "\n",
        "# number of convolutional filters\n",
        "nb_conv_filters = 32\n",
        "nb_conv_filters_2 = 64\n",
        "\n",
        "\n",
        "teacher.add(Conv2D(nb_conv_filters, kernel_size = (3,3),\n",
        "      activation = 'relu', padding = 'valid', strides = 1,\n",
        "      input_shape = input_shape))\n",
        "teacher.add(MaxPooling2D(pool_size=(2, 2)))\n",
        "teacher.add(MCDropout(dropout))\n",
        "\n",
        "\n",
        "teacher.add(Conv2D(nb_conv_filters_2, kernel_size = (3,3),\n",
        "      activation = 'relu', padding = 'valid'))\n",
        "teacher.add(MaxPooling2D(pool_size=(2, 2)))\n",
        "teacher.add(MCDropout(dropout))\n",
        "\n",
        "teacher.add(Conv2D(nb_conv_filters_2, kernel_size = (3,3),\n",
        "      activation = 'relu', padding = 'valid'))\n",
        "\n",
        "teacher.add(MCDropout(dropout))\n",
        "\n",
        "teacher.add(Conv2D(nb_conv_filters_2, kernel_size = (3,3),\n",
        "    activation = 'relu', padding = 'valid'))\n",
        "teacher.add(MCDropout(dropout))\n",
        "\n",
        "teacher.add(Flatten())\n",
        "# # Shared between MLP and CNN:\n",
        "teacher.add(Dense(n_dense, activation='relu'))\n",
        "teacher.add(MCDropout(dropout))\n",
        "\n",
        "\n",
        "teacher.add(Dense(nb_classes, activation='softmax', kernel_regularizer=l2(reg)))\n",
        "teacher.compile(loss=keras.losses.SparseCategoricalCrossentropy(), optimizer=opt, metrics=['accuracy'])"
      ],
      "metadata": {
        "colab": {
          "base_uri": "https://localhost:8080/"
        },
        "id": "LnIiHXu4LgGr",
        "outputId": "eb038604-3292-4f6c-dd5b-f32769ef5144"
      },
      "execution_count": null,
      "outputs": [
        {
          "output_type": "stream",
          "name": "stderr",
          "text": [
            "/usr/local/lib/python3.11/dist-packages/keras/src/layers/convolutional/base_conv.py:113: UserWarning: Do not pass an `input_shape`/`input_dim` argument to a layer. When using Sequential models, prefer using an `Input(shape)` object as the first layer in the model instead.\n",
            "  super().__init__(activity_regularizer=activity_regularizer, **kwargs)\n"
          ]
        }
      ]
    },
    {
      "cell_type": "code",
      "source": [
        "teacher_earlystop = EarlyStopping(\n",
        "    monitor='val_loss',\n",
        "    patience=15,\n",
        "    restore_best_weights=True\n",
        ")"
      ],
      "metadata": {
        "id": "upwoevqGTU75"
      },
      "execution_count": null,
      "outputs": []
    },
    {
      "cell_type": "code",
      "source": [
        "\n",
        "teacher.fit(\n",
        "    trainDataset,\n",
        "    validation_data=testDataset,\n",
        "    epochs=100,\n",
        "    class_weight=class_weights,\n",
        "    callbacks=[teacher_earlystop]\n",
        ")\n",
        "\n"
      ],
      "metadata": {
        "colab": {
          "base_uri": "https://localhost:8080/"
        },
        "id": "Lkj62DnMPj-L",
        "outputId": "c5f09f9f-9831-4452-923e-2e0cce835291"
      },
      "execution_count": null,
      "outputs": [
        {
          "output_type": "stream",
          "name": "stdout",
          "text": [
            "Epoch 1/100\n",
            "\u001b[1m208/208\u001b[0m \u001b[32m━━━━━━━━━━━━━━━━━━━━\u001b[0m\u001b[37m\u001b[0m \u001b[1m4s\u001b[0m 7ms/step - accuracy: 0.7272 - loss: 0.5926 - val_accuracy: 0.7060 - val_loss: 0.7138\n",
            "Epoch 2/100\n",
            "\u001b[1m208/208\u001b[0m \u001b[32m━━━━━━━━━━━━━━━━━━━━\u001b[0m\u001b[37m\u001b[0m \u001b[1m4s\u001b[0m 7ms/step - accuracy: 0.7242 - loss: 0.6059 - val_accuracy: 0.6992 - val_loss: 0.7413\n",
            "Epoch 3/100\n",
            "\u001b[1m208/208\u001b[0m \u001b[32m━━━━━━━━━━━━━━━━━━━━\u001b[0m\u001b[37m\u001b[0m \u001b[1m4s\u001b[0m 8ms/step - accuracy: 0.7293 - loss: 0.5878 - val_accuracy: 0.6767 - val_loss: 0.7882\n",
            "Epoch 4/100\n",
            "\u001b[1m208/208\u001b[0m \u001b[32m━━━━━━━━━━━━━━━━━━━━\u001b[0m\u001b[37m\u001b[0m \u001b[1m4s\u001b[0m 7ms/step - accuracy: 0.7267 - loss: 0.5887 - val_accuracy: 0.6882 - val_loss: 0.7589\n",
            "Epoch 5/100\n",
            "\u001b[1m208/208\u001b[0m \u001b[32m━━━━━━━━━━━━━━━━━━━━\u001b[0m\u001b[37m\u001b[0m \u001b[1m4s\u001b[0m 7ms/step - accuracy: 0.7258 - loss: 0.5970 - val_accuracy: 0.6975 - val_loss: 0.7338\n",
            "Epoch 6/100\n",
            "\u001b[1m208/208\u001b[0m \u001b[32m━━━━━━━━━━━━━━━━━━━━\u001b[0m\u001b[37m\u001b[0m \u001b[1m4s\u001b[0m 7ms/step - accuracy: 0.7255 - loss: 0.5932 - val_accuracy: 0.7025 - val_loss: 0.7212\n",
            "Epoch 7/100\n",
            "\u001b[1m208/208\u001b[0m \u001b[32m━━━━━━━━━━━━━━━━━━━━\u001b[0m\u001b[37m\u001b[0m \u001b[1m4s\u001b[0m 7ms/step - accuracy: 0.7279 - loss: 0.5947 - val_accuracy: 0.7038 - val_loss: 0.7206\n",
            "Epoch 8/100\n",
            "\u001b[1m208/208\u001b[0m \u001b[32m━━━━━━━━━━━━━━━━━━━━\u001b[0m\u001b[37m\u001b[0m \u001b[1m4s\u001b[0m 8ms/step - accuracy: 0.7255 - loss: 0.6001 - val_accuracy: 0.6975 - val_loss: 0.7374\n",
            "Epoch 9/100\n",
            "\u001b[1m208/208\u001b[0m \u001b[32m━━━━━━━━━━━━━━━━━━━━\u001b[0m\u001b[37m\u001b[0m \u001b[1m4s\u001b[0m 7ms/step - accuracy: 0.7330 - loss: 0.5805 - val_accuracy: 0.7102 - val_loss: 0.7165\n",
            "Epoch 10/100\n",
            "\u001b[1m208/208\u001b[0m \u001b[32m━━━━━━━━━━━━━━━━━━━━\u001b[0m\u001b[37m\u001b[0m \u001b[1m4s\u001b[0m 8ms/step - accuracy: 0.7221 - loss: 0.5987 - val_accuracy: 0.7120 - val_loss: 0.7099\n",
            "Epoch 11/100\n",
            "\u001b[1m208/208\u001b[0m \u001b[32m━━━━━━━━━━━━━━━━━━━━\u001b[0m\u001b[37m\u001b[0m \u001b[1m4s\u001b[0m 7ms/step - accuracy: 0.7289 - loss: 0.6094 - val_accuracy: 0.7091 - val_loss: 0.7118\n",
            "Epoch 12/100\n",
            "\u001b[1m208/208\u001b[0m \u001b[32m━━━━━━━━━━━━━━━━━━━━\u001b[0m\u001b[37m\u001b[0m \u001b[1m4s\u001b[0m 7ms/step - accuracy: 0.7267 - loss: 0.5902 - val_accuracy: 0.7052 - val_loss: 0.7269\n",
            "Epoch 13/100\n",
            "\u001b[1m208/208\u001b[0m \u001b[32m━━━━━━━━━━━━━━━━━━━━\u001b[0m\u001b[37m\u001b[0m \u001b[1m4s\u001b[0m 7ms/step - accuracy: 0.7307 - loss: 0.5872 - val_accuracy: 0.7044 - val_loss: 0.7271\n",
            "Epoch 14/100\n",
            "\u001b[1m208/208\u001b[0m \u001b[32m━━━━━━━━━━━━━━━━━━━━\u001b[0m\u001b[37m\u001b[0m \u001b[1m4s\u001b[0m 7ms/step - accuracy: 0.7248 - loss: 0.5946 - val_accuracy: 0.7087 - val_loss: 0.7186\n",
            "Epoch 15/100\n",
            "\u001b[1m208/208\u001b[0m \u001b[32m━━━━━━━━━━━━━━━━━━━━\u001b[0m\u001b[37m\u001b[0m \u001b[1m4s\u001b[0m 7ms/step - accuracy: 0.7324 - loss: 0.5934 - val_accuracy: 0.7099 - val_loss: 0.7060\n",
            "Epoch 16/100\n",
            "\u001b[1m208/208\u001b[0m \u001b[32m━━━━━━━━━━━━━━━━━━━━\u001b[0m\u001b[37m\u001b[0m \u001b[1m4s\u001b[0m 7ms/step - accuracy: 0.7246 - loss: 0.5940 - val_accuracy: 0.7025 - val_loss: 0.7241\n",
            "Epoch 17/100\n",
            "\u001b[1m208/208\u001b[0m \u001b[32m━━━━━━━━━━━━━━━━━━━━\u001b[0m\u001b[37m\u001b[0m \u001b[1m4s\u001b[0m 7ms/step - accuracy: 0.7237 - loss: 0.5981 - val_accuracy: 0.7043 - val_loss: 0.7288\n",
            "Epoch 18/100\n",
            "\u001b[1m208/208\u001b[0m \u001b[32m━━━━━━━━━━━━━━━━━━━━\u001b[0m\u001b[37m\u001b[0m \u001b[1m4s\u001b[0m 7ms/step - accuracy: 0.7307 - loss: 0.5820 - val_accuracy: 0.6980 - val_loss: 0.7286\n",
            "Epoch 19/100\n",
            "\u001b[1m208/208\u001b[0m \u001b[32m━━━━━━━━━━━━━━━━━━━━\u001b[0m\u001b[37m\u001b[0m \u001b[1m4s\u001b[0m 7ms/step - accuracy: 0.7276 - loss: 0.5872 - val_accuracy: 0.7034 - val_loss: 0.7152\n",
            "Epoch 20/100\n",
            "\u001b[1m208/208\u001b[0m \u001b[32m━━━━━━━━━━━━━━━━━━━━\u001b[0m\u001b[37m\u001b[0m \u001b[1m4s\u001b[0m 7ms/step - accuracy: 0.7295 - loss: 0.5880 - val_accuracy: 0.7139 - val_loss: 0.7065\n",
            "Epoch 21/100\n",
            "\u001b[1m208/208\u001b[0m \u001b[32m━━━━━━━━━━━━━━━━━━━━\u001b[0m\u001b[37m\u001b[0m \u001b[1m4s\u001b[0m 7ms/step - accuracy: 0.7287 - loss: 0.5937 - val_accuracy: 0.7034 - val_loss: 0.7236\n",
            "Epoch 22/100\n",
            "\u001b[1m208/208\u001b[0m \u001b[32m━━━━━━━━━━━━━━━━━━━━\u001b[0m\u001b[37m\u001b[0m \u001b[1m4s\u001b[0m 7ms/step - accuracy: 0.7286 - loss: 0.5956 - val_accuracy: 0.7034 - val_loss: 0.7229\n",
            "Epoch 23/100\n",
            "\u001b[1m208/208\u001b[0m \u001b[32m━━━━━━━━━━━━━━━━━━━━\u001b[0m\u001b[37m\u001b[0m \u001b[1m4s\u001b[0m 7ms/step - accuracy: 0.7310 - loss: 0.5834 - val_accuracy: 0.7112 - val_loss: 0.7203\n",
            "Epoch 24/100\n",
            "\u001b[1m208/208\u001b[0m \u001b[32m━━━━━━━━━━━━━━━━━━━━\u001b[0m\u001b[37m\u001b[0m \u001b[1m4s\u001b[0m 7ms/step - accuracy: 0.7362 - loss: 0.5711 - val_accuracy: 0.7142 - val_loss: 0.7028\n",
            "Epoch 25/100\n",
            "\u001b[1m208/208\u001b[0m \u001b[32m━━━━━━━━━━━━━━━━━━━━\u001b[0m\u001b[37m\u001b[0m \u001b[1m4s\u001b[0m 7ms/step - accuracy: 0.7319 - loss: 0.5748 - val_accuracy: 0.7005 - val_loss: 0.7423\n",
            "Epoch 26/100\n",
            "\u001b[1m208/208\u001b[0m \u001b[32m━━━━━━━━━━━━━━━━━━━━\u001b[0m\u001b[37m\u001b[0m \u001b[1m4s\u001b[0m 7ms/step - accuracy: 0.7253 - loss: 0.5914 - val_accuracy: 0.7090 - val_loss: 0.7068\n",
            "Epoch 27/100\n",
            "\u001b[1m208/208\u001b[0m \u001b[32m━━━━━━━━━━━━━━━━━━━━\u001b[0m\u001b[37m\u001b[0m \u001b[1m4s\u001b[0m 7ms/step - accuracy: 0.7281 - loss: 0.5942 - val_accuracy: 0.7102 - val_loss: 0.7160\n",
            "Epoch 28/100\n",
            "\u001b[1m208/208\u001b[0m \u001b[32m━━━━━━━━━━━━━━━━━━━━\u001b[0m\u001b[37m\u001b[0m \u001b[1m4s\u001b[0m 7ms/step - accuracy: 0.7277 - loss: 0.5924 - val_accuracy: 0.7084 - val_loss: 0.7048\n",
            "Epoch 29/100\n",
            "\u001b[1m208/208\u001b[0m \u001b[32m━━━━━━━━━━━━━━━━━━━━\u001b[0m\u001b[37m\u001b[0m \u001b[1m4s\u001b[0m 7ms/step - accuracy: 0.7308 - loss: 0.5742 - val_accuracy: 0.7020 - val_loss: 0.7253\n",
            "Epoch 30/100\n",
            "\u001b[1m208/208\u001b[0m \u001b[32m━━━━━━━━━━━━━━━━━━━━\u001b[0m\u001b[37m\u001b[0m \u001b[1m4s\u001b[0m 7ms/step - accuracy: 0.7353 - loss: 0.5679 - val_accuracy: 0.7114 - val_loss: 0.7084\n",
            "Epoch 31/100\n",
            "\u001b[1m208/208\u001b[0m \u001b[32m━━━━━━━━━━━━━━━━━━━━\u001b[0m\u001b[37m\u001b[0m \u001b[1m4s\u001b[0m 7ms/step - accuracy: 0.7340 - loss: 0.5742 - val_accuracy: 0.7057 - val_loss: 0.7268\n",
            "Epoch 32/100\n",
            "\u001b[1m208/208\u001b[0m \u001b[32m━━━━━━━━━━━━━━━━━━━━\u001b[0m\u001b[37m\u001b[0m \u001b[1m4s\u001b[0m 7ms/step - accuracy: 0.7386 - loss: 0.5787 - val_accuracy: 0.7127 - val_loss: 0.6975\n",
            "Epoch 33/100\n",
            "\u001b[1m208/208\u001b[0m \u001b[32m━━━━━━━━━━━━━━━━━━━━\u001b[0m\u001b[37m\u001b[0m \u001b[1m4s\u001b[0m 7ms/step - accuracy: 0.7373 - loss: 0.5649 - val_accuracy: 0.7121 - val_loss: 0.7046\n",
            "Epoch 34/100\n",
            "\u001b[1m208/208\u001b[0m \u001b[32m━━━━━━━━━━━━━━━━━━━━\u001b[0m\u001b[37m\u001b[0m \u001b[1m4s\u001b[0m 7ms/step - accuracy: 0.7285 - loss: 0.5897 - val_accuracy: 0.7106 - val_loss: 0.7016\n",
            "Epoch 35/100\n",
            "\u001b[1m208/208\u001b[0m \u001b[32m━━━━━━━━━━━━━━━━━━━━\u001b[0m\u001b[37m\u001b[0m \u001b[1m4s\u001b[0m 7ms/step - accuracy: 0.7379 - loss: 0.5630 - val_accuracy: 0.7084 - val_loss: 0.7128\n",
            "Epoch 36/100\n",
            "\u001b[1m208/208\u001b[0m \u001b[32m━━━━━━━━━━━━━━━━━━━━\u001b[0m\u001b[37m\u001b[0m \u001b[1m4s\u001b[0m 7ms/step - accuracy: 0.7343 - loss: 0.5749 - val_accuracy: 0.7132 - val_loss: 0.6987\n",
            "Epoch 37/100\n",
            "\u001b[1m208/208\u001b[0m \u001b[32m━━━━━━━━━━━━━━━━━━━━\u001b[0m\u001b[37m\u001b[0m \u001b[1m4s\u001b[0m 7ms/step - accuracy: 0.7321 - loss: 0.5873 - val_accuracy: 0.7177 - val_loss: 0.7045\n",
            "Epoch 38/100\n",
            "\u001b[1m208/208\u001b[0m \u001b[32m━━━━━━━━━━━━━━━━━━━━\u001b[0m\u001b[37m\u001b[0m \u001b[1m4s\u001b[0m 7ms/step - accuracy: 0.7359 - loss: 0.5665 - val_accuracy: 0.7091 - val_loss: 0.7172\n",
            "Epoch 39/100\n",
            "\u001b[1m208/208\u001b[0m \u001b[32m━━━━━━━━━━━━━━━━━━━━\u001b[0m\u001b[37m\u001b[0m \u001b[1m4s\u001b[0m 7ms/step - accuracy: 0.7370 - loss: 0.5607 - val_accuracy: 0.7032 - val_loss: 0.7242\n",
            "Epoch 40/100\n",
            "\u001b[1m208/208\u001b[0m \u001b[32m━━━━━━━━━━━━━━━━━━━━\u001b[0m\u001b[37m\u001b[0m \u001b[1m4s\u001b[0m 7ms/step - accuracy: 0.7366 - loss: 0.5613 - val_accuracy: 0.7029 - val_loss: 0.7235\n",
            "Epoch 41/100\n",
            "\u001b[1m208/208\u001b[0m \u001b[32m━━━━━━━━━━━━━━━━━━━━\u001b[0m\u001b[37m\u001b[0m \u001b[1m4s\u001b[0m 7ms/step - accuracy: 0.7342 - loss: 0.5709 - val_accuracy: 0.7111 - val_loss: 0.7017\n",
            "Epoch 42/100\n",
            "\u001b[1m208/208\u001b[0m \u001b[32m━━━━━━━━━━━━━━━━━━━━\u001b[0m\u001b[37m\u001b[0m \u001b[1m4s\u001b[0m 7ms/step - accuracy: 0.7312 - loss: 0.5751 - val_accuracy: 0.7078 - val_loss: 0.7067\n",
            "Epoch 43/100\n",
            "\u001b[1m208/208\u001b[0m \u001b[32m━━━━━━━━━━━━━━━━━━━━\u001b[0m\u001b[37m\u001b[0m \u001b[1m4s\u001b[0m 7ms/step - accuracy: 0.7333 - loss: 0.5770 - val_accuracy: 0.7121 - val_loss: 0.7040\n",
            "Epoch 44/100\n",
            "\u001b[1m208/208\u001b[0m \u001b[32m━━━━━━━━━━━━━━━━━━━━\u001b[0m\u001b[37m\u001b[0m \u001b[1m4s\u001b[0m 7ms/step - accuracy: 0.7353 - loss: 0.5811 - val_accuracy: 0.7142 - val_loss: 0.7042\n",
            "Epoch 45/100\n",
            "\u001b[1m208/208\u001b[0m \u001b[32m━━━━━━━━━━━━━━━━━━━━\u001b[0m\u001b[37m\u001b[0m \u001b[1m4s\u001b[0m 7ms/step - accuracy: 0.7397 - loss: 0.5612 - val_accuracy: 0.7182 - val_loss: 0.7064\n",
            "Epoch 46/100\n",
            "\u001b[1m208/208\u001b[0m \u001b[32m━━━━━━━━━━━━━━━━━━━━\u001b[0m\u001b[37m\u001b[0m \u001b[1m4s\u001b[0m 7ms/step - accuracy: 0.7367 - loss: 0.5720 - val_accuracy: 0.7079 - val_loss: 0.7190\n",
            "Epoch 47/100\n",
            "\u001b[1m208/208\u001b[0m \u001b[32m━━━━━━━━━━━━━━━━━━━━\u001b[0m\u001b[37m\u001b[0m \u001b[1m4s\u001b[0m 7ms/step - accuracy: 0.7354 - loss: 0.5630 - val_accuracy: 0.7153 - val_loss: 0.6970\n",
            "Epoch 48/100\n",
            "\u001b[1m208/208\u001b[0m \u001b[32m━━━━━━━━━━━━━━━━━━━━\u001b[0m\u001b[37m\u001b[0m \u001b[1m4s\u001b[0m 8ms/step - accuracy: 0.7365 - loss: 0.5628 - val_accuracy: 0.7114 - val_loss: 0.7189\n",
            "Epoch 49/100\n",
            "\u001b[1m208/208\u001b[0m \u001b[32m━━━━━━━━━━━━━━━━━━━━\u001b[0m\u001b[37m\u001b[0m \u001b[1m4s\u001b[0m 7ms/step - accuracy: 0.7374 - loss: 0.5649 - val_accuracy: 0.7239 - val_loss: 0.6864\n",
            "Epoch 50/100\n",
            "\u001b[1m208/208\u001b[0m \u001b[32m━━━━━━━━━━━━━━━━━━━━\u001b[0m\u001b[37m\u001b[0m \u001b[1m4s\u001b[0m 7ms/step - accuracy: 0.7452 - loss: 0.5616 - val_accuracy: 0.7195 - val_loss: 0.6927\n",
            "Epoch 51/100\n",
            "\u001b[1m208/208\u001b[0m \u001b[32m━━━━━━━━━━━━━━━━━━━━\u001b[0m\u001b[37m\u001b[0m \u001b[1m4s\u001b[0m 7ms/step - accuracy: 0.7431 - loss: 0.5661 - val_accuracy: 0.7148 - val_loss: 0.6994\n",
            "Epoch 52/100\n",
            "\u001b[1m208/208\u001b[0m \u001b[32m━━━━━━━━━━━━━━━━━━━━\u001b[0m\u001b[37m\u001b[0m \u001b[1m4s\u001b[0m 7ms/step - accuracy: 0.7396 - loss: 0.5658 - val_accuracy: 0.7073 - val_loss: 0.7201\n",
            "Epoch 53/100\n",
            "\u001b[1m208/208\u001b[0m \u001b[32m━━━━━━━━━━━━━━━━━━━━\u001b[0m\u001b[37m\u001b[0m \u001b[1m4s\u001b[0m 7ms/step - accuracy: 0.7428 - loss: 0.5541 - val_accuracy: 0.7323 - val_loss: 0.6721\n",
            "Epoch 54/100\n",
            "\u001b[1m208/208\u001b[0m \u001b[32m━━━━━━━━━━━━━━━━━━━━\u001b[0m\u001b[37m\u001b[0m \u001b[1m4s\u001b[0m 7ms/step - accuracy: 0.7376 - loss: 0.5660 - val_accuracy: 0.7153 - val_loss: 0.6967\n",
            "Epoch 55/100\n",
            "\u001b[1m208/208\u001b[0m \u001b[32m━━━━━━━━━━━━━━━━━━━━\u001b[0m\u001b[37m\u001b[0m \u001b[1m4s\u001b[0m 7ms/step - accuracy: 0.7340 - loss: 0.5682 - val_accuracy: 0.7186 - val_loss: 0.6874\n",
            "Epoch 56/100\n",
            "\u001b[1m208/208\u001b[0m \u001b[32m━━━━━━━━━━━━━━━━━━━━\u001b[0m\u001b[37m\u001b[0m \u001b[1m4s\u001b[0m 7ms/step - accuracy: 0.7395 - loss: 0.5674 - val_accuracy: 0.7138 - val_loss: 0.7063\n",
            "Epoch 57/100\n",
            "\u001b[1m208/208\u001b[0m \u001b[32m━━━━━━━━━━━━━━━━━━━━\u001b[0m\u001b[37m\u001b[0m \u001b[1m4s\u001b[0m 7ms/step - accuracy: 0.7356 - loss: 0.5693 - val_accuracy: 0.7203 - val_loss: 0.6877\n",
            "Epoch 58/100\n",
            "\u001b[1m208/208\u001b[0m \u001b[32m━━━━━━━━━━━━━━━━━━━━\u001b[0m\u001b[37m\u001b[0m \u001b[1m4s\u001b[0m 7ms/step - accuracy: 0.7446 - loss: 0.5579 - val_accuracy: 0.7159 - val_loss: 0.7102\n",
            "Epoch 59/100\n",
            "\u001b[1m208/208\u001b[0m \u001b[32m━━━━━━━━━━━━━━━━━━━━\u001b[0m\u001b[37m\u001b[0m \u001b[1m4s\u001b[0m 7ms/step - accuracy: 0.7400 - loss: 0.5611 - val_accuracy: 0.7242 - val_loss: 0.6844\n",
            "Epoch 60/100\n",
            "\u001b[1m208/208\u001b[0m \u001b[32m━━━━━━━━━━━━━━━━━━━━\u001b[0m\u001b[37m\u001b[0m \u001b[1m4s\u001b[0m 7ms/step - accuracy: 0.7438 - loss: 0.5495 - val_accuracy: 0.7182 - val_loss: 0.6966\n",
            "Epoch 61/100\n",
            "\u001b[1m208/208\u001b[0m \u001b[32m━━━━━━━━━━━━━━━━━━━━\u001b[0m\u001b[37m\u001b[0m \u001b[1m4s\u001b[0m 8ms/step - accuracy: 0.7419 - loss: 0.5521 - val_accuracy: 0.7167 - val_loss: 0.6993\n",
            "Epoch 62/100\n",
            "\u001b[1m208/208\u001b[0m \u001b[32m━━━━━━━━━━━━━━━━━━━━\u001b[0m\u001b[37m\u001b[0m \u001b[1m4s\u001b[0m 8ms/step - accuracy: 0.7456 - loss: 0.5608 - val_accuracy: 0.7123 - val_loss: 0.6969\n",
            "Epoch 63/100\n",
            "\u001b[1m208/208\u001b[0m \u001b[32m━━━━━━━━━━━━━━━━━━━━\u001b[0m\u001b[37m\u001b[0m \u001b[1m4s\u001b[0m 8ms/step - accuracy: 0.7462 - loss: 0.5496 - val_accuracy: 0.7105 - val_loss: 0.7037\n",
            "Epoch 64/100\n",
            "\u001b[1m208/208\u001b[0m \u001b[32m━━━━━━━━━━━━━━━━━━━━\u001b[0m\u001b[37m\u001b[0m \u001b[1m4s\u001b[0m 7ms/step - accuracy: 0.7424 - loss: 0.5550 - val_accuracy: 0.7109 - val_loss: 0.7121\n",
            "Epoch 65/100\n",
            "\u001b[1m208/208\u001b[0m \u001b[32m━━━━━━━━━━━━━━━━━━━━\u001b[0m\u001b[37m\u001b[0m \u001b[1m4s\u001b[0m 8ms/step - accuracy: 0.7411 - loss: 0.5610 - val_accuracy: 0.7081 - val_loss: 0.7123\n",
            "Epoch 66/100\n",
            "\u001b[1m208/208\u001b[0m \u001b[32m━━━━━━━━━━━━━━━━━━━━\u001b[0m\u001b[37m\u001b[0m \u001b[1m4s\u001b[0m 7ms/step - accuracy: 0.7420 - loss: 0.5469 - val_accuracy: 0.7167 - val_loss: 0.7010\n",
            "Epoch 67/100\n",
            "\u001b[1m208/208\u001b[0m \u001b[32m━━━━━━━━━━━━━━━━━━━━\u001b[0m\u001b[37m\u001b[0m \u001b[1m4s\u001b[0m 7ms/step - accuracy: 0.7389 - loss: 0.5512 - val_accuracy: 0.7240 - val_loss: 0.6910\n",
            "Epoch 68/100\n",
            "\u001b[1m208/208\u001b[0m \u001b[32m━━━━━━━━━━━━━━━━━━━━\u001b[0m\u001b[37m\u001b[0m \u001b[1m4s\u001b[0m 7ms/step - accuracy: 0.7426 - loss: 0.5548 - val_accuracy: 0.7213 - val_loss: 0.6966\n"
          ]
        },
        {
          "output_type": "execute_result",
          "data": {
            "text/plain": [
              "<keras.src.callbacks.history.History at 0x7b4c0810d990>"
            ]
          },
          "metadata": {},
          "execution_count": 99
        }
      ]
    },
    {
      "cell_type": "code",
      "source": [
        "from sklearn.metrics import (\n",
        "    classification_report,\n",
        "    accuracy_score,\n",
        "    balanced_accuracy_score,\n",
        "    precision_score,\n",
        "    recall_score,\n",
        "    f1_score\n",
        ")\n",
        "\n",
        "\n",
        "y_pred = teacher.predict(testDataset)\n",
        "y_pred_classes = np.argmax(y_pred, axis=1)  # Convert softmax to class indices\n",
        "\n",
        "y_true = np.concatenate([y for x, y in testDataset], axis=0)\n",
        "\n",
        "# Basic overall metrics\n",
        "print(\"📊 Overall Performance Metrics:\")\n",
        "print(f\"Accuracy: {accuracy_score(y_true, y_pred_classes):.4f}\")\n",
        "print(f\"Balanced Accuracy: {balanced_accuracy_score(y_true, y_pred_classes):.4f}\")\n",
        "print(f\"Macro Precision: {precision_score(y_true, y_pred_classes, average='macro'):.4f}\")\n",
        "print(f\"Macro Recall: {recall_score(y_true, y_pred_classes, average='macro'):.4f}\")\n",
        "print(f\"Macro F1-Score: {f1_score(y_true, y_pred_classes, average='macro'):.4f}\")\n",
        "\n",
        "# Detailed breakdown per class\n",
        "print(\"\\n📋 Classification Report:\")\n",
        "print(classification_report(y_true, y_pred_classes, digits=4))\n"
      ],
      "metadata": {
        "colab": {
          "base_uri": "https://localhost:8080/"
        },
        "id": "msjwHxBLfzsK",
        "outputId": "b748ad7c-b0ed-4eb7-8623-f39a02b7fe0f"
      },
      "execution_count": null,
      "outputs": [
        {
          "output_type": "stream",
          "name": "stdout",
          "text": [
            "\u001b[1m52/52\u001b[0m \u001b[32m━━━━━━━━━━━━━━━━━━━━\u001b[0m\u001b[37m\u001b[0m \u001b[1m6s\u001b[0m 65ms/step\n",
            "📊 Overall Performance Metrics:\n",
            "Accuracy: 0.7656\n",
            "Balanced Accuracy: 0.7407\n",
            "Macro Precision: 0.7462\n",
            "Macro Recall: 0.7407\n",
            "Macro F1-Score: 0.7417\n",
            "\n",
            "📋 Classification Report:\n",
            "              precision    recall  f1-score   support\n",
            "\n",
            "           0     0.6389    0.5976    0.6176      1347\n",
            "           1     0.7829    0.6650    0.7191      1361\n",
            "           2     0.5984    0.6535    0.6247       228\n",
            "           3     0.9548    0.9514    0.9531      1111\n",
            "           4     0.7559    0.8362    0.7940      2588\n",
            "\n",
            "    accuracy                         0.7656      6635\n",
            "   macro avg     0.7462    0.7407    0.7417      6635\n",
            "weighted avg     0.7656    0.7656    0.7636      6635\n",
            "\n"
          ]
        }
      ]
    },
    {
      "cell_type": "markdown",
      "source": [
        "### ResNet18"
      ],
      "metadata": {
        "id": "VPOYju1118xn"
      }
    },
    {
      "cell_type": "code",
      "source": [
        "import tensorflow as tf\n",
        "from keras import models\n",
        "\n",
        "# Basic ResNet building block\n",
        "def resnet_block(x, filters, stride=1):\n",
        "    shortcut = x\n",
        "    # First conv\n",
        "    x = layers.Conv2D(filters, 3, strides=stride, padding='same',\n",
        "                      use_bias=False, kernel_initializer='he_normal')(x)\n",
        "    x = layers.BatchNormalization()(x)\n",
        "    x = layers.ReLU()(x)\n",
        "\n",
        "    # Second conv\n",
        "    x = layers.Conv2D(filters, 3, strides=1, padding='same',\n",
        "                      use_bias=False, kernel_initializer='he_normal')(x)\n",
        "    x = layers.BatchNormalization()(x)\n",
        "\n",
        "    # Match shortcut shape if needed\n",
        "    if stride != 1 or shortcut.shape[-1] != filters:\n",
        "        shortcut = layers.Conv2D(filters, 1, strides=stride, padding='same',\n",
        "                                 use_bias=False, kernel_initializer='he_normal')(shortcut)\n",
        "        shortcut = layers.BatchNormalization()(shortcut)\n",
        "\n",
        "    # Add skip connection\n",
        "    x = layers.add([x, shortcut])\n",
        "    x = layers.ReLU()(x)\n",
        "    return x\n",
        "\n",
        "def build_resnet18(input_shape=(66, 40, 1), num_classes=10):\n",
        "    inputs = layers.Input(shape=input_shape)\n",
        "\n",
        "    # First conv — smaller kernel than ImageNet (3×3 instead of 7×7)\n",
        "    x = layers.Conv2D(64, 3, strides=1, padding='same',\n",
        "                      use_bias=False, kernel_initializer='he_normal')(inputs)\n",
        "    x = layers.BatchNormalization()(x)\n",
        "    x = layers.ReLU()(x)\n",
        "\n",
        "    # ResNet stages (filters, blocks, stride for first block in each stage)\n",
        "    stage_config = [(64, 2, 1), (128, 2, 2), (256, 2, 2), (512, 2, 2)]\n",
        "    for filters, blocks, stride in stage_config:\n",
        "        x = resnet_block(x, filters, stride)\n",
        "        for _ in range(1, blocks):\n",
        "            x = resnet_block(x, filters, 1)\n",
        "\n",
        "    # Global average pooling and output\n",
        "    x = layers.GlobalAveragePooling2D()(x)\n",
        "    outputs = layers.Dense(num_classes, activation='softmax')(x)\n",
        "\n",
        "    teacher = models.Model(inputs, outputs)\n",
        "    return teacher\n",
        "\n",
        "teacher = build_resnet18(input_shape=(66, 40, 1), num_classes=5)\n",
        "teacher_optimizer = keras.optimizers.AdamW(learning_rate=0.0008)\n",
        "\n",
        "teacher.compile(optimizer=teacher_optimizer, loss=keras.losses.SparseCategoricalCrossentropy(), metrics=['accuracy'])\n"
      ],
      "metadata": {
        "id": "TX50JSlUnO6e"
      },
      "execution_count": null,
      "outputs": []
    },
    {
      "cell_type": "code",
      "source": [
        "teacher_earlystop = EarlyStopping(\n",
        "    monitor='val_loss',\n",
        "    patience=15,\n",
        "    restore_best_weights=True\n",
        ")"
      ],
      "metadata": {
        "id": "9C29OvJK9vJv"
      },
      "execution_count": null,
      "outputs": []
    },
    {
      "cell_type": "code",
      "source": [
        "teacher.fit(\n",
        "    trainDataset,\n",
        "    validation_data=testDataset,\n",
        "    epochs=100,\n",
        "    class_weight=class_weights,\n",
        "    callbacks=[teacher_earlystop]\n",
        ")\n",
        "\n"
      ],
      "metadata": {
        "colab": {
          "base_uri": "https://localhost:8080/"
        },
        "id": "f3NSBnFN9xWr",
        "outputId": "f6cb9a87-dc95-4d11-cae1-8815716b788f"
      },
      "execution_count": null,
      "outputs": [
        {
          "output_type": "stream",
          "name": "stdout",
          "text": [
            "Epoch 1/100\n",
            "\u001b[1m208/208\u001b[0m \u001b[32m━━━━━━━━━━━━━━━━━━━━\u001b[0m\u001b[37m\u001b[0m \u001b[1m38s\u001b[0m 88ms/step - accuracy: 0.5724 - loss: 0.9963 - val_accuracy: 0.1982 - val_loss: 6.3203\n",
            "Epoch 2/100\n",
            "\u001b[1m208/208\u001b[0m \u001b[32m━━━━━━━━━━━━━━━━━━━━\u001b[0m\u001b[37m\u001b[0m \u001b[1m10s\u001b[0m 38ms/step - accuracy: 0.7349 - loss: 0.5869 - val_accuracy: 0.5706 - val_loss: 1.3257\n",
            "Epoch 3/100\n",
            "\u001b[1m208/208\u001b[0m \u001b[32m━━━━━━━━━━━━━━━━━━━━\u001b[0m\u001b[37m\u001b[0m \u001b[1m10s\u001b[0m 38ms/step - accuracy: 0.7648 - loss: 0.5069 - val_accuracy: 0.7542 - val_loss: 0.6374\n",
            "Epoch 4/100\n",
            "\u001b[1m208/208\u001b[0m \u001b[32m━━━━━━━━━━━━━━━━━━━━\u001b[0m\u001b[37m\u001b[0m \u001b[1m10s\u001b[0m 38ms/step - accuracy: 0.7850 - loss: 0.4614 - val_accuracy: 0.6776 - val_loss: 0.8437\n",
            "Epoch 5/100\n",
            "\u001b[1m208/208\u001b[0m \u001b[32m━━━━━━━━━━━━━━━━━━━━\u001b[0m\u001b[37m\u001b[0m \u001b[1m10s\u001b[0m 37ms/step - accuracy: 0.8174 - loss: 0.3877 - val_accuracy: 0.6980 - val_loss: 0.7937\n",
            "Epoch 6/100\n",
            "\u001b[1m208/208\u001b[0m \u001b[32m━━━━━━━━━━━━━━━━━━━━\u001b[0m\u001b[37m\u001b[0m \u001b[1m10s\u001b[0m 37ms/step - accuracy: 0.8401 - loss: 0.3362 - val_accuracy: 0.7454 - val_loss: 0.7342\n",
            "Epoch 7/100\n",
            "\u001b[1m208/208\u001b[0m \u001b[32m━━━━━━━━━━━━━━━━━━━━\u001b[0m\u001b[37m\u001b[0m \u001b[1m10s\u001b[0m 38ms/step - accuracy: 0.8460 - loss: 0.3256 - val_accuracy: 0.7875 - val_loss: 0.5456\n",
            "Epoch 8/100\n",
            "\u001b[1m208/208\u001b[0m \u001b[32m━━━━━━━━━━━━━━━━━━━━\u001b[0m\u001b[37m\u001b[0m \u001b[1m10s\u001b[0m 37ms/step - accuracy: 0.8628 - loss: 0.2773 - val_accuracy: 0.7165 - val_loss: 0.8881\n",
            "Epoch 9/100\n",
            "\u001b[1m208/208\u001b[0m \u001b[32m━━━━━━━━━━━━━━━━━━━━\u001b[0m\u001b[37m\u001b[0m \u001b[1m10s\u001b[0m 37ms/step - accuracy: 0.8556 - loss: 0.3046 - val_accuracy: 0.8360 - val_loss: 0.4516\n",
            "Epoch 10/100\n",
            "\u001b[1m208/208\u001b[0m \u001b[32m━━━━━━━━━━━━━━━━━━━━\u001b[0m\u001b[37m\u001b[0m \u001b[1m10s\u001b[0m 38ms/step - accuracy: 0.8940 - loss: 0.2193 - val_accuracy: 0.8431 - val_loss: 0.4256\n",
            "Epoch 11/100\n",
            "\u001b[1m208/208\u001b[0m \u001b[32m━━━━━━━━━━━━━━━━━━━━\u001b[0m\u001b[37m\u001b[0m \u001b[1m10s\u001b[0m 37ms/step - accuracy: 0.9095 - loss: 0.1839 - val_accuracy: 0.7388 - val_loss: 0.8787\n",
            "Epoch 12/100\n",
            "\u001b[1m208/208\u001b[0m \u001b[32m━━━━━━━━━━━━━━━━━━━━\u001b[0m\u001b[37m\u001b[0m \u001b[1m10s\u001b[0m 37ms/step - accuracy: 0.9063 - loss: 0.1974 - val_accuracy: 0.8336 - val_loss: 0.4701\n",
            "Epoch 13/100\n",
            "\u001b[1m208/208\u001b[0m \u001b[32m━━━━━━━━━━━━━━━━━━━━\u001b[0m\u001b[37m\u001b[0m \u001b[1m10s\u001b[0m 37ms/step - accuracy: 0.9186 - loss: 0.1647 - val_accuracy: 0.7683 - val_loss: 0.7125\n",
            "Epoch 14/100\n",
            "\u001b[1m208/208\u001b[0m \u001b[32m━━━━━━━━━━━━━━━━━━━━\u001b[0m\u001b[37m\u001b[0m \u001b[1m10s\u001b[0m 38ms/step - accuracy: 0.9322 - loss: 0.1302 - val_accuracy: 0.8209 - val_loss: 0.5417\n",
            "Epoch 15/100\n",
            "\u001b[1m208/208\u001b[0m \u001b[32m━━━━━━━━━━━━━━━━━━━━\u001b[0m\u001b[37m\u001b[0m \u001b[1m10s\u001b[0m 37ms/step - accuracy: 0.9460 - loss: 0.1094 - val_accuracy: 0.8222 - val_loss: 0.5460\n",
            "Epoch 16/100\n",
            "\u001b[1m208/208\u001b[0m \u001b[32m━━━━━━━━━━━━━━━━━━━━\u001b[0m\u001b[37m\u001b[0m \u001b[1m10s\u001b[0m 38ms/step - accuracy: 0.9585 - loss: 0.0857 - val_accuracy: 0.7849 - val_loss: 0.8569\n",
            "Epoch 17/100\n",
            "\u001b[1m208/208\u001b[0m \u001b[32m━━━━━━━━━━━━━━━━━━━━\u001b[0m\u001b[37m\u001b[0m \u001b[1m10s\u001b[0m 37ms/step - accuracy: 0.9534 - loss: 0.0999 - val_accuracy: 0.7962 - val_loss: 0.8032\n",
            "Epoch 18/100\n",
            "\u001b[1m208/208\u001b[0m \u001b[32m━━━━━━━━━━━━━━━━━━━━\u001b[0m\u001b[37m\u001b[0m \u001b[1m10s\u001b[0m 37ms/step - accuracy: 0.9601 - loss: 0.0841 - val_accuracy: 0.7988 - val_loss: 0.7579\n",
            "Epoch 19/100\n",
            "\u001b[1m208/208\u001b[0m \u001b[32m━━━━━━━━━━━━━━━━━━━━\u001b[0m\u001b[37m\u001b[0m \u001b[1m10s\u001b[0m 37ms/step - accuracy: 0.9713 - loss: 0.0617 - val_accuracy: 0.8228 - val_loss: 0.7103\n",
            "Epoch 20/100\n",
            "\u001b[1m208/208\u001b[0m \u001b[32m━━━━━━━━━━━━━━━━━━━━\u001b[0m\u001b[37m\u001b[0m \u001b[1m10s\u001b[0m 37ms/step - accuracy: 0.9681 - loss: 0.0743 - val_accuracy: 0.8184 - val_loss: 0.7754\n",
            "Epoch 21/100\n",
            "\u001b[1m208/208\u001b[0m \u001b[32m━━━━━━━━━━━━━━━━━━━━\u001b[0m\u001b[37m\u001b[0m \u001b[1m10s\u001b[0m 37ms/step - accuracy: 0.9827 - loss: 0.0377 - val_accuracy: 0.8315 - val_loss: 0.7823\n",
            "Epoch 22/100\n",
            "\u001b[1m208/208\u001b[0m \u001b[32m━━━━━━━━━━━━━━━━━━━━\u001b[0m\u001b[37m\u001b[0m \u001b[1m10s\u001b[0m 38ms/step - accuracy: 0.9880 - loss: 0.0262 - val_accuracy: 0.8451 - val_loss: 0.7260\n",
            "Epoch 23/100\n",
            "\u001b[1m208/208\u001b[0m \u001b[32m━━━━━━━━━━━━━━━━━━━━\u001b[0m\u001b[37m\u001b[0m \u001b[1m10s\u001b[0m 37ms/step - accuracy: 0.9809 - loss: 0.0382 - val_accuracy: 0.8219 - val_loss: 0.8540\n",
            "Epoch 24/100\n",
            "\u001b[1m208/208\u001b[0m \u001b[32m━━━━━━━━━━━━━━━━━━━━\u001b[0m\u001b[37m\u001b[0m \u001b[1m10s\u001b[0m 37ms/step - accuracy: 0.9873 - loss: 0.0260 - val_accuracy: 0.8475 - val_loss: 0.6381\n",
            "Epoch 25/100\n",
            "\u001b[1m208/208\u001b[0m \u001b[32m━━━━━━━━━━━━━━━━━━━━\u001b[0m\u001b[37m\u001b[0m \u001b[1m10s\u001b[0m 37ms/step - accuracy: 0.9818 - loss: 0.0361 - val_accuracy: 0.8353 - val_loss: 0.7451\n"
          ]
        },
        {
          "output_type": "execute_result",
          "data": {
            "text/plain": [
              "<keras.src.callbacks.history.History at 0x7b4d9bbc0d10>"
            ]
          },
          "metadata": {},
          "execution_count": 111
        }
      ]
    },
    {
      "cell_type": "code",
      "source": [
        "from sklearn.metrics import (\n",
        "    classification_report,\n",
        "    accuracy_score,\n",
        "    balanced_accuracy_score,\n",
        "    precision_score,\n",
        "    recall_score,\n",
        "    f1_score\n",
        ")\n",
        "\n",
        "\n",
        "y_pred = teacher.predict(testDataset)\n",
        "y_pred_classes = np.argmax(y_pred, axis=1)  # Convert softmax to class indices\n",
        "\n",
        "y_true = np.concatenate([y for x, y in testDataset], axis=0)\n",
        "\n",
        "# Basic overall metrics\n",
        "print(\"📊 Overall Performance Metrics:\")\n",
        "print(f\"Accuracy: {accuracy_score(y_true, y_pred_classes):.4f}\")\n",
        "print(f\"Balanced Accuracy: {balanced_accuracy_score(y_true, y_pred_classes):.4f}\")\n",
        "print(f\"Macro Precision: {precision_score(y_true, y_pred_classes, average='macro'):.4f}\")\n",
        "print(f\"Macro Recall: {recall_score(y_true, y_pred_classes, average='macro'):.4f}\")\n",
        "print(f\"Macro F1-Score: {f1_score(y_true, y_pred_classes, average='macro'):.4f}\")\n",
        "\n",
        "# Detailed breakdown per class\n",
        "print(\"\\n📋 Classification Report:\")\n",
        "print(classification_report(y_true, y_pred_classes, digits=4))\n"
      ],
      "metadata": {
        "colab": {
          "base_uri": "https://localhost:8080/"
        },
        "id": "8ix1hpyaBjjb",
        "outputId": "6c2e4297-1365-4796-d850-db48c8fc028c"
      },
      "execution_count": null,
      "outputs": [
        {
          "output_type": "stream",
          "name": "stdout",
          "text": [
            "\u001b[1m208/208\u001b[0m \u001b[32m━━━━━━━━━━━━━━━━━━━━\u001b[0m\u001b[37m\u001b[0m \u001b[1m1s\u001b[0m 6ms/step\n",
            "📊 Overall Performance Metrics:\n",
            "Accuracy: 0.8431\n",
            "Balanced Accuracy: 0.8344\n",
            "Macro Precision: 0.8610\n",
            "Macro Recall: 0.8344\n",
            "Macro F1-Score: 0.8437\n",
            "\n",
            "📋 Classification Report:\n",
            "              precision    recall  f1-score   support\n",
            "\n",
            "           0     0.8526    0.6355    0.7282      1347\n",
            "           1     0.7954    0.8428    0.8184      1361\n",
            "           2     0.8852    0.8114    0.8467       228\n",
            "           3     0.9574    0.9919    0.9744      1111\n",
            "           4     0.8144    0.8903    0.8507      2588\n",
            "\n",
            "    accuracy                         0.8431      6635\n",
            "   macro avg     0.8610    0.8344    0.8437      6635\n",
            "weighted avg     0.8447    0.8431    0.8398      6635\n",
            "\n"
          ]
        }
      ]
    },
    {
      "cell_type": "markdown",
      "source": [
        "### MobileNetV2"
      ],
      "metadata": {
        "id": "x4jfkZy7GOkd"
      }
    },
    {
      "cell_type": "code",
      "source": [
        "from keras import  models\n",
        "\n",
        "def build_mobilenetv2_teacher(input_shape=(66, 40, 1), num_classes=5, alpha=0.5):\n",
        "    base_model = keras.applications.MobileNetV2(\n",
        "        input_shape=input_shape,\n",
        "        alpha=alpha,\n",
        "        include_top=False,\n",
        "        weights=None  # training from scratch for audio\n",
        "    )\n",
        "    x = layers.GlobalAveragePooling2D()(base_model.output)\n",
        "    outputs = layers.Dense(num_classes, activation='softmax')(x)\n",
        "    model = models.Model(inputs=base_model.input, outputs=outputs)\n",
        "    return model\n",
        "\n",
        "teacher_model = build_mobilenetv2_teacher(\n",
        "    input_shape=(66, 40, 1),\n",
        "    num_classes=5,\n",
        "    alpha=0.5\n",
        ")\n",
        "\n",
        "teacher_optimizer = keras.optimizers.AdamW(learning_rate=0.001)\n",
        "\n",
        "teacher_model.compile(optimizer=teacher_optimizer, loss=keras.losses.SparseCategoricalCrossentropy(), metrics=['accuracy'])\n"
      ],
      "metadata": {
        "id": "NhBjAtmaGNmq"
      },
      "execution_count": null,
      "outputs": []
    },
    {
      "cell_type": "code",
      "source": [
        "teacher_earlystop2 = EarlyStopping(\n",
        "    monitor='val_loss',\n",
        "    patience=15,\n",
        "    restore_best_weights=True\n",
        ")"
      ],
      "metadata": {
        "id": "zCBMqnheGnhv"
      },
      "execution_count": null,
      "outputs": []
    },
    {
      "cell_type": "code",
      "source": [
        "teacher_model.fit(\n",
        "    trainDataset,\n",
        "    validation_data=testDataset,\n",
        "    epochs=100,\n",
        "    class_weight=class_weights,\n",
        "    callbacks=[teacher_earlystop2]\n",
        ")\n",
        "\n"
      ],
      "metadata": {
        "colab": {
          "base_uri": "https://localhost:8080/"
        },
        "id": "jGIloaJ8Gqd5",
        "outputId": "163be105-9b37-4dfc-f884-0440cd0a4bb1"
      },
      "execution_count": null,
      "outputs": [
        {
          "output_type": "stream",
          "name": "stdout",
          "text": [
            "Epoch 1/100\n",
            "\u001b[1m830/830\u001b[0m \u001b[32m━━━━━━━━━━━━━━━━━━━━\u001b[0m\u001b[37m\u001b[0m \u001b[1m92s\u001b[0m 49ms/step - accuracy: 0.3087 - loss: 1.5477 - val_accuracy: 0.2030 - val_loss: 1.6202\n",
            "Epoch 2/100\n",
            "\u001b[1m830/830\u001b[0m \u001b[32m━━━━━━━━━━━━━━━━━━━━\u001b[0m\u001b[37m\u001b[0m \u001b[1m12s\u001b[0m 12ms/step - accuracy: 0.5365 - loss: 1.0264 - val_accuracy: 0.2030 - val_loss: 1.5692\n",
            "Epoch 3/100\n",
            "\u001b[1m830/830\u001b[0m \u001b[32m━━━━━━━━━━━━━━━━━━━━\u001b[0m\u001b[37m\u001b[0m \u001b[1m12s\u001b[0m 12ms/step - accuracy: 0.6014 - loss: 0.8715 - val_accuracy: 0.1674 - val_loss: 1.5729\n",
            "Epoch 4/100\n",
            "\u001b[1m830/830\u001b[0m \u001b[32m━━━━━━━━━━━━━━━━━━━━\u001b[0m\u001b[37m\u001b[0m \u001b[1m13s\u001b[0m 12ms/step - accuracy: 0.6464 - loss: 0.7613 - val_accuracy: 0.1674 - val_loss: 1.5904\n",
            "Epoch 5/100\n",
            "\u001b[1m830/830\u001b[0m \u001b[32m━━━━━━━━━━━━━━━━━━━━\u001b[0m\u001b[37m\u001b[0m \u001b[1m13s\u001b[0m 13ms/step - accuracy: 0.6582 - loss: 0.7180 - val_accuracy: 0.3715 - val_loss: 1.5001\n",
            "Epoch 6/100\n",
            "\u001b[1m830/830\u001b[0m \u001b[32m━━━━━━━━━━━━━━━━━━━━\u001b[0m\u001b[37m\u001b[0m \u001b[1m12s\u001b[0m 12ms/step - accuracy: 0.6841 - loss: 0.6770 - val_accuracy: 0.5946 - val_loss: 0.9721\n",
            "Epoch 7/100\n",
            "\u001b[1m830/830\u001b[0m \u001b[32m━━━━━━━━━━━━━━━━━━━━\u001b[0m\u001b[37m\u001b[0m \u001b[1m12s\u001b[0m 12ms/step - accuracy: 0.6908 - loss: 0.6581 - val_accuracy: 0.6410 - val_loss: 1.0762\n",
            "Epoch 8/100\n",
            "\u001b[1m830/830\u001b[0m \u001b[32m━━━━━━━━━━━━━━━━━━━━\u001b[0m\u001b[37m\u001b[0m \u001b[1m12s\u001b[0m 12ms/step - accuracy: 0.7081 - loss: 0.6203 - val_accuracy: 0.3298 - val_loss: 3.5902\n",
            "Epoch 9/100\n",
            "\u001b[1m830/830\u001b[0m \u001b[32m━━━━━━━━━━━━━━━━━━━━\u001b[0m\u001b[37m\u001b[0m \u001b[1m12s\u001b[0m 12ms/step - accuracy: 0.7081 - loss: 0.6344 - val_accuracy: 0.6121 - val_loss: 1.5602\n",
            "Epoch 10/100\n",
            "\u001b[1m830/830\u001b[0m \u001b[32m━━━━━━━━━━━━━━━━━━━━\u001b[0m\u001b[37m\u001b[0m \u001b[1m12s\u001b[0m 12ms/step - accuracy: 0.7244 - loss: 0.5895 - val_accuracy: 0.6413 - val_loss: 1.3677\n",
            "Epoch 11/100\n",
            "\u001b[1m830/830\u001b[0m \u001b[32m━━━━━━━━━━━━━━━━━━━━\u001b[0m\u001b[37m\u001b[0m \u001b[1m12s\u001b[0m 12ms/step - accuracy: 0.7344 - loss: 0.5768 - val_accuracy: 0.6234 - val_loss: 1.7003\n",
            "Epoch 12/100\n",
            "\u001b[1m830/830\u001b[0m \u001b[32m━━━━━━━━━━━━━━━━━━━━\u001b[0m\u001b[37m\u001b[0m \u001b[1m12s\u001b[0m 12ms/step - accuracy: 0.7481 - loss: 0.5341 - val_accuracy: 0.5649 - val_loss: 2.5230\n",
            "Epoch 13/100\n",
            "\u001b[1m830/830\u001b[0m \u001b[32m━━━━━━━━━━━━━━━━━━━━\u001b[0m\u001b[37m\u001b[0m \u001b[1m12s\u001b[0m 12ms/step - accuracy: 0.7620 - loss: 0.5109 - val_accuracy: 0.6250 - val_loss: 1.6042\n",
            "Epoch 14/100\n",
            "\u001b[1m830/830\u001b[0m \u001b[32m━━━━━━━━━━━━━━━━━━━━\u001b[0m\u001b[37m\u001b[0m \u001b[1m12s\u001b[0m 12ms/step - accuracy: 0.7587 - loss: 0.5064 - val_accuracy: 0.6665 - val_loss: 1.3475\n",
            "Epoch 15/100\n",
            "\u001b[1m830/830\u001b[0m \u001b[32m━━━━━━━━━━━━━━━━━━━━\u001b[0m\u001b[37m\u001b[0m \u001b[1m12s\u001b[0m 12ms/step - accuracy: 0.7713 - loss: 0.4861 - val_accuracy: 0.5587 - val_loss: 2.1103\n",
            "Epoch 16/100\n",
            "\u001b[1m830/830\u001b[0m \u001b[32m━━━━━━━━━━━━━━━━━━━━\u001b[0m\u001b[37m\u001b[0m \u001b[1m12s\u001b[0m 12ms/step - accuracy: 0.7770 - loss: 0.4816 - val_accuracy: 0.6339 - val_loss: 1.3662\n",
            "Epoch 17/100\n",
            "\u001b[1m830/830\u001b[0m \u001b[32m━━━━━━━━━━━━━━━━━━━━\u001b[0m\u001b[37m\u001b[0m \u001b[1m12s\u001b[0m 12ms/step - accuracy: 0.7803 - loss: 0.4748 - val_accuracy: 0.6574 - val_loss: 1.3972\n",
            "Epoch 18/100\n",
            "\u001b[1m830/830\u001b[0m \u001b[32m━━━━━━━━━━━━━━━━━━━━\u001b[0m\u001b[37m\u001b[0m \u001b[1m12s\u001b[0m 12ms/step - accuracy: 0.7839 - loss: 0.4479 - val_accuracy: 0.6735 - val_loss: 1.2300\n",
            "Epoch 19/100\n",
            "\u001b[1m830/830\u001b[0m \u001b[32m━━━━━━━━━━━━━━━━━━━━\u001b[0m\u001b[37m\u001b[0m \u001b[1m12s\u001b[0m 12ms/step - accuracy: 0.7976 - loss: 0.4141 - val_accuracy: 0.5688 - val_loss: 2.0220\n",
            "Epoch 20/100\n",
            "\u001b[1m830/830\u001b[0m \u001b[32m━━━━━━━━━━━━━━━━━━━━\u001b[0m\u001b[37m\u001b[0m \u001b[1m13s\u001b[0m 12ms/step - accuracy: 0.8005 - loss: 0.4142 - val_accuracy: 0.7243 - val_loss: 0.9082\n",
            "Epoch 21/100\n",
            "\u001b[1m830/830\u001b[0m \u001b[32m━━━━━━━━━━━━━━━━━━━━\u001b[0m\u001b[37m\u001b[0m \u001b[1m13s\u001b[0m 12ms/step - accuracy: 0.8042 - loss: 0.4108 - val_accuracy: 0.7088 - val_loss: 1.0318\n",
            "Epoch 22/100\n",
            "\u001b[1m830/830\u001b[0m \u001b[32m━━━━━━━━━━━━━━━━━━━━\u001b[0m\u001b[37m\u001b[0m \u001b[1m13s\u001b[0m 12ms/step - accuracy: 0.8093 - loss: 0.3949 - val_accuracy: 0.7188 - val_loss: 0.8791\n",
            "Epoch 23/100\n",
            "\u001b[1m830/830\u001b[0m \u001b[32m━━━━━━━━━━━━━━━━━━━━\u001b[0m\u001b[37m\u001b[0m \u001b[1m13s\u001b[0m 13ms/step - accuracy: 0.8142 - loss: 0.3785 - val_accuracy: 0.7121 - val_loss: 0.9660\n",
            "Epoch 24/100\n",
            "\u001b[1m830/830\u001b[0m \u001b[32m━━━━━━━━━━━━━━━━━━━━\u001b[0m\u001b[37m\u001b[0m \u001b[1m13s\u001b[0m 12ms/step - accuracy: 0.8225 - loss: 0.3704 - val_accuracy: 0.7171 - val_loss: 1.0036\n",
            "Epoch 25/100\n",
            "\u001b[1m830/830\u001b[0m \u001b[32m━━━━━━━━━━━━━━━━━━━━\u001b[0m\u001b[37m\u001b[0m \u001b[1m13s\u001b[0m 12ms/step - accuracy: 0.8206 - loss: 0.3650 - val_accuracy: 0.7283 - val_loss: 0.7515\n",
            "Epoch 26/100\n",
            "\u001b[1m830/830\u001b[0m \u001b[32m━━━━━━━━━━━━━━━━━━━━\u001b[0m\u001b[37m\u001b[0m \u001b[1m13s\u001b[0m 12ms/step - accuracy: 0.8215 - loss: 0.3597 - val_accuracy: 0.6524 - val_loss: 1.2171\n",
            "Epoch 27/100\n",
            "\u001b[1m830/830\u001b[0m \u001b[32m━━━━━━━━━━━━━━━━━━━━\u001b[0m\u001b[37m\u001b[0m \u001b[1m12s\u001b[0m 12ms/step - accuracy: 0.8256 - loss: 0.3619 - val_accuracy: 0.7201 - val_loss: 0.9148\n",
            "Epoch 28/100\n",
            "\u001b[1m830/830\u001b[0m \u001b[32m━━━━━━━━━━━━━━━━━━━━\u001b[0m\u001b[37m\u001b[0m \u001b[1m13s\u001b[0m 12ms/step - accuracy: 0.8239 - loss: 0.3566 - val_accuracy: 0.7215 - val_loss: 0.9389\n",
            "Epoch 29/100\n",
            "\u001b[1m830/830\u001b[0m \u001b[32m━━━━━━━━━━━━━━━━━━━━\u001b[0m\u001b[37m\u001b[0m \u001b[1m13s\u001b[0m 12ms/step - accuracy: 0.8224 - loss: 0.3622 - val_accuracy: 0.7405 - val_loss: 0.7632\n",
            "Epoch 30/100\n",
            "\u001b[1m830/830\u001b[0m \u001b[32m━━━━━━━━━━━━━━━━━━━━\u001b[0m\u001b[37m\u001b[0m \u001b[1m12s\u001b[0m 12ms/step - accuracy: 0.8220 - loss: 0.3793 - val_accuracy: 0.6975 - val_loss: 1.0498\n",
            "Epoch 31/100\n",
            "\u001b[1m830/830\u001b[0m \u001b[32m━━━━━━━━━━━━━━━━━━━━\u001b[0m\u001b[37m\u001b[0m \u001b[1m13s\u001b[0m 12ms/step - accuracy: 0.8363 - loss: 0.3353 - val_accuracy: 0.7492 - val_loss: 0.7627\n",
            "Epoch 32/100\n",
            "\u001b[1m830/830\u001b[0m \u001b[32m━━━━━━━━━━━━━━━━━━━━\u001b[0m\u001b[37m\u001b[0m \u001b[1m12s\u001b[0m 12ms/step - accuracy: 0.8457 - loss: 0.3089 - val_accuracy: 0.7343 - val_loss: 0.7910\n",
            "Epoch 33/100\n",
            "\u001b[1m830/830\u001b[0m \u001b[32m━━━━━━━━━━━━━━━━━━━━\u001b[0m\u001b[37m\u001b[0m \u001b[1m13s\u001b[0m 12ms/step - accuracy: 0.8473 - loss: 0.3026 - val_accuracy: 0.7860 - val_loss: 0.6024\n",
            "Epoch 34/100\n",
            "\u001b[1m830/830\u001b[0m \u001b[32m━━━━━━━━━━━━━━━━━━━━\u001b[0m\u001b[37m\u001b[0m \u001b[1m13s\u001b[0m 12ms/step - accuracy: 0.8473 - loss: 0.3007 - val_accuracy: 0.7066 - val_loss: 1.0592\n",
            "Epoch 35/100\n",
            "\u001b[1m830/830\u001b[0m \u001b[32m━━━━━━━━━━━━━━━━━━━━\u001b[0m\u001b[37m\u001b[0m \u001b[1m13s\u001b[0m 12ms/step - accuracy: 0.8484 - loss: 0.3039 - val_accuracy: 0.7385 - val_loss: 0.7939\n",
            "Epoch 36/100\n",
            "\u001b[1m830/830\u001b[0m \u001b[32m━━━━━━━━━━━━━━━━━━━━\u001b[0m\u001b[37m\u001b[0m \u001b[1m13s\u001b[0m 12ms/step - accuracy: 0.8583 - loss: 0.2788 - val_accuracy: 0.6971 - val_loss: 0.8857\n",
            "Epoch 37/100\n",
            "\u001b[1m830/830\u001b[0m \u001b[32m━━━━━━━━━━━━━━━━━━━━\u001b[0m\u001b[37m\u001b[0m \u001b[1m13s\u001b[0m 12ms/step - accuracy: 0.8586 - loss: 0.2812 - val_accuracy: 0.7287 - val_loss: 0.8224\n",
            "Epoch 38/100\n",
            "\u001b[1m830/830\u001b[0m \u001b[32m━━━━━━━━━━━━━━━━━━━━\u001b[0m\u001b[37m\u001b[0m \u001b[1m13s\u001b[0m 12ms/step - accuracy: 0.8520 - loss: 0.3057 - val_accuracy: 0.7418 - val_loss: 0.8606\n",
            "Epoch 39/100\n",
            "\u001b[1m830/830\u001b[0m \u001b[32m━━━━━━━━━━━━━━━━━━━━\u001b[0m\u001b[37m\u001b[0m \u001b[1m12s\u001b[0m 12ms/step - accuracy: 0.8640 - loss: 0.2708 - val_accuracy: 0.6523 - val_loss: 1.3201\n",
            "Epoch 40/100\n",
            "\u001b[1m830/830\u001b[0m \u001b[32m━━━━━━━━━━━━━━━━━━━━\u001b[0m\u001b[37m\u001b[0m \u001b[1m12s\u001b[0m 12ms/step - accuracy: 0.8604 - loss: 0.2743 - val_accuracy: 0.6508 - val_loss: 1.3147\n",
            "Epoch 41/100\n",
            "\u001b[1m830/830\u001b[0m \u001b[32m━━━━━━━━━━━━━━━━━━━━\u001b[0m\u001b[37m\u001b[0m \u001b[1m13s\u001b[0m 12ms/step - accuracy: 0.8715 - loss: 0.2538 - val_accuracy: 0.7540 - val_loss: 0.7029\n",
            "Epoch 42/100\n",
            "\u001b[1m830/830\u001b[0m \u001b[32m━━━━━━━━━━━━━━━━━━━━\u001b[0m\u001b[37m\u001b[0m \u001b[1m13s\u001b[0m 12ms/step - accuracy: 0.8684 - loss: 0.2564 - val_accuracy: 0.6422 - val_loss: 1.4661\n",
            "Epoch 43/100\n",
            "\u001b[1m830/830\u001b[0m \u001b[32m━━━━━━━━━━━━━━━━━━━━\u001b[0m\u001b[37m\u001b[0m \u001b[1m12s\u001b[0m 12ms/step - accuracy: 0.8712 - loss: 0.2519 - val_accuracy: 0.7738 - val_loss: 0.6693\n",
            "Epoch 44/100\n",
            "\u001b[1m830/830\u001b[0m \u001b[32m━━━━━━━━━━━━━━━━━━━━\u001b[0m\u001b[37m\u001b[0m \u001b[1m12s\u001b[0m 12ms/step - accuracy: 0.8874 - loss: 0.2241 - val_accuracy: 0.7557 - val_loss: 0.7064\n",
            "Epoch 45/100\n",
            "\u001b[1m830/830\u001b[0m \u001b[32m━━━━━━━━━━━━━━━━━━━━\u001b[0m\u001b[37m\u001b[0m \u001b[1m13s\u001b[0m 12ms/step - accuracy: 0.8822 - loss: 0.2286 - val_accuracy: 0.7754 - val_loss: 0.6885\n",
            "Epoch 46/100\n",
            "\u001b[1m830/830\u001b[0m \u001b[32m━━━━━━━━━━━━━━━━━━━━\u001b[0m\u001b[37m\u001b[0m \u001b[1m12s\u001b[0m 12ms/step - accuracy: 0.8756 - loss: 0.2531 - val_accuracy: 0.7661 - val_loss: 0.7408\n",
            "Epoch 47/100\n",
            "\u001b[1m830/830\u001b[0m \u001b[32m━━━━━━━━━━━━━━━━━━━━\u001b[0m\u001b[37m\u001b[0m \u001b[1m12s\u001b[0m 12ms/step - accuracy: 0.8783 - loss: 0.2339 - val_accuracy: 0.7616 - val_loss: 0.7213\n",
            "Epoch 48/100\n",
            "\u001b[1m830/830\u001b[0m \u001b[32m━━━━━━━━━━━━━━━━━━━━\u001b[0m\u001b[37m\u001b[0m \u001b[1m12s\u001b[0m 12ms/step - accuracy: 0.8852 - loss: 0.2328 - val_accuracy: 0.7364 - val_loss: 0.8213\n"
          ]
        },
        {
          "output_type": "execute_result",
          "data": {
            "text/plain": [
              "<keras.src.callbacks.history.History at 0x7b4d9b0d8510>"
            ]
          },
          "metadata": {},
          "execution_count": 116
        }
      ]
    },
    {
      "cell_type": "code",
      "source": [
        "from sklearn.metrics import (\n",
        "    classification_report,\n",
        "    accuracy_score,\n",
        "    balanced_accuracy_score,\n",
        "    precision_score,\n",
        "    recall_score,\n",
        "    f1_score\n",
        ")\n",
        "\n",
        "\n",
        "y_pred = teacher_model.predict(testDataset)\n",
        "y_pred_classes = np.argmax(y_pred, axis=1)  # Convert softmax to class indices\n",
        "\n",
        "y_true = np.concatenate([y for x, y in testDataset], axis=0)\n",
        "\n",
        "# Basic overall metrics\n",
        "print(\"📊 Overall Performance Metrics:\")\n",
        "print(f\"Accuracy: {accuracy_score(y_true, y_pred_classes):.4f}\")\n",
        "print(f\"Balanced Accuracy: {balanced_accuracy_score(y_true, y_pred_classes):.4f}\")\n",
        "print(f\"Macro Precision: {precision_score(y_true, y_pred_classes, average='macro'):.4f}\")\n",
        "print(f\"Macro Recall: {recall_score(y_true, y_pred_classes, average='macro'):.4f}\")\n",
        "print(f\"Macro F1-Score: {f1_score(y_true, y_pred_classes, average='macro'):.4f}\")\n",
        "\n",
        "# Detailed breakdown per class\n",
        "print(\"\\n📋 Classification Report:\")\n",
        "print(classification_report(y_true, y_pred_classes, digits=4))\n"
      ],
      "metadata": {
        "colab": {
          "base_uri": "https://localhost:8080/"
        },
        "id": "WeWeJ8pJHCO6",
        "outputId": "d79b5ef9-0c75-41c4-ab38-6affd33818bc"
      },
      "execution_count": null,
      "outputs": [
        {
          "output_type": "stream",
          "name": "stdout",
          "text": [
            "\u001b[1m208/208\u001b[0m \u001b[32m━━━━━━━━━━━━━━━━━━━━\u001b[0m\u001b[37m\u001b[0m \u001b[1m7s\u001b[0m 20ms/step\n",
            "📊 Overall Performance Metrics:\n",
            "Accuracy: 0.7860\n",
            "Balanced Accuracy: 0.7842\n",
            "Macro Precision: 0.7690\n",
            "Macro Recall: 0.7842\n",
            "Macro F1-Score: 0.7749\n",
            "\n",
            "📋 Classification Report:\n",
            "              precision    recall  f1-score   support\n",
            "\n",
            "           0     0.6252    0.7379    0.6769      1347\n",
            "           1     0.7734    0.7649    0.7691      1361\n",
            "           2     0.6723    0.6930    0.6825       228\n",
            "           3     0.9313    0.9766    0.9534      1111\n",
            "           4     0.8425    0.7485    0.7927      2588\n",
            "\n",
            "    accuracy                         0.7860      6635\n",
            "   macro avg     0.7690    0.7842    0.7749      6635\n",
            "weighted avg     0.7932    0.7860    0.7875      6635\n",
            "\n"
          ]
        }
      ]
    },
    {
      "cell_type": "markdown",
      "source": [
        "#### Checking if the quality of the features aren't that good..."
      ],
      "metadata": {
        "id": "3y8eJDhFO9JF"
      }
    },
    {
      "cell_type": "code",
      "source": [
        "# Assume trainX, valX are np arrays of shape (N, audio_length) at 16kHz\n",
        "def batch_extract_mel(audio_batch):\n",
        "    mels = []\n",
        "    for audio in audio_batch:\n",
        "        mel, _ = mel_spectrogram(audio, 0)\n",
        "        mels.append(mel.numpy())\n",
        "    return np.stack(mels, axis=0)\n",
        "\n",
        "X_train_mel = batch_extract_mel(trainX)\n",
        "X_val_mel   = batch_extract_mel(testX)"
      ],
      "metadata": {
        "id": "RFq7rWJFPB8m"
      },
      "execution_count": null,
      "outputs": []
    },
    {
      "cell_type": "code",
      "source": [
        "from keras.models import Model\n",
        "\n",
        "# Remove last layer to get penultimate features\n",
        "feature_extractor = Model(inputs=teacher_model.input,\n",
        "                          outputs=teacher_model.layers[-2].output)\n",
        "\n",
        "X_train_emb = feature_extractor.predict(X_train_mel, batch_size=32)\n",
        "X_val_emb   = feature_extractor.predict(X_val_mel, batch_size=32)"
      ],
      "metadata": {
        "colab": {
          "base_uri": "https://localhost:8080/"
        },
        "id": "-PKX870YPcVI",
        "outputId": "e0e820ed-6768-4ce6-8238-b22f8a40bb0e"
      },
      "execution_count": null,
      "outputs": [
        {
          "output_type": "stream",
          "name": "stdout",
          "text": [
            "\u001b[1m830/830\u001b[0m \u001b[32m━━━━━━━━━━━━━━━━━━━━\u001b[0m\u001b[37m\u001b[0m \u001b[1m9s\u001b[0m 7ms/step\n",
            "\u001b[1m208/208\u001b[0m \u001b[32m━━━━━━━━━━━━━━━━━━━━\u001b[0m\u001b[37m\u001b[0m \u001b[1m2s\u001b[0m 12ms/step\n"
          ]
        }
      ]
    },
    {
      "cell_type": "code",
      "source": [
        "from sklearn.linear_model import LogisticRegression\n",
        "from sklearn.metrics import accuracy_score\n",
        "\n",
        "clf = LogisticRegression(max_iter=2000, multi_class='multinomial')\n",
        "clf.fit(X_train_emb, trainY)\n",
        "\n",
        "y_val_pred = clf.predict(X_val_emb)\n",
        "val_acc = accuracy_score(testY, y_val_pred)\n",
        "print(\"Linear probe val accuracy:\", val_acc)\n"
      ],
      "metadata": {
        "colab": {
          "base_uri": "https://localhost:8080/"
        },
        "id": "bAbE7g4iRXQ4",
        "outputId": "da6fc7ec-76bc-4512-ef5e-64ea7d473024"
      },
      "execution_count": null,
      "outputs": [
        {
          "output_type": "stream",
          "name": "stderr",
          "text": [
            "/usr/local/lib/python3.11/dist-packages/sklearn/linear_model/_logistic.py:1247: FutureWarning: 'multi_class' was deprecated in version 1.5 and will be removed in 1.7. From then on, it will always use 'multinomial'. Leave it to its default value to avoid this warning.\n",
            "  warnings.warn(\n"
          ]
        },
        {
          "output_type": "stream",
          "name": "stdout",
          "text": [
            "Linear probe val accuracy: 0.798492840994725\n"
          ]
        }
      ]
    },
    {
      "cell_type": "markdown",
      "source": [
        "from this I can conclude that the features I currently have is the bottleneck...\n",
        "even big models struggle with these features, I've reached the end.\n",
        "\n",
        "however, trying to distil knowledge might still help. (MIGHT)"
      ],
      "metadata": {
        "id": "Iqx2J-rIXoaO"
      }
    },
    {
      "cell_type": "markdown",
      "source": [
        "# Trying a Raw audio model\n",
        "you have to get a version of the dataset that doesn't map"
      ],
      "metadata": {
        "id": "M7C6V8mg6DEX"
      }
    },
    {
      "cell_type": "code",
      "source": [
        "#create the datasets\n",
        "batchsize = 32\n",
        "trainDataset = tf.data.Dataset.from_tensor_slices((trainX, trainY))\n",
        "testDataset = tf.data.Dataset.from_tensor_slices((testX, testY))\n",
        "\n",
        "trainDataset = trainDataset.shuffle(buffer_size=len(trainDataset)).batch(batchsize) #.map(mel_spectrogram)\n",
        "trainDataset = trainDataset.prefetch(buffer_size=tf.data.AUTOTUNE)\n",
        "\n",
        "testDataset = testDataset.batch(batchsize)                                          #.map(mel_spectrogram)\n",
        "testDataset = testDataset.prefetch(buffer_size=tf.data.AUTOTUNE)"
      ],
      "metadata": {
        "id": "zOORdyvO6ISO"
      },
      "execution_count": null,
      "outputs": []
    },
    {
      "cell_type": "code",
      "source": [
        "from keras import layers\n",
        "def build_simple_raw_1d_cnn(\n",
        "    input_length=16000,   # length of waveform in samples\n",
        "    num_classes=5,       # output classes\n",
        "    filters=[8, 16, 32],  # filters for each block\n",
        "    kernel_size=9\n",
        "):\n",
        "    \"\"\"\n",
        "    Very simple 1D CNN for raw audio.\n",
        "    input: (time, 1) single-channel waveform\n",
        "    \"\"\"\n",
        "    inp = keras.Input(shape=(input_length, 1), name=\"waveform\")\n",
        "\n",
        "    x = inp\n",
        "    for i, f in enumerate(filters, start=1):\n",
        "        x = layers.Conv1D(f, kernel_size, padding=\"same\", activation=\"relu\", name=f\"conv{i}\")(x)\n",
        "        x = layers.MaxPooling1D(pool_size=2, name=f\"pool{i}\")(x)\n",
        "\n",
        "    x = layers.GlobalAveragePooling1D(name=\"gap\")(x)\n",
        "    x = layers.Dense(32, activation=\"relu\", name=\"fc\")(x)\n",
        "    out = layers.Dense(num_classes, activation=\"softmax\", name=\"probs\")(x)\n",
        "\n",
        "    model = keras.Model(inp, out, name=\"simple_raw_1d_cnn\")\n",
        "    return model"
      ],
      "metadata": {
        "id": "SI2k9JKP65tt"
      },
      "execution_count": null,
      "outputs": []
    },
    {
      "cell_type": "code",
      "source": [
        "from keras.callbacks import EarlyStopping, ModelCheckpoint\n",
        "rawAudioModel = build_high_acc_raw_1d_cnn(input_length=16000)\n",
        "rawAudioModel.compile(optimizer=\"adam\", loss=\"sparse_categorical_crossentropy\", metrics=[\"accuracy\"])\n",
        "\n",
        "rawAudioModel_earlystop = EarlyStopping(\n",
        "    monitor='val_loss',\n",
        "    patience=15,\n",
        "    restore_best_weights=True\n",
        ")"
      ],
      "metadata": {
        "id": "b9Q6d7cY66c1"
      },
      "execution_count": null,
      "outputs": []
    },
    {
      "cell_type": "code",
      "source": [
        "rawAudioModel.fit(\n",
        "    trainDataset,\n",
        "    validation_data=testDataset,\n",
        "    epochs=100,\n",
        "    class_weight=class_weights,\n",
        "    callbacks=[rawAudioModel_earlystop]\n",
        ")"
      ],
      "metadata": {
        "colab": {
          "base_uri": "https://localhost:8080/",
          "height": 425
        },
        "id": "uMU55OcJ7S7D",
        "outputId": "cb4343cc-4cd9-40a9-8de8-3dc2abb2edeb"
      },
      "execution_count": null,
      "outputs": [
        {
          "output_type": "stream",
          "name": "stdout",
          "text": [
            "Epoch 1/100\n",
            "\u001b[1m830/830\u001b[0m \u001b[32m━━━━━━━━━━━━━━━━━━━━\u001b[0m\u001b[37m\u001b[0m \u001b[1m121s\u001b[0m 123ms/step - accuracy: 0.1974 - loss: 1.7347 - val_accuracy: 0.2051 - val_loss: 1.6315\n",
            "Epoch 2/100\n",
            "\u001b[1m198/830\u001b[0m \u001b[32m━━━━\u001b[0m\u001b[37m━━━━━━━━━━━━━━━━\u001b[0m \u001b[1m1:04\u001b[0m 101ms/step - accuracy: 0.1679 - loss: 1.6677"
          ]
        },
        {
          "output_type": "error",
          "ename": "KeyboardInterrupt",
          "evalue": "",
          "traceback": [
            "\u001b[0;31m---------------------------------------------------------------------------\u001b[0m",
            "\u001b[0;31mKeyboardInterrupt\u001b[0m                         Traceback (most recent call last)",
            "\u001b[0;32m/tmp/ipython-input-1572469216.py\u001b[0m in \u001b[0;36m<cell line: 0>\u001b[0;34m()\u001b[0m\n\u001b[0;32m----> 1\u001b[0;31m rawAudioModel.fit(\n\u001b[0m\u001b[1;32m      2\u001b[0m     \u001b[0mtrainDataset\u001b[0m\u001b[0;34m,\u001b[0m\u001b[0;34m\u001b[0m\u001b[0;34m\u001b[0m\u001b[0m\n\u001b[1;32m      3\u001b[0m     \u001b[0mvalidation_data\u001b[0m\u001b[0;34m=\u001b[0m\u001b[0mtestDataset\u001b[0m\u001b[0;34m,\u001b[0m\u001b[0;34m\u001b[0m\u001b[0;34m\u001b[0m\u001b[0m\n\u001b[1;32m      4\u001b[0m     \u001b[0mepochs\u001b[0m\u001b[0;34m=\u001b[0m\u001b[0;36m100\u001b[0m\u001b[0;34m,\u001b[0m\u001b[0;34m\u001b[0m\u001b[0;34m\u001b[0m\u001b[0m\n\u001b[1;32m      5\u001b[0m     \u001b[0mclass_weight\u001b[0m\u001b[0;34m=\u001b[0m\u001b[0mclass_weights\u001b[0m\u001b[0;34m,\u001b[0m\u001b[0;34m\u001b[0m\u001b[0;34m\u001b[0m\u001b[0m\n",
            "\u001b[0;32m/usr/local/lib/python3.11/dist-packages/keras/src/utils/traceback_utils.py\u001b[0m in \u001b[0;36merror_handler\u001b[0;34m(*args, **kwargs)\u001b[0m\n\u001b[1;32m    115\u001b[0m         \u001b[0mfiltered_tb\u001b[0m \u001b[0;34m=\u001b[0m \u001b[0;32mNone\u001b[0m\u001b[0;34m\u001b[0m\u001b[0;34m\u001b[0m\u001b[0m\n\u001b[1;32m    116\u001b[0m         \u001b[0;32mtry\u001b[0m\u001b[0;34m:\u001b[0m\u001b[0;34m\u001b[0m\u001b[0;34m\u001b[0m\u001b[0m\n\u001b[0;32m--> 117\u001b[0;31m             \u001b[0;32mreturn\u001b[0m \u001b[0mfn\u001b[0m\u001b[0;34m(\u001b[0m\u001b[0;34m*\u001b[0m\u001b[0margs\u001b[0m\u001b[0;34m,\u001b[0m \u001b[0;34m**\u001b[0m\u001b[0mkwargs\u001b[0m\u001b[0;34m)\u001b[0m\u001b[0;34m\u001b[0m\u001b[0;34m\u001b[0m\u001b[0m\n\u001b[0m\u001b[1;32m    118\u001b[0m         \u001b[0;32mexcept\u001b[0m \u001b[0mException\u001b[0m \u001b[0;32mas\u001b[0m \u001b[0me\u001b[0m\u001b[0;34m:\u001b[0m\u001b[0;34m\u001b[0m\u001b[0;34m\u001b[0m\u001b[0m\n\u001b[1;32m    119\u001b[0m             \u001b[0mfiltered_tb\u001b[0m \u001b[0;34m=\u001b[0m \u001b[0m_process_traceback_frames\u001b[0m\u001b[0;34m(\u001b[0m\u001b[0me\u001b[0m\u001b[0;34m.\u001b[0m\u001b[0m__traceback__\u001b[0m\u001b[0;34m)\u001b[0m\u001b[0;34m\u001b[0m\u001b[0;34m\u001b[0m\u001b[0m\n",
            "\u001b[0;32m/usr/local/lib/python3.11/dist-packages/keras/src/backend/tensorflow/trainer.py\u001b[0m in \u001b[0;36mfit\u001b[0;34m(self, x, y, batch_size, epochs, verbose, callbacks, validation_split, validation_data, shuffle, class_weight, sample_weight, initial_epoch, steps_per_epoch, validation_steps, validation_batch_size, validation_freq)\u001b[0m\n\u001b[1;32m    375\u001b[0m                 \u001b[0;32mfor\u001b[0m \u001b[0mstep\u001b[0m\u001b[0;34m,\u001b[0m \u001b[0miterator\u001b[0m \u001b[0;32min\u001b[0m \u001b[0mepoch_iterator\u001b[0m\u001b[0;34m:\u001b[0m\u001b[0;34m\u001b[0m\u001b[0;34m\u001b[0m\u001b[0m\n\u001b[1;32m    376\u001b[0m                     \u001b[0mcallbacks\u001b[0m\u001b[0;34m.\u001b[0m\u001b[0mon_train_batch_begin\u001b[0m\u001b[0;34m(\u001b[0m\u001b[0mstep\u001b[0m\u001b[0;34m)\u001b[0m\u001b[0;34m\u001b[0m\u001b[0;34m\u001b[0m\u001b[0m\n\u001b[0;32m--> 377\u001b[0;31m                     \u001b[0mlogs\u001b[0m \u001b[0;34m=\u001b[0m \u001b[0mself\u001b[0m\u001b[0;34m.\u001b[0m\u001b[0mtrain_function\u001b[0m\u001b[0;34m(\u001b[0m\u001b[0miterator\u001b[0m\u001b[0;34m)\u001b[0m\u001b[0;34m\u001b[0m\u001b[0;34m\u001b[0m\u001b[0m\n\u001b[0m\u001b[1;32m    378\u001b[0m                     \u001b[0mcallbacks\u001b[0m\u001b[0;34m.\u001b[0m\u001b[0mon_train_batch_end\u001b[0m\u001b[0;34m(\u001b[0m\u001b[0mstep\u001b[0m\u001b[0;34m,\u001b[0m \u001b[0mlogs\u001b[0m\u001b[0;34m)\u001b[0m\u001b[0;34m\u001b[0m\u001b[0;34m\u001b[0m\u001b[0m\n\u001b[1;32m    379\u001b[0m                     \u001b[0;32mif\u001b[0m \u001b[0mself\u001b[0m\u001b[0;34m.\u001b[0m\u001b[0mstop_training\u001b[0m\u001b[0;34m:\u001b[0m\u001b[0;34m\u001b[0m\u001b[0;34m\u001b[0m\u001b[0m\n",
            "\u001b[0;32m/usr/local/lib/python3.11/dist-packages/keras/src/backend/tensorflow/trainer.py\u001b[0m in \u001b[0;36mfunction\u001b[0;34m(iterator)\u001b[0m\n\u001b[1;32m    218\u001b[0m                 \u001b[0miterator\u001b[0m\u001b[0;34m,\u001b[0m \u001b[0;34m(\u001b[0m\u001b[0mtf\u001b[0m\u001b[0;34m.\u001b[0m\u001b[0mdata\u001b[0m\u001b[0;34m.\u001b[0m\u001b[0mIterator\u001b[0m\u001b[0;34m,\u001b[0m \u001b[0mtf\u001b[0m\u001b[0;34m.\u001b[0m\u001b[0mdistribute\u001b[0m\u001b[0;34m.\u001b[0m\u001b[0mDistributedIterator\u001b[0m\u001b[0;34m)\u001b[0m\u001b[0;34m\u001b[0m\u001b[0;34m\u001b[0m\u001b[0m\n\u001b[1;32m    219\u001b[0m             ):\n\u001b[0;32m--> 220\u001b[0;31m                 \u001b[0mopt_outputs\u001b[0m \u001b[0;34m=\u001b[0m \u001b[0mmulti_step_on_iterator\u001b[0m\u001b[0;34m(\u001b[0m\u001b[0miterator\u001b[0m\u001b[0;34m)\u001b[0m\u001b[0;34m\u001b[0m\u001b[0;34m\u001b[0m\u001b[0m\n\u001b[0m\u001b[1;32m    221\u001b[0m                 \u001b[0;32mif\u001b[0m \u001b[0;32mnot\u001b[0m \u001b[0mopt_outputs\u001b[0m\u001b[0;34m.\u001b[0m\u001b[0mhas_value\u001b[0m\u001b[0;34m(\u001b[0m\u001b[0;34m)\u001b[0m\u001b[0;34m:\u001b[0m\u001b[0;34m\u001b[0m\u001b[0;34m\u001b[0m\u001b[0m\n\u001b[1;32m    222\u001b[0m                     \u001b[0;32mraise\u001b[0m \u001b[0mStopIteration\u001b[0m\u001b[0;34m\u001b[0m\u001b[0;34m\u001b[0m\u001b[0m\n",
            "\u001b[0;32m/usr/local/lib/python3.11/dist-packages/tensorflow/python/util/traceback_utils.py\u001b[0m in \u001b[0;36merror_handler\u001b[0;34m(*args, **kwargs)\u001b[0m\n\u001b[1;32m    148\u001b[0m     \u001b[0mfiltered_tb\u001b[0m \u001b[0;34m=\u001b[0m \u001b[0;32mNone\u001b[0m\u001b[0;34m\u001b[0m\u001b[0;34m\u001b[0m\u001b[0m\n\u001b[1;32m    149\u001b[0m     \u001b[0;32mtry\u001b[0m\u001b[0;34m:\u001b[0m\u001b[0;34m\u001b[0m\u001b[0;34m\u001b[0m\u001b[0m\n\u001b[0;32m--> 150\u001b[0;31m       \u001b[0;32mreturn\u001b[0m \u001b[0mfn\u001b[0m\u001b[0;34m(\u001b[0m\u001b[0;34m*\u001b[0m\u001b[0margs\u001b[0m\u001b[0;34m,\u001b[0m \u001b[0;34m**\u001b[0m\u001b[0mkwargs\u001b[0m\u001b[0;34m)\u001b[0m\u001b[0;34m\u001b[0m\u001b[0;34m\u001b[0m\u001b[0m\n\u001b[0m\u001b[1;32m    151\u001b[0m     \u001b[0;32mexcept\u001b[0m \u001b[0mException\u001b[0m \u001b[0;32mas\u001b[0m \u001b[0me\u001b[0m\u001b[0;34m:\u001b[0m\u001b[0;34m\u001b[0m\u001b[0;34m\u001b[0m\u001b[0m\n\u001b[1;32m    152\u001b[0m       \u001b[0mfiltered_tb\u001b[0m \u001b[0;34m=\u001b[0m \u001b[0m_process_traceback_frames\u001b[0m\u001b[0;34m(\u001b[0m\u001b[0me\u001b[0m\u001b[0;34m.\u001b[0m\u001b[0m__traceback__\u001b[0m\u001b[0;34m)\u001b[0m\u001b[0;34m\u001b[0m\u001b[0;34m\u001b[0m\u001b[0m\n",
            "\u001b[0;32m/usr/local/lib/python3.11/dist-packages/tensorflow/python/eager/polymorphic_function/polymorphic_function.py\u001b[0m in \u001b[0;36m__call__\u001b[0;34m(self, *args, **kwds)\u001b[0m\n\u001b[1;32m    831\u001b[0m \u001b[0;34m\u001b[0m\u001b[0m\n\u001b[1;32m    832\u001b[0m       \u001b[0;32mwith\u001b[0m \u001b[0mOptionalXlaContext\u001b[0m\u001b[0;34m(\u001b[0m\u001b[0mself\u001b[0m\u001b[0;34m.\u001b[0m\u001b[0m_jit_compile\u001b[0m\u001b[0;34m)\u001b[0m\u001b[0;34m:\u001b[0m\u001b[0;34m\u001b[0m\u001b[0;34m\u001b[0m\u001b[0m\n\u001b[0;32m--> 833\u001b[0;31m         \u001b[0mresult\u001b[0m \u001b[0;34m=\u001b[0m \u001b[0mself\u001b[0m\u001b[0;34m.\u001b[0m\u001b[0m_call\u001b[0m\u001b[0;34m(\u001b[0m\u001b[0;34m*\u001b[0m\u001b[0margs\u001b[0m\u001b[0;34m,\u001b[0m \u001b[0;34m**\u001b[0m\u001b[0mkwds\u001b[0m\u001b[0;34m)\u001b[0m\u001b[0;34m\u001b[0m\u001b[0;34m\u001b[0m\u001b[0m\n\u001b[0m\u001b[1;32m    834\u001b[0m \u001b[0;34m\u001b[0m\u001b[0m\n\u001b[1;32m    835\u001b[0m       \u001b[0mnew_tracing_count\u001b[0m \u001b[0;34m=\u001b[0m \u001b[0mself\u001b[0m\u001b[0;34m.\u001b[0m\u001b[0mexperimental_get_tracing_count\u001b[0m\u001b[0;34m(\u001b[0m\u001b[0;34m)\u001b[0m\u001b[0;34m\u001b[0m\u001b[0;34m\u001b[0m\u001b[0m\n",
            "\u001b[0;32m/usr/local/lib/python3.11/dist-packages/tensorflow/python/eager/polymorphic_function/polymorphic_function.py\u001b[0m in \u001b[0;36m_call\u001b[0;34m(self, *args, **kwds)\u001b[0m\n\u001b[1;32m    876\u001b[0m       \u001b[0;31m# In this case we have not created variables on the first call. So we can\u001b[0m\u001b[0;34m\u001b[0m\u001b[0;34m\u001b[0m\u001b[0m\n\u001b[1;32m    877\u001b[0m       \u001b[0;31m# run the first trace but we should fail if variables are created.\u001b[0m\u001b[0;34m\u001b[0m\u001b[0;34m\u001b[0m\u001b[0m\n\u001b[0;32m--> 878\u001b[0;31m       results = tracing_compilation.call_function(\n\u001b[0m\u001b[1;32m    879\u001b[0m           \u001b[0margs\u001b[0m\u001b[0;34m,\u001b[0m \u001b[0mkwds\u001b[0m\u001b[0;34m,\u001b[0m \u001b[0mself\u001b[0m\u001b[0;34m.\u001b[0m\u001b[0m_variable_creation_config\u001b[0m\u001b[0;34m\u001b[0m\u001b[0;34m\u001b[0m\u001b[0m\n\u001b[1;32m    880\u001b[0m       )\n",
            "\u001b[0;32m/usr/local/lib/python3.11/dist-packages/tensorflow/python/eager/polymorphic_function/tracing_compilation.py\u001b[0m in \u001b[0;36mcall_function\u001b[0;34m(args, kwargs, tracing_options)\u001b[0m\n\u001b[1;32m    137\u001b[0m   \u001b[0mbound_args\u001b[0m \u001b[0;34m=\u001b[0m \u001b[0mfunction\u001b[0m\u001b[0;34m.\u001b[0m\u001b[0mfunction_type\u001b[0m\u001b[0;34m.\u001b[0m\u001b[0mbind\u001b[0m\u001b[0;34m(\u001b[0m\u001b[0;34m*\u001b[0m\u001b[0margs\u001b[0m\u001b[0;34m,\u001b[0m \u001b[0;34m**\u001b[0m\u001b[0mkwargs\u001b[0m\u001b[0;34m)\u001b[0m\u001b[0;34m\u001b[0m\u001b[0;34m\u001b[0m\u001b[0m\n\u001b[1;32m    138\u001b[0m   \u001b[0mflat_inputs\u001b[0m \u001b[0;34m=\u001b[0m \u001b[0mfunction\u001b[0m\u001b[0;34m.\u001b[0m\u001b[0mfunction_type\u001b[0m\u001b[0;34m.\u001b[0m\u001b[0munpack_inputs\u001b[0m\u001b[0;34m(\u001b[0m\u001b[0mbound_args\u001b[0m\u001b[0;34m)\u001b[0m\u001b[0;34m\u001b[0m\u001b[0;34m\u001b[0m\u001b[0m\n\u001b[0;32m--> 139\u001b[0;31m   return function._call_flat(  # pylint: disable=protected-access\n\u001b[0m\u001b[1;32m    140\u001b[0m       \u001b[0mflat_inputs\u001b[0m\u001b[0;34m,\u001b[0m \u001b[0mcaptured_inputs\u001b[0m\u001b[0;34m=\u001b[0m\u001b[0mfunction\u001b[0m\u001b[0;34m.\u001b[0m\u001b[0mcaptured_inputs\u001b[0m\u001b[0;34m\u001b[0m\u001b[0;34m\u001b[0m\u001b[0m\n\u001b[1;32m    141\u001b[0m   )\n",
            "\u001b[0;32m/usr/local/lib/python3.11/dist-packages/tensorflow/python/eager/polymorphic_function/concrete_function.py\u001b[0m in \u001b[0;36m_call_flat\u001b[0;34m(self, tensor_inputs, captured_inputs)\u001b[0m\n\u001b[1;32m   1320\u001b[0m         and executing_eagerly):\n\u001b[1;32m   1321\u001b[0m       \u001b[0;31m# No tape is watching; skip to running the function.\u001b[0m\u001b[0;34m\u001b[0m\u001b[0;34m\u001b[0m\u001b[0m\n\u001b[0;32m-> 1322\u001b[0;31m       \u001b[0;32mreturn\u001b[0m \u001b[0mself\u001b[0m\u001b[0;34m.\u001b[0m\u001b[0m_inference_function\u001b[0m\u001b[0;34m.\u001b[0m\u001b[0mcall_preflattened\u001b[0m\u001b[0;34m(\u001b[0m\u001b[0margs\u001b[0m\u001b[0;34m)\u001b[0m\u001b[0;34m\u001b[0m\u001b[0;34m\u001b[0m\u001b[0m\n\u001b[0m\u001b[1;32m   1323\u001b[0m     forward_backward = self._select_forward_and_backward_functions(\n\u001b[1;32m   1324\u001b[0m         \u001b[0margs\u001b[0m\u001b[0;34m,\u001b[0m\u001b[0;34m\u001b[0m\u001b[0;34m\u001b[0m\u001b[0m\n",
            "\u001b[0;32m/usr/local/lib/python3.11/dist-packages/tensorflow/python/eager/polymorphic_function/atomic_function.py\u001b[0m in \u001b[0;36mcall_preflattened\u001b[0;34m(self, args)\u001b[0m\n\u001b[1;32m    214\u001b[0m   \u001b[0;32mdef\u001b[0m \u001b[0mcall_preflattened\u001b[0m\u001b[0;34m(\u001b[0m\u001b[0mself\u001b[0m\u001b[0;34m,\u001b[0m \u001b[0margs\u001b[0m\u001b[0;34m:\u001b[0m \u001b[0mSequence\u001b[0m\u001b[0;34m[\u001b[0m\u001b[0mcore\u001b[0m\u001b[0;34m.\u001b[0m\u001b[0mTensor\u001b[0m\u001b[0;34m]\u001b[0m\u001b[0;34m)\u001b[0m \u001b[0;34m->\u001b[0m \u001b[0mAny\u001b[0m\u001b[0;34m:\u001b[0m\u001b[0;34m\u001b[0m\u001b[0;34m\u001b[0m\u001b[0m\n\u001b[1;32m    215\u001b[0m     \u001b[0;34m\"\"\"Calls with flattened tensor inputs and returns the structured output.\"\"\"\u001b[0m\u001b[0;34m\u001b[0m\u001b[0;34m\u001b[0m\u001b[0m\n\u001b[0;32m--> 216\u001b[0;31m     \u001b[0mflat_outputs\u001b[0m \u001b[0;34m=\u001b[0m \u001b[0mself\u001b[0m\u001b[0;34m.\u001b[0m\u001b[0mcall_flat\u001b[0m\u001b[0;34m(\u001b[0m\u001b[0;34m*\u001b[0m\u001b[0margs\u001b[0m\u001b[0;34m)\u001b[0m\u001b[0;34m\u001b[0m\u001b[0;34m\u001b[0m\u001b[0m\n\u001b[0m\u001b[1;32m    217\u001b[0m     \u001b[0;32mreturn\u001b[0m \u001b[0mself\u001b[0m\u001b[0;34m.\u001b[0m\u001b[0mfunction_type\u001b[0m\u001b[0;34m.\u001b[0m\u001b[0mpack_output\u001b[0m\u001b[0;34m(\u001b[0m\u001b[0mflat_outputs\u001b[0m\u001b[0;34m)\u001b[0m\u001b[0;34m\u001b[0m\u001b[0;34m\u001b[0m\u001b[0m\n\u001b[1;32m    218\u001b[0m \u001b[0;34m\u001b[0m\u001b[0m\n",
            "\u001b[0;32m/usr/local/lib/python3.11/dist-packages/tensorflow/python/eager/polymorphic_function/atomic_function.py\u001b[0m in \u001b[0;36mcall_flat\u001b[0;34m(self, *args)\u001b[0m\n\u001b[1;32m    249\u001b[0m         \u001b[0;32mwith\u001b[0m \u001b[0mrecord\u001b[0m\u001b[0;34m.\u001b[0m\u001b[0mstop_recording\u001b[0m\u001b[0;34m(\u001b[0m\u001b[0;34m)\u001b[0m\u001b[0;34m:\u001b[0m\u001b[0;34m\u001b[0m\u001b[0;34m\u001b[0m\u001b[0m\n\u001b[1;32m    250\u001b[0m           \u001b[0;32mif\u001b[0m \u001b[0mself\u001b[0m\u001b[0;34m.\u001b[0m\u001b[0m_bound_context\u001b[0m\u001b[0;34m.\u001b[0m\u001b[0mexecuting_eagerly\u001b[0m\u001b[0;34m(\u001b[0m\u001b[0;34m)\u001b[0m\u001b[0;34m:\u001b[0m\u001b[0;34m\u001b[0m\u001b[0;34m\u001b[0m\u001b[0m\n\u001b[0;32m--> 251\u001b[0;31m             outputs = self._bound_context.call_function(\n\u001b[0m\u001b[1;32m    252\u001b[0m                 \u001b[0mself\u001b[0m\u001b[0;34m.\u001b[0m\u001b[0mname\u001b[0m\u001b[0;34m,\u001b[0m\u001b[0;34m\u001b[0m\u001b[0;34m\u001b[0m\u001b[0m\n\u001b[1;32m    253\u001b[0m                 \u001b[0mlist\u001b[0m\u001b[0;34m(\u001b[0m\u001b[0margs\u001b[0m\u001b[0;34m)\u001b[0m\u001b[0;34m,\u001b[0m\u001b[0;34m\u001b[0m\u001b[0;34m\u001b[0m\u001b[0m\n",
            "\u001b[0;32m/usr/local/lib/python3.11/dist-packages/tensorflow/python/eager/context.py\u001b[0m in \u001b[0;36mcall_function\u001b[0;34m(self, name, tensor_inputs, num_outputs)\u001b[0m\n\u001b[1;32m   1686\u001b[0m     \u001b[0mcancellation_context\u001b[0m \u001b[0;34m=\u001b[0m \u001b[0mcancellation\u001b[0m\u001b[0;34m.\u001b[0m\u001b[0mcontext\u001b[0m\u001b[0;34m(\u001b[0m\u001b[0;34m)\u001b[0m\u001b[0;34m\u001b[0m\u001b[0;34m\u001b[0m\u001b[0m\n\u001b[1;32m   1687\u001b[0m     \u001b[0;32mif\u001b[0m \u001b[0mcancellation_context\u001b[0m \u001b[0;32mis\u001b[0m \u001b[0;32mNone\u001b[0m\u001b[0;34m:\u001b[0m\u001b[0;34m\u001b[0m\u001b[0;34m\u001b[0m\u001b[0m\n\u001b[0;32m-> 1688\u001b[0;31m       outputs = execute.execute(\n\u001b[0m\u001b[1;32m   1689\u001b[0m           \u001b[0mname\u001b[0m\u001b[0;34m.\u001b[0m\u001b[0mdecode\u001b[0m\u001b[0;34m(\u001b[0m\u001b[0;34m\"utf-8\"\u001b[0m\u001b[0;34m)\u001b[0m\u001b[0;34m,\u001b[0m\u001b[0;34m\u001b[0m\u001b[0;34m\u001b[0m\u001b[0m\n\u001b[1;32m   1690\u001b[0m           \u001b[0mnum_outputs\u001b[0m\u001b[0;34m=\u001b[0m\u001b[0mnum_outputs\u001b[0m\u001b[0;34m,\u001b[0m\u001b[0;34m\u001b[0m\u001b[0;34m\u001b[0m\u001b[0m\n",
            "\u001b[0;32m/usr/local/lib/python3.11/dist-packages/tensorflow/python/eager/execute.py\u001b[0m in \u001b[0;36mquick_execute\u001b[0;34m(op_name, num_outputs, inputs, attrs, ctx, name)\u001b[0m\n\u001b[1;32m     51\u001b[0m   \u001b[0;32mtry\u001b[0m\u001b[0;34m:\u001b[0m\u001b[0;34m\u001b[0m\u001b[0;34m\u001b[0m\u001b[0m\n\u001b[1;32m     52\u001b[0m     \u001b[0mctx\u001b[0m\u001b[0;34m.\u001b[0m\u001b[0mensure_initialized\u001b[0m\u001b[0;34m(\u001b[0m\u001b[0;34m)\u001b[0m\u001b[0;34m\u001b[0m\u001b[0;34m\u001b[0m\u001b[0m\n\u001b[0;32m---> 53\u001b[0;31m     tensors = pywrap_tfe.TFE_Py_Execute(ctx._handle, device_name, op_name,\n\u001b[0m\u001b[1;32m     54\u001b[0m                                         inputs, attrs, num_outputs)\n\u001b[1;32m     55\u001b[0m   \u001b[0;32mexcept\u001b[0m \u001b[0mcore\u001b[0m\u001b[0;34m.\u001b[0m\u001b[0m_NotOkStatusException\u001b[0m \u001b[0;32mas\u001b[0m \u001b[0me\u001b[0m\u001b[0;34m:\u001b[0m\u001b[0;34m\u001b[0m\u001b[0;34m\u001b[0m\u001b[0m\n",
            "\u001b[0;31mKeyboardInterrupt\u001b[0m: "
          ]
        }
      ]
    },
    {
      "cell_type": "markdown",
      "source": [
        "# Creating a test-temp test model"
      ],
      "metadata": {
        "id": "QzRohRxW9YUW"
      }
    },
    {
      "cell_type": "code",
      "source": [
        "from keras import layers\n",
        "def build_tiny_model(num_classes=5, input_shape=(time_frames, mel_bins,1)): #later on, delete this channel dimantion it's annoying\n",
        "    inputs = keras.Input(shape=input_shape, name=\"mel_input\")\n",
        "    x = inputs\n",
        "\n",
        "    # Block 1\n",
        "    x = layers.SeparableConv2D(16, (7,3), padding=\"same\")(x)\n",
        "    x = layers.BatchNormalization()(x)\n",
        "    x = layers.ReLU()(x)\n",
        "    x = layers.MaxPooling2D((2,2))(x)\n",
        "    x = layers.Dropout(0.1)(x)\n",
        "\n",
        "    # Block 2\n",
        "    x = layers.SeparableConv2D(32, (5,3), padding=\"same\")(x)\n",
        "    x = layers.BatchNormalization()(x)\n",
        "    x = layers.ReLU()(x)\n",
        "    x = layers.MaxPooling2D((2,2))(x)\n",
        "    x = layers.Dropout(0.1)(x)\n",
        "\n",
        "    # Block 3\n",
        "    x = layers.SeparableConv2D(64, (3,3), padding=\"same\")(x)\n",
        "    x = layers.BatchNormalization()(x)\n",
        "    x = layers.ReLU()(x)\n",
        "    x = layers.MaxPooling2D((2,2))(x)\n",
        "    x = layers.Dropout(0.1)(x)\n",
        "\n",
        "    # Global pooling + light classifier\n",
        "    x = layers.GlobalAveragePooling2D()(x)\n",
        "    x = layers.Dense(64, activation=\"relu\")(x)\n",
        "    x = layers.Dropout(0.2)(x)\n",
        "    x = layers.Dense(32, activation=\"relu\")(x)\n",
        "    x = layers.Dropout(0.1)(x)\n",
        "    outputs = layers.Dense(num_classes, activation=\"softmax\")(x)\n",
        "\n",
        "\n",
        "    return keras.Model(inputs, outputs)\n"
      ],
      "metadata": {
        "id": "NcM-8rMC9cD_"
      },
      "execution_count": null,
      "outputs": []
    },
    {
      "cell_type": "code",
      "source": [
        "# import tensorflow_addons as tfa\n",
        "\n",
        "model = build_tiny_model()\n",
        "optimizer = keras.optimizers.AdamW(learning_rate=0.001)\n",
        "\n",
        "model.compile(optimizer=optimizer, loss=keras.losses.SparseCategoricalCrossentropy(), metrics=['accuracy'])"
      ],
      "metadata": {
        "id": "GSA0goeO-b_H"
      },
      "execution_count": null,
      "outputs": []
    },
    {
      "cell_type": "code",
      "source": [
        "from keras.callbacks import EarlyStopping, ModelCheckpoint\n",
        "\n",
        "early_stop = EarlyStopping(\n",
        "    monitor='val_accuracy',       # Metric to monitor\n",
        "    patience=15,               # Stop after 5 epochs of no improvement\n",
        "    restore_best_weights=True # Load best weights after stopping\n",
        ")"
      ],
      "metadata": {
        "id": "vj8FBzWS-gJs"
      },
      "execution_count": null,
      "outputs": []
    },
    {
      "cell_type": "code",
      "source": [
        "history = model.fit(\n",
        "    trainDataset,\n",
        "    validation_data=testDataset,\n",
        "    epochs=100,\n",
        "    class_weight=class_weights,\n",
        "    callbacks=[early_stop])"
      ],
      "metadata": {
        "colab": {
          "base_uri": "https://localhost:8080/"
        },
        "id": "7eQZMxvI-iHw",
        "outputId": "23e14436-6020-4f2b-9cb1-d6a0f5387fda"
      },
      "execution_count": null,
      "outputs": [
        {
          "output_type": "stream",
          "name": "stdout",
          "text": [
            "Epoch 1/100\n",
            "\u001b[1m830/830\u001b[0m \u001b[32m━━━━━━━━━━━━━━━━━━━━\u001b[0m\u001b[37m\u001b[0m \u001b[1m6s\u001b[0m 4ms/step - accuracy: 0.7066 - loss: 0.6206 - val_accuracy: 0.4672 - val_loss: 3.5207\n",
            "Epoch 2/100\n",
            "\u001b[1m830/830\u001b[0m \u001b[32m━━━━━━━━━━━━━━━━━━━━\u001b[0m\u001b[37m\u001b[0m \u001b[1m6s\u001b[0m 4ms/step - accuracy: 0.7060 - loss: 0.6150 - val_accuracy: 0.5265 - val_loss: 1.1146\n",
            "Epoch 3/100\n",
            "\u001b[1m830/830\u001b[0m \u001b[32m━━━━━━━━━━━━━━━━━━━━\u001b[0m\u001b[37m\u001b[0m \u001b[1m6s\u001b[0m 4ms/step - accuracy: 0.7253 - loss: 0.5788 - val_accuracy: 0.3485 - val_loss: 1.7942\n",
            "Epoch 4/100\n",
            "\u001b[1m830/830\u001b[0m \u001b[32m━━━━━━━━━━━━━━━━━━━━\u001b[0m\u001b[37m\u001b[0m \u001b[1m6s\u001b[0m 4ms/step - accuracy: 0.7232 - loss: 0.5771 - val_accuracy: 0.7060 - val_loss: 0.7192\n",
            "Epoch 5/100\n",
            "\u001b[1m830/830\u001b[0m \u001b[32m━━━━━━━━━━━━━━━━━━━━\u001b[0m\u001b[37m\u001b[0m \u001b[1m6s\u001b[0m 4ms/step - accuracy: 0.7279 - loss: 0.5814 - val_accuracy: 0.4846 - val_loss: 4.2800\n",
            "Epoch 6/100\n",
            "\u001b[1m830/830\u001b[0m \u001b[32m━━━━━━━━━━━━━━━━━━━━\u001b[0m\u001b[37m\u001b[0m \u001b[1m6s\u001b[0m 4ms/step - accuracy: 0.7316 - loss: 0.5715 - val_accuracy: 0.6335 - val_loss: 0.9678\n",
            "Epoch 7/100\n",
            "\u001b[1m830/830\u001b[0m \u001b[32m━━━━━━━━━━━━━━━━━━━━\u001b[0m\u001b[37m\u001b[0m \u001b[1m5s\u001b[0m 4ms/step - accuracy: 0.7302 - loss: 0.5634 - val_accuracy: 0.6950 - val_loss: 0.7934\n",
            "Epoch 8/100\n",
            "\u001b[1m830/830\u001b[0m \u001b[32m━━━━━━━━━━━━━━━━━━━━\u001b[0m\u001b[37m\u001b[0m \u001b[1m6s\u001b[0m 4ms/step - accuracy: 0.7403 - loss: 0.5303 - val_accuracy: 0.4481 - val_loss: 1.3561\n",
            "Epoch 9/100\n",
            "\u001b[1m830/830\u001b[0m \u001b[32m━━━━━━━━━━━━━━━━━━━━\u001b[0m\u001b[37m\u001b[0m \u001b[1m6s\u001b[0m 4ms/step - accuracy: 0.7215 - loss: 0.5766 - val_accuracy: 0.7444 - val_loss: 0.6453\n",
            "Epoch 10/100\n",
            "\u001b[1m830/830\u001b[0m \u001b[32m━━━━━━━━━━━━━━━━━━━━\u001b[0m\u001b[37m\u001b[0m \u001b[1m5s\u001b[0m 4ms/step - accuracy: 0.7440 - loss: 0.5426 - val_accuracy: 0.6562 - val_loss: 0.8242\n",
            "Epoch 11/100\n",
            "\u001b[1m830/830\u001b[0m \u001b[32m━━━━━━━━━━━━━━━━━━━━\u001b[0m\u001b[37m\u001b[0m \u001b[1m6s\u001b[0m 4ms/step - accuracy: 0.7476 - loss: 0.5307 - val_accuracy: 0.4957 - val_loss: 1.3370\n",
            "Epoch 12/100\n",
            "\u001b[1m830/830\u001b[0m \u001b[32m━━━━━━━━━━━━━━━━━━━━\u001b[0m\u001b[37m\u001b[0m \u001b[1m5s\u001b[0m 4ms/step - accuracy: 0.7508 - loss: 0.5250 - val_accuracy: 0.5408 - val_loss: 1.3151\n",
            "Epoch 13/100\n",
            "\u001b[1m830/830\u001b[0m \u001b[32m━━━━━━━━━━━━━━━━━━━━\u001b[0m\u001b[37m\u001b[0m \u001b[1m6s\u001b[0m 4ms/step - accuracy: 0.7562 - loss: 0.5025 - val_accuracy: 0.5542 - val_loss: 2.0099\n",
            "Epoch 14/100\n",
            "\u001b[1m830/830\u001b[0m \u001b[32m━━━━━━━━━━━━━━━━━━━━\u001b[0m\u001b[37m\u001b[0m \u001b[1m6s\u001b[0m 4ms/step - accuracy: 0.7547 - loss: 0.5071 - val_accuracy: 0.6797 - val_loss: 0.7842\n",
            "Epoch 15/100\n",
            "\u001b[1m830/830\u001b[0m \u001b[32m━━━━━━━━━━━━━━━━━━━━\u001b[0m\u001b[37m\u001b[0m \u001b[1m6s\u001b[0m 4ms/step - accuracy: 0.7504 - loss: 0.5105 - val_accuracy: 0.5463 - val_loss: 1.3824\n",
            "Epoch 16/100\n",
            "\u001b[1m830/830\u001b[0m \u001b[32m━━━━━━━━━━━━━━━━━━━━\u001b[0m\u001b[37m\u001b[0m \u001b[1m6s\u001b[0m 4ms/step - accuracy: 0.7574 - loss: 0.5072 - val_accuracy: 0.6416 - val_loss: 0.9357\n",
            "Epoch 17/100\n",
            "\u001b[1m830/830\u001b[0m \u001b[32m━━━━━━━━━━━━━━━━━━━━\u001b[0m\u001b[37m\u001b[0m \u001b[1m6s\u001b[0m 4ms/step - accuracy: 0.7584 - loss: 0.4908 - val_accuracy: 0.7142 - val_loss: 0.7229\n",
            "Epoch 18/100\n",
            "\u001b[1m830/830\u001b[0m \u001b[32m━━━━━━━━━━━━━━━━━━━━\u001b[0m\u001b[37m\u001b[0m \u001b[1m6s\u001b[0m 4ms/step - accuracy: 0.7629 - loss: 0.4969 - val_accuracy: 0.6671 - val_loss: 0.9384\n",
            "Epoch 19/100\n",
            "\u001b[1m830/830\u001b[0m \u001b[32m━━━━━━━━━━━━━━━━━━━━\u001b[0m\u001b[37m\u001b[0m \u001b[1m5s\u001b[0m 4ms/step - accuracy: 0.7744 - loss: 0.4641 - val_accuracy: 0.6972 - val_loss: 0.7069\n",
            "Epoch 20/100\n",
            "\u001b[1m830/830\u001b[0m \u001b[32m━━━━━━━━━━━━━━━━━━━━\u001b[0m\u001b[37m\u001b[0m \u001b[1m6s\u001b[0m 4ms/step - accuracy: 0.7702 - loss: 0.4814 - val_accuracy: 0.7676 - val_loss: 0.6141\n",
            "Epoch 21/100\n",
            "\u001b[1m830/830\u001b[0m \u001b[32m━━━━━━━━━━━━━━━━━━━━\u001b[0m\u001b[37m\u001b[0m \u001b[1m5s\u001b[0m 4ms/step - accuracy: 0.7730 - loss: 0.4724 - val_accuracy: 0.6998 - val_loss: 0.9102\n",
            "Epoch 22/100\n",
            "\u001b[1m830/830\u001b[0m \u001b[32m━━━━━━━━━━━━━━━━━━━━\u001b[0m\u001b[37m\u001b[0m \u001b[1m6s\u001b[0m 4ms/step - accuracy: 0.7690 - loss: 0.4961 - val_accuracy: 0.7573 - val_loss: 0.6120\n",
            "Epoch 23/100\n",
            "\u001b[1m830/830\u001b[0m \u001b[32m━━━━━━━━━━━━━━━━━━━━\u001b[0m\u001b[37m\u001b[0m \u001b[1m6s\u001b[0m 4ms/step - accuracy: 0.7779 - loss: 0.4669 - val_accuracy: 0.7144 - val_loss: 0.7485\n",
            "Epoch 24/100\n",
            "\u001b[1m830/830\u001b[0m \u001b[32m━━━━━━━━━━━━━━━━━━━━\u001b[0m\u001b[37m\u001b[0m \u001b[1m5s\u001b[0m 4ms/step - accuracy: 0.7734 - loss: 0.4728 - val_accuracy: 0.7100 - val_loss: 0.7375\n",
            "Epoch 25/100\n",
            "\u001b[1m830/830\u001b[0m \u001b[32m━━━━━━━━━━━━━━━━━━━━\u001b[0m\u001b[37m\u001b[0m \u001b[1m6s\u001b[0m 4ms/step - accuracy: 0.7867 - loss: 0.4481 - val_accuracy: 0.6633 - val_loss: 0.7890\n",
            "Epoch 26/100\n",
            "\u001b[1m830/830\u001b[0m \u001b[32m━━━━━━━━━━━━━━━━━━━━\u001b[0m\u001b[37m\u001b[0m \u001b[1m5s\u001b[0m 4ms/step - accuracy: 0.7778 - loss: 0.4614 - val_accuracy: 0.7807 - val_loss: 0.5865\n",
            "Epoch 27/100\n",
            "\u001b[1m830/830\u001b[0m \u001b[32m━━━━━━━━━━━━━━━━━━━━\u001b[0m\u001b[37m\u001b[0m \u001b[1m6s\u001b[0m 4ms/step - accuracy: 0.7757 - loss: 0.4561 - val_accuracy: 0.7739 - val_loss: 0.5678\n",
            "Epoch 28/100\n",
            "\u001b[1m830/830\u001b[0m \u001b[32m━━━━━━━━━━━━━━━━━━━━\u001b[0m\u001b[37m\u001b[0m \u001b[1m5s\u001b[0m 4ms/step - accuracy: 0.7596 - loss: 0.5056 - val_accuracy: 0.3536 - val_loss: 2.3813\n",
            "Epoch 29/100\n",
            "\u001b[1m830/830\u001b[0m \u001b[32m━━━━━━━━━━━━━━━━━━━━\u001b[0m\u001b[37m\u001b[0m \u001b[1m6s\u001b[0m 4ms/step - accuracy: 0.7854 - loss: 0.4416 - val_accuracy: 0.7784 - val_loss: 0.5958\n",
            "Epoch 30/100\n",
            "\u001b[1m830/830\u001b[0m \u001b[32m━━━━━━━━━━━━━━━━━━━━\u001b[0m\u001b[37m\u001b[0m \u001b[1m5s\u001b[0m 4ms/step - accuracy: 0.7839 - loss: 0.4461 - val_accuracy: 0.7308 - val_loss: 0.6711\n",
            "Epoch 31/100\n",
            "\u001b[1m830/830\u001b[0m \u001b[32m━━━━━━━━━━━━━━━━━━━━\u001b[0m\u001b[37m\u001b[0m \u001b[1m6s\u001b[0m 4ms/step - accuracy: 0.7915 - loss: 0.4287 - val_accuracy: 0.6998 - val_loss: 0.7176\n",
            "Epoch 32/100\n",
            "\u001b[1m830/830\u001b[0m \u001b[32m━━━━━━━━━━━━━━━━━━━━\u001b[0m\u001b[37m\u001b[0m \u001b[1m6s\u001b[0m 4ms/step - accuracy: 0.7929 - loss: 0.4307 - val_accuracy: 0.7017 - val_loss: 0.8535\n",
            "Epoch 33/100\n",
            "\u001b[1m830/830\u001b[0m \u001b[32m━━━━━━━━━━━━━━━━━━━━\u001b[0m\u001b[37m\u001b[0m \u001b[1m6s\u001b[0m 4ms/step - accuracy: 0.7893 - loss: 0.4289 - val_accuracy: 0.7286 - val_loss: 0.8664\n",
            "Epoch 34/100\n",
            "\u001b[1m830/830\u001b[0m \u001b[32m━━━━━━━━━━━━━━━━━━━━\u001b[0m\u001b[37m\u001b[0m \u001b[1m6s\u001b[0m 4ms/step - accuracy: 0.7931 - loss: 0.4299 - val_accuracy: 0.7457 - val_loss: 0.6572\n",
            "Epoch 35/100\n",
            "\u001b[1m830/830\u001b[0m \u001b[32m━━━━━━━━━━━━━━━━━━━━\u001b[0m\u001b[37m\u001b[0m \u001b[1m6s\u001b[0m 4ms/step - accuracy: 0.7892 - loss: 0.4253 - val_accuracy: 0.7860 - val_loss: 0.5630\n",
            "Epoch 36/100\n",
            "\u001b[1m830/830\u001b[0m \u001b[32m━━━━━━━━━━━━━━━━━━━━\u001b[0m\u001b[37m\u001b[0m \u001b[1m6s\u001b[0m 4ms/step - accuracy: 0.7910 - loss: 0.4239 - val_accuracy: 0.6662 - val_loss: 0.8743\n",
            "Epoch 37/100\n",
            "\u001b[1m830/830\u001b[0m \u001b[32m━━━━━━━━━━━━━━━━━━━━\u001b[0m\u001b[37m\u001b[0m \u001b[1m5s\u001b[0m 4ms/step - accuracy: 0.7943 - loss: 0.4297 - val_accuracy: 0.7655 - val_loss: 0.5844\n",
            "Epoch 38/100\n",
            "\u001b[1m830/830\u001b[0m \u001b[32m━━━━━━━━━━━━━━━━━━━━\u001b[0m\u001b[37m\u001b[0m \u001b[1m6s\u001b[0m 4ms/step - accuracy: 0.8008 - loss: 0.4078 - val_accuracy: 0.7206 - val_loss: 0.7089\n",
            "Epoch 39/100\n",
            "\u001b[1m830/830\u001b[0m \u001b[32m━━━━━━━━━━━━━━━━━━━━\u001b[0m\u001b[37m\u001b[0m \u001b[1m5s\u001b[0m 4ms/step - accuracy: 0.7914 - loss: 0.4193 - val_accuracy: 0.7512 - val_loss: 0.6660\n",
            "Epoch 40/100\n",
            "\u001b[1m830/830\u001b[0m \u001b[32m━━━━━━━━━━━━━━━━━━━━\u001b[0m\u001b[37m\u001b[0m \u001b[1m5s\u001b[0m 4ms/step - accuracy: 0.7990 - loss: 0.4134 - val_accuracy: 0.7824 - val_loss: 0.5578\n",
            "Epoch 41/100\n",
            "\u001b[1m830/830\u001b[0m \u001b[32m━━━━━━━━━━━━━━━━━━━━\u001b[0m\u001b[37m\u001b[0m \u001b[1m6s\u001b[0m 4ms/step - accuracy: 0.7997 - loss: 0.4065 - val_accuracy: 0.5638 - val_loss: 2.0183\n",
            "Epoch 42/100\n",
            "\u001b[1m830/830\u001b[0m \u001b[32m━━━━━━━━━━━━━━━━━━━━\u001b[0m\u001b[37m\u001b[0m \u001b[1m6s\u001b[0m 4ms/step - accuracy: 0.7974 - loss: 0.4215 - val_accuracy: 0.5879 - val_loss: 1.1892\n",
            "Epoch 43/100\n",
            "\u001b[1m830/830\u001b[0m \u001b[32m━━━━━━━━━━━━━━━━━━━━\u001b[0m\u001b[37m\u001b[0m \u001b[1m6s\u001b[0m 4ms/step - accuracy: 0.7996 - loss: 0.4106 - val_accuracy: 0.7197 - val_loss: 0.6900\n",
            "Epoch 44/100\n",
            "\u001b[1m830/830\u001b[0m \u001b[32m━━━━━━━━━━━━━━━━━━━━\u001b[0m\u001b[37m\u001b[0m \u001b[1m5s\u001b[0m 4ms/step - accuracy: 0.8051 - loss: 0.3915 - val_accuracy: 0.7266 - val_loss: 0.8574\n",
            "Epoch 45/100\n",
            "\u001b[1m830/830\u001b[0m \u001b[32m━━━━━━━━━━━━━━━━━━━━\u001b[0m\u001b[37m\u001b[0m \u001b[1m6s\u001b[0m 4ms/step - accuracy: 0.7969 - loss: 0.4200 - val_accuracy: 0.7375 - val_loss: 0.6896\n",
            "Epoch 46/100\n",
            "\u001b[1m830/830\u001b[0m \u001b[32m━━━━━━━━━━━━━━━━━━━━\u001b[0m\u001b[37m\u001b[0m \u001b[1m5s\u001b[0m 4ms/step - accuracy: 0.8037 - loss: 0.3859 - val_accuracy: 0.7554 - val_loss: 0.6898\n",
            "Epoch 47/100\n",
            "\u001b[1m830/830\u001b[0m \u001b[32m━━━━━━━━━━━━━━━━━━━━\u001b[0m\u001b[37m\u001b[0m \u001b[1m6s\u001b[0m 4ms/step - accuracy: 0.8076 - loss: 0.4066 - val_accuracy: 0.7819 - val_loss: 0.5458\n",
            "Epoch 48/100\n",
            "\u001b[1m830/830\u001b[0m \u001b[32m━━━━━━━━━━━━━━━━━━━━\u001b[0m\u001b[37m\u001b[0m \u001b[1m5s\u001b[0m 4ms/step - accuracy: 0.8053 - loss: 0.3857 - val_accuracy: 0.7216 - val_loss: 0.6974\n",
            "Epoch 49/100\n",
            "\u001b[1m830/830\u001b[0m \u001b[32m━━━━━━━━━━━━━━━━━━━━\u001b[0m\u001b[37m\u001b[0m \u001b[1m6s\u001b[0m 4ms/step - accuracy: 0.8038 - loss: 0.3981 - val_accuracy: 0.6244 - val_loss: 0.8955\n",
            "Epoch 50/100\n",
            "\u001b[1m830/830\u001b[0m \u001b[32m━━━━━━━━━━━━━━━━━━━━\u001b[0m\u001b[37m\u001b[0m \u001b[1m6s\u001b[0m 4ms/step - accuracy: 0.8070 - loss: 0.3858 - val_accuracy: 0.7864 - val_loss: 0.5550\n",
            "Epoch 51/100\n",
            "\u001b[1m830/830\u001b[0m \u001b[32m━━━━━━━━━━━━━━━━━━━━\u001b[0m\u001b[37m\u001b[0m \u001b[1m6s\u001b[0m 4ms/step - accuracy: 0.8030 - loss: 0.4030 - val_accuracy: 0.5786 - val_loss: 1.0703\n",
            "Epoch 52/100\n",
            "\u001b[1m830/830\u001b[0m \u001b[32m━━━━━━━━━━━━━━━━━━━━\u001b[0m\u001b[37m\u001b[0m \u001b[1m6s\u001b[0m 4ms/step - accuracy: 0.8123 - loss: 0.3768 - val_accuracy: 0.4918 - val_loss: 2.5421\n",
            "Epoch 53/100\n",
            "\u001b[1m830/830\u001b[0m \u001b[32m━━━━━━━━━━━━━━━━━━━━\u001b[0m\u001b[37m\u001b[0m \u001b[1m6s\u001b[0m 4ms/step - accuracy: 0.8110 - loss: 0.3905 - val_accuracy: 0.7135 - val_loss: 0.8331\n",
            "Epoch 54/100\n",
            "\u001b[1m830/830\u001b[0m \u001b[32m━━━━━━━━━━━━━━━━━━━━\u001b[0m\u001b[37m\u001b[0m \u001b[1m6s\u001b[0m 4ms/step - accuracy: 0.8094 - loss: 0.3845 - val_accuracy: 0.6317 - val_loss: 0.9861\n",
            "Epoch 55/100\n",
            "\u001b[1m830/830\u001b[0m \u001b[32m━━━━━━━━━━━━━━━━━━━━\u001b[0m\u001b[37m\u001b[0m \u001b[1m5s\u001b[0m 4ms/step - accuracy: 0.8082 - loss: 0.3886 - val_accuracy: 0.5931 - val_loss: 1.3586\n",
            "Epoch 56/100\n",
            "\u001b[1m830/830\u001b[0m \u001b[32m━━━━━━━━━━━━━━━━━━━━\u001b[0m\u001b[37m\u001b[0m \u001b[1m6s\u001b[0m 4ms/step - accuracy: 0.8113 - loss: 0.3810 - val_accuracy: 0.6622 - val_loss: 1.1911\n",
            "Epoch 57/100\n",
            "\u001b[1m830/830\u001b[0m \u001b[32m━━━━━━━━━━━━━━━━━━━━\u001b[0m\u001b[37m\u001b[0m \u001b[1m6s\u001b[0m 4ms/step - accuracy: 0.8074 - loss: 0.3889 - val_accuracy: 0.5628 - val_loss: 1.2422\n",
            "Epoch 58/100\n",
            "\u001b[1m830/830\u001b[0m \u001b[32m━━━━━━━━━━━━━━━━━━━━\u001b[0m\u001b[37m\u001b[0m \u001b[1m6s\u001b[0m 4ms/step - accuracy: 0.8151 - loss: 0.3681 - val_accuracy: 0.7521 - val_loss: 0.7416\n",
            "Epoch 59/100\n",
            "\u001b[1m830/830\u001b[0m \u001b[32m━━━━━━━━━━━━━━━━━━━━\u001b[0m\u001b[37m\u001b[0m \u001b[1m6s\u001b[0m 4ms/step - accuracy: 0.8065 - loss: 0.4052 - val_accuracy: 0.7530 - val_loss: 0.6432\n",
            "Epoch 60/100\n",
            "\u001b[1m830/830\u001b[0m \u001b[32m━━━━━━━━━━━━━━━━━━━━\u001b[0m\u001b[37m\u001b[0m \u001b[1m6s\u001b[0m 4ms/step - accuracy: 0.8192 - loss: 0.3682 - val_accuracy: 0.7720 - val_loss: 0.5916\n",
            "Epoch 61/100\n",
            "\u001b[1m830/830\u001b[0m \u001b[32m━━━━━━━━━━━━━━━━━━━━\u001b[0m\u001b[37m\u001b[0m \u001b[1m6s\u001b[0m 4ms/step - accuracy: 0.8208 - loss: 0.3644 - val_accuracy: 0.7834 - val_loss: 0.5960\n",
            "Epoch 62/100\n",
            "\u001b[1m830/830\u001b[0m \u001b[32m━━━━━━━━━━━━━━━━━━━━\u001b[0m\u001b[37m\u001b[0m \u001b[1m5s\u001b[0m 4ms/step - accuracy: 0.8137 - loss: 0.3801 - val_accuracy: 0.7391 - val_loss: 0.7185\n",
            "Epoch 63/100\n",
            "\u001b[1m830/830\u001b[0m \u001b[32m━━━━━━━━━━━━━━━━━━━━\u001b[0m\u001b[37m\u001b[0m \u001b[1m6s\u001b[0m 4ms/step - accuracy: 0.8163 - loss: 0.3784 - val_accuracy: 0.8104 - val_loss: 0.5108\n",
            "Epoch 64/100\n",
            "\u001b[1m830/830\u001b[0m \u001b[32m━━━━━━━━━━━━━━━━━━━━\u001b[0m\u001b[37m\u001b[0m \u001b[1m5s\u001b[0m 4ms/step - accuracy: 0.8124 - loss: 0.3749 - val_accuracy: 0.7712 - val_loss: 0.6795\n",
            "Epoch 65/100\n",
            "\u001b[1m830/830\u001b[0m \u001b[32m━━━━━━━━━━━━━━━━━━━━\u001b[0m\u001b[37m\u001b[0m \u001b[1m6s\u001b[0m 4ms/step - accuracy: 0.8138 - loss: 0.3788 - val_accuracy: 0.7935 - val_loss: 0.5318\n",
            "Epoch 66/100\n",
            "\u001b[1m830/830\u001b[0m \u001b[32m━━━━━━━━━━━━━━━━━━━━\u001b[0m\u001b[37m\u001b[0m \u001b[1m6s\u001b[0m 4ms/step - accuracy: 0.8174 - loss: 0.3680 - val_accuracy: 0.8068 - val_loss: 0.5180\n",
            "Epoch 67/100\n",
            "\u001b[1m830/830\u001b[0m \u001b[32m━━━━━━━━━━━━━━━━━━━━\u001b[0m\u001b[37m\u001b[0m \u001b[1m6s\u001b[0m 4ms/step - accuracy: 0.8232 - loss: 0.3605 - val_accuracy: 0.7979 - val_loss: 0.5450\n",
            "Epoch 68/100\n",
            "\u001b[1m830/830\u001b[0m \u001b[32m━━━━━━━━━━━━━━━━━━━━\u001b[0m\u001b[37m\u001b[0m \u001b[1m6s\u001b[0m 4ms/step - accuracy: 0.8189 - loss: 0.3634 - val_accuracy: 0.7212 - val_loss: 0.7898\n",
            "Epoch 69/100\n",
            "\u001b[1m830/830\u001b[0m \u001b[32m━━━━━━━━━━━━━━━━━━━━\u001b[0m\u001b[37m\u001b[0m \u001b[1m6s\u001b[0m 4ms/step - accuracy: 0.8154 - loss: 0.3708 - val_accuracy: 0.8142 - val_loss: 0.4988\n",
            "Epoch 70/100\n",
            "\u001b[1m830/830\u001b[0m \u001b[32m━━━━━━━━━━━━━━━━━━━━\u001b[0m\u001b[37m\u001b[0m \u001b[1m6s\u001b[0m 4ms/step - accuracy: 0.8260 - loss: 0.3520 - val_accuracy: 0.7168 - val_loss: 0.7473\n",
            "Epoch 71/100\n",
            "\u001b[1m830/830\u001b[0m \u001b[32m━━━━━━━━━━━━━━━━━━━━\u001b[0m\u001b[37m\u001b[0m \u001b[1m5s\u001b[0m 4ms/step - accuracy: 0.8226 - loss: 0.3584 - val_accuracy: 0.6606 - val_loss: 1.2671\n",
            "Epoch 72/100\n",
            "\u001b[1m830/830\u001b[0m \u001b[32m━━━━━━━━━━━━━━━━━━━━\u001b[0m\u001b[37m\u001b[0m \u001b[1m6s\u001b[0m 4ms/step - accuracy: 0.8078 - loss: 0.4010 - val_accuracy: 0.6799 - val_loss: 0.9163\n",
            "Epoch 73/100\n",
            "\u001b[1m830/830\u001b[0m \u001b[32m━━━━━━━━━━━━━━━━━━━━\u001b[0m\u001b[37m\u001b[0m \u001b[1m5s\u001b[0m 4ms/step - accuracy: 0.8207 - loss: 0.3589 - val_accuracy: 0.7361 - val_loss: 0.8034\n",
            "Epoch 74/100\n",
            "\u001b[1m830/830\u001b[0m \u001b[32m━━━━━━━━━━━━━━━━━━━━\u001b[0m\u001b[37m\u001b[0m \u001b[1m5s\u001b[0m 4ms/step - accuracy: 0.8206 - loss: 0.3647 - val_accuracy: 0.7705 - val_loss: 0.5597\n",
            "Epoch 75/100\n",
            "\u001b[1m830/830\u001b[0m \u001b[32m━━━━━━━━━━━━━━━━━━━━\u001b[0m\u001b[37m\u001b[0m \u001b[1m5s\u001b[0m 4ms/step - accuracy: 0.8214 - loss: 0.3556 - val_accuracy: 0.6573 - val_loss: 0.8737\n",
            "Epoch 76/100\n",
            "\u001b[1m830/830\u001b[0m \u001b[32m━━━━━━━━━━━━━━━━━━━━\u001b[0m\u001b[37m\u001b[0m \u001b[1m6s\u001b[0m 4ms/step - accuracy: 0.8194 - loss: 0.3542 - val_accuracy: 0.6971 - val_loss: 0.7862\n",
            "Epoch 77/100\n",
            "\u001b[1m830/830\u001b[0m \u001b[32m━━━━━━━━━━━━━━━━━━━━\u001b[0m\u001b[37m\u001b[0m \u001b[1m6s\u001b[0m 4ms/step - accuracy: 0.8212 - loss: 0.3528 - val_accuracy: 0.7720 - val_loss: 0.6084\n",
            "Epoch 78/100\n",
            "\u001b[1m830/830\u001b[0m \u001b[32m━━━━━━━━━━━━━━━━━━━━\u001b[0m\u001b[37m\u001b[0m \u001b[1m6s\u001b[0m 4ms/step - accuracy: 0.8282 - loss: 0.3471 - val_accuracy: 0.7953 - val_loss: 0.5396\n",
            "Epoch 79/100\n",
            "\u001b[1m830/830\u001b[0m \u001b[32m━━━━━━━━━━━━━━━━━━━━\u001b[0m\u001b[37m\u001b[0m \u001b[1m6s\u001b[0m 4ms/step - accuracy: 0.8304 - loss: 0.3486 - val_accuracy: 0.7965 - val_loss: 0.5708\n",
            "Epoch 80/100\n",
            "\u001b[1m830/830\u001b[0m \u001b[32m━━━━━━━━━━━━━━━━━━━━\u001b[0m\u001b[37m\u001b[0m \u001b[1m6s\u001b[0m 4ms/step - accuracy: 0.8273 - loss: 0.3529 - val_accuracy: 0.7489 - val_loss: 0.6104\n",
            "Epoch 81/100\n",
            "\u001b[1m830/830\u001b[0m \u001b[32m━━━━━━━━━━━━━━━━━━━━\u001b[0m\u001b[37m\u001b[0m \u001b[1m6s\u001b[0m 4ms/step - accuracy: 0.8319 - loss: 0.3435 - val_accuracy: 0.7652 - val_loss: 0.5858\n",
            "Epoch 82/100\n",
            "\u001b[1m830/830\u001b[0m \u001b[32m━━━━━━━━━━━━━━━━━━━━\u001b[0m\u001b[37m\u001b[0m \u001b[1m5s\u001b[0m 4ms/step - accuracy: 0.8205 - loss: 0.3599 - val_accuracy: 0.7132 - val_loss: 0.8660\n",
            "Epoch 83/100\n",
            "\u001b[1m830/830\u001b[0m \u001b[32m━━━━━━━━━━━━━━━━━━━━\u001b[0m\u001b[37m\u001b[0m \u001b[1m6s\u001b[0m 4ms/step - accuracy: 0.8265 - loss: 0.3596 - val_accuracy: 0.7088 - val_loss: 0.7592\n",
            "Epoch 84/100\n",
            "\u001b[1m830/830\u001b[0m \u001b[32m━━━━━━━━━━━━━━━━━━━━\u001b[0m\u001b[37m\u001b[0m \u001b[1m6s\u001b[0m 4ms/step - accuracy: 0.8140 - loss: 0.3847 - val_accuracy: 0.8182 - val_loss: 0.4862\n",
            "Epoch 85/100\n",
            "\u001b[1m830/830\u001b[0m \u001b[32m━━━━━━━━━━━━━━━━━━━━\u001b[0m\u001b[37m\u001b[0m \u001b[1m6s\u001b[0m 4ms/step - accuracy: 0.8090 - loss: 0.3999 - val_accuracy: 0.7670 - val_loss: 0.6423\n",
            "Epoch 86/100\n",
            "\u001b[1m830/830\u001b[0m \u001b[32m━━━━━━━━━━━━━━━━━━━━\u001b[0m\u001b[37m\u001b[0m \u001b[1m6s\u001b[0m 4ms/step - accuracy: 0.8266 - loss: 0.3566 - val_accuracy: 0.7914 - val_loss: 0.5431\n",
            "Epoch 87/100\n",
            "\u001b[1m830/830\u001b[0m \u001b[32m━━━━━━━━━━━━━━━━━━━━\u001b[0m\u001b[37m\u001b[0m \u001b[1m6s\u001b[0m 4ms/step - accuracy: 0.8355 - loss: 0.3208 - val_accuracy: 0.7225 - val_loss: 0.9057\n",
            "Epoch 88/100\n",
            "\u001b[1m830/830\u001b[0m \u001b[32m━━━━━━━━━━━━━━━━━━━━\u001b[0m\u001b[37m\u001b[0m \u001b[1m6s\u001b[0m 4ms/step - accuracy: 0.8293 - loss: 0.3484 - val_accuracy: 0.8247 - val_loss: 0.4699\n",
            "Epoch 89/100\n",
            "\u001b[1m830/830\u001b[0m \u001b[32m━━━━━━━━━━━━━━━━━━━━\u001b[0m\u001b[37m\u001b[0m \u001b[1m6s\u001b[0m 4ms/step - accuracy: 0.8303 - loss: 0.3503 - val_accuracy: 0.7364 - val_loss: 0.7069\n",
            "Epoch 90/100\n",
            "\u001b[1m830/830\u001b[0m \u001b[32m━━━━━━━━━━━━━━━━━━━━\u001b[0m\u001b[37m\u001b[0m \u001b[1m6s\u001b[0m 4ms/step - accuracy: 0.8080 - loss: 0.4027 - val_accuracy: 0.8166 - val_loss: 0.4682\n",
            "Epoch 91/100\n",
            "\u001b[1m830/830\u001b[0m \u001b[32m━━━━━━━━━━━━━━━━━━━━\u001b[0m\u001b[37m\u001b[0m \u001b[1m6s\u001b[0m 4ms/step - accuracy: 0.8299 - loss: 0.3400 - val_accuracy: 0.6550 - val_loss: 1.4856\n",
            "Epoch 92/100\n",
            "\u001b[1m830/830\u001b[0m \u001b[32m━━━━━━━━━━━━━━━━━━━━\u001b[0m\u001b[37m\u001b[0m \u001b[1m6s\u001b[0m 4ms/step - accuracy: 0.8370 - loss: 0.3402 - val_accuracy: 0.6757 - val_loss: 0.9316\n",
            "Epoch 93/100\n",
            "\u001b[1m830/830\u001b[0m \u001b[32m━━━━━━━━━━━━━━━━━━━━\u001b[0m\u001b[37m\u001b[0m \u001b[1m5s\u001b[0m 4ms/step - accuracy: 0.8308 - loss: 0.3367 - val_accuracy: 0.5418 - val_loss: 1.5285\n",
            "Epoch 94/100\n",
            "\u001b[1m830/830\u001b[0m \u001b[32m━━━━━━━━━━━━━━━━━━━━\u001b[0m\u001b[37m\u001b[0m \u001b[1m6s\u001b[0m 4ms/step - accuracy: 0.8355 - loss: 0.3376 - val_accuracy: 0.7747 - val_loss: 0.5495\n",
            "Epoch 95/100\n",
            "\u001b[1m830/830\u001b[0m \u001b[32m━━━━━━━━━━━━━━━━━━━━\u001b[0m\u001b[37m\u001b[0m \u001b[1m6s\u001b[0m 4ms/step - accuracy: 0.8331 - loss: 0.3283 - val_accuracy: 0.5789 - val_loss: 2.3453\n",
            "Epoch 96/100\n",
            "\u001b[1m830/830\u001b[0m \u001b[32m━━━━━━━━━━━━━━━━━━━━\u001b[0m\u001b[37m\u001b[0m \u001b[1m6s\u001b[0m 4ms/step - accuracy: 0.8293 - loss: 0.3560 - val_accuracy: 0.7263 - val_loss: 0.7366\n",
            "Epoch 97/100\n",
            "\u001b[1m830/830\u001b[0m \u001b[32m━━━━━━━━━━━━━━━━━━━━\u001b[0m\u001b[37m\u001b[0m \u001b[1m6s\u001b[0m 4ms/step - accuracy: 0.8317 - loss: 0.3418 - val_accuracy: 0.7753 - val_loss: 0.6126\n",
            "Epoch 98/100\n",
            "\u001b[1m830/830\u001b[0m \u001b[32m━━━━━━━━━━━━━━━━━━━━\u001b[0m\u001b[37m\u001b[0m \u001b[1m5s\u001b[0m 4ms/step - accuracy: 0.8331 - loss: 0.3347 - val_accuracy: 0.7958 - val_loss: 0.5166\n",
            "Epoch 99/100\n",
            "\u001b[1m830/830\u001b[0m \u001b[32m━━━━━━━━━━━━━━━━━━━━\u001b[0m\u001b[37m\u001b[0m \u001b[1m6s\u001b[0m 4ms/step - accuracy: 0.8358 - loss: 0.3242 - val_accuracy: 0.7854 - val_loss: 0.5854\n",
            "Epoch 100/100\n",
            "\u001b[1m830/830\u001b[0m \u001b[32m━━━━━━━━━━━━━━━━━━━━\u001b[0m\u001b[37m\u001b[0m \u001b[1m5s\u001b[0m 4ms/step - accuracy: 0.8033 - loss: 0.4100 - val_accuracy: 0.6990 - val_loss: 1.0302\n"
          ]
        }
      ]
    },
    {
      "cell_type": "code",
      "source": [
        "from sklearn.metrics import (\n",
        "    classification_report,\n",
        "    accuracy_score,\n",
        "    balanced_accuracy_score,\n",
        "    precision_score,\n",
        "    recall_score,\n",
        "    f1_score\n",
        ")\n",
        "\n",
        "\n",
        "y_pred = model.predict(testDataset)\n",
        "y_pred_classes = np.argmax(y_pred, axis=1)  # Convert softmax to class indices\n",
        "\n",
        "y_true = np.concatenate([y for x, y in testDataset], axis=0)\n",
        "\n",
        "# Basic overall metrics\n",
        "print(\"📊 Overall Performance Metrics:\")\n",
        "print(f\"Accuracy: {accuracy_score(y_true, y_pred_classes):.4f}\")\n",
        "print(f\"Balanced Accuracy: {balanced_accuracy_score(y_true, y_pred_classes):.4f}\")\n",
        "print(f\"Macro Precision: {precision_score(y_true, y_pred_classes, average='macro'):.4f}\")\n",
        "print(f\"Macro Recall: {recall_score(y_true, y_pred_classes, average='macro'):.4f}\")\n",
        "print(f\"Macro F1-Score: {f1_score(y_true, y_pred_classes, average='macro'):.4f}\")\n",
        "\n",
        "# Detailed breakdown per class\n",
        "print(\"\\n📋 Classification Report:\")\n",
        "print(classification_report(y_true, y_pred_classes, digits=4))\n"
      ],
      "metadata": {
        "colab": {
          "base_uri": "https://localhost:8080/"
        },
        "id": "-N9Xm2gd_nTl",
        "outputId": "e5ccd831-1011-466f-bdba-30c4bb1310b6"
      },
      "execution_count": null,
      "outputs": [
        {
          "output_type": "stream",
          "name": "stdout",
          "text": [
            "\u001b[1m208/208\u001b[0m \u001b[32m━━━━━━━━━━━━━━━━━━━━\u001b[0m\u001b[37m\u001b[0m \u001b[1m1s\u001b[0m 3ms/step\n",
            "📊 Overall Performance Metrics:\n",
            "Accuracy: 0.7742\n",
            "Balanced Accuracy: 0.7731\n",
            "Macro Precision: 0.7613\n",
            "Macro Recall: 0.7731\n",
            "Macro F1-Score: 0.7640\n",
            "\n",
            "📋 Classification Report:\n",
            "              precision    recall  f1-score   support\n",
            "\n",
            "           0     0.6591    0.6244    0.6413      1347\n",
            "           1     0.8161    0.6650    0.7328      1361\n",
            "           2     0.6484    0.7763    0.7066       228\n",
            "           3     0.9235    0.9775    0.9497      1111\n",
            "           4     0.7597    0.8223    0.7898      2588\n",
            "\n",
            "    accuracy                         0.7742      6635\n",
            "   macro avg     0.7613    0.7731    0.7640      6635\n",
            "weighted avg     0.7744    0.7742    0.7718      6635\n",
            "\n"
          ]
        }
      ]
    }
  ]
}